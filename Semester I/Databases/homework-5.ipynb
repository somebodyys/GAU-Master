{
    "metadata": {
        "kernelspec": {
            "name": "SQL",
            "display_name": "SQL",
            "language": "sql"
        },
        "language_info": {
            "name": "sql",
            "version": ""
        }
    },
    "nbformat_minor": 2,
    "nbformat": 4,
    "cells": [
        {
            "cell_type": "markdown",
            "source": [
                "- Insert Procedure"
            ],
            "metadata": {
                "language": "sql",
                "azdata_cell_guid": "95786105-7ab5-4470-8332-0abd6f7cd302"
            },
            "attachments": {}
        },
        {
            "cell_type": "code",
            "source": [
                "CREATE PROCEDURE InsertSalesperson\n",
                "    @Name VARCHAR(50),\n",
                "    @Age INT,\n",
                "    @Salary MONEY\n",
                "AS\n",
                "BEGIN\n",
                "    INSERT INTO Salesperson (Name, Age, Salary)\n",
                "    VALUES (@Name, @Age, @Salary)\n",
                "END;"
            ],
            "metadata": {
                "azdata_cell_guid": "ce55cb5a-c16d-4e07-bc3e-dd7dbf23cae9",
                "language": "sql"
            },
            "outputs": [
                {
                    "output_type": "display_data",
                    "data": {
                        "text/html": "Commands completed successfully."
                    },
                    "metadata": {}
                },
                {
                    "output_type": "display_data",
                    "data": {
                        "text/html": "Total execution time: 00:00:00.010"
                    },
                    "metadata": {}
                }
            ],
            "execution_count": 1
        },
        {
            "cell_type": "markdown",
            "source": [
                "- Delete Procedure"
            ],
            "metadata": {
                "language": "sql",
                "azdata_cell_guid": "4e5b9b65-1b64-41cf-8536-d9e8b609d544"
            },
            "attachments": {}
        },
        {
            "cell_type": "code",
            "source": [
                "CREATE PROCEDURE DeleteCustomer\n",
                "    @CustomerID INT\n",
                "AS\n",
                "BEGIN\n",
                "    DELETE FROM Customer\n",
                "    WHERE ID = @CustomerID\n",
                "END;"
            ],
            "metadata": {
                "language": "sql",
                "azdata_cell_guid": "759553b7-e3fe-4c19-9aee-a8fa59733067"
            },
            "outputs": [
                {
                    "output_type": "display_data",
                    "data": {
                        "text/html": "Commands completed successfully."
                    },
                    "metadata": {}
                },
                {
                    "output_type": "display_data",
                    "data": {
                        "text/html": "Total execution time: 00:00:00.008"
                    },
                    "metadata": {}
                }
            ],
            "execution_count": 2
        },
        {
            "cell_type": "markdown",
            "source": [
                "- Update Procedure"
            ],
            "metadata": {
                "language": "sql",
                "azdata_cell_guid": "d1d1faf3-3b13-4c3c-ba8b-fcd618fa30bd"
            },
            "attachments": {}
        },
        {
            "cell_type": "code",
            "source": [
                "CREATE PROCEDURE UpdateOrderAmount\n",
                "    @OrderID INT,\n",
                "    @NewAmount MONEY\n",
                "AS\n",
                "BEGIN\n",
                "    UPDATE Orders\n",
                "    SET Amount = @NewAmount\n",
                "    WHERE Number = @OrderID\n",
                "END;"
            ],
            "metadata": {
                "language": "sql",
                "azdata_cell_guid": "f5e44b63-2fad-4e30-85e6-75c18fb74e10",
                "tags": []
            },
            "outputs": [
                {
                    "output_type": "display_data",
                    "data": {
                        "text/html": "Commands completed successfully."
                    },
                    "metadata": {}
                },
                {
                    "output_type": "display_data",
                    "data": {
                        "text/html": "Total execution time: 00:00:00.008"
                    },
                    "metadata": {}
                }
            ],
            "execution_count": 3
        },
        {
            "cell_type": "markdown",
            "source": [
                "- Indexes"
            ],
            "metadata": {
                "language": "sql",
                "azdata_cell_guid": "12cd9586-a25f-465d-88f9-9908b26b7c18"
            },
            "attachments": {}
        },
        {
            "cell_type": "code",
            "source": [
                "CREATE CLUSTERED INDEX CX_Salesperson_ID ON Salesperson(ID);"
            ],
            "metadata": {
                "language": "sql",
                "azdata_cell_guid": "6b928957-7c92-4b34-8643-8173984e731e"
            },
            "outputs": [],
            "execution_count": null
        },
        {
            "cell_type": "code",
            "source": [
                "CREATE NONCLUSTERED INDEX IX_Customer_Name ON Customer(Name);"
            ],
            "metadata": {
                "language": "sql",
                "azdata_cell_guid": "f1e2f612-7cf1-47a9-bf0a-906222996f12"
            },
            "outputs": [
                {
                    "output_type": "display_data",
                    "data": {
                        "text/html": "Commands completed successfully."
                    },
                    "metadata": {}
                },
                {
                    "output_type": "display_data",
                    "data": {
                        "text/html": "Total execution time: 00:00:00.029"
                    },
                    "metadata": {}
                }
            ],
            "execution_count": 4
        },
        {
            "cell_type": "code",
            "source": [
                "CREATE UNIQUE INDEX UQ_Orders_OrderDate ON Orders(order_date);"
            ],
            "metadata": {
                "language": "sql",
                "azdata_cell_guid": "57a3f9be-8a07-416f-afc5-da14682c5272"
            },
            "outputs": [
                {
                    "output_type": "display_data",
                    "data": {
                        "text/html": "Commands completed successfully."
                    },
                    "metadata": {}
                },
                {
                    "output_type": "display_data",
                    "data": {
                        "text/html": "Total execution time: 00:00:00.034"
                    },
                    "metadata": {}
                }
            ],
            "execution_count": 5
        }
    ]
}