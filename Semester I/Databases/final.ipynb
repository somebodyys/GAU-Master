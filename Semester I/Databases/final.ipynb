{
    "metadata": {
        "kernelspec": {
            "name": "SQL",
            "display_name": "SQL",
            "language": "sql"
        },
        "language_info": {
            "name": "sql",
            "version": ""
        }
    },
    "nbformat_minor": 2,
    "nbformat": 4,
    "cells": [
        {
            "cell_type": "markdown",
            "source": [
                "<span style=\"color:rgb(60, 64, 67);font-family:Roboto, Arial, sans-serif;letter-spacing:0.2px;\">მონაცემთა ბაზის კონსტრუირება (ინდექსების დასმა და ცხრილების შორის კავშირების უზრუნველყოფა). (4 ქულა)</span>"
            ],
            "metadata": {
                "azdata_cell_guid": "78f1e560-d722-4a99-9935-497c00d764b0"
            },
            "attachments": {}
        },
        {
            "cell_type": "code",
            "source": [
                "CREATE DATABASE ImaginaryWorld;\n",
                "USE ImaginaryWorld;"
            ],
            "metadata": {
                "azdata_cell_guid": "4591e1c6-d291-4f73-b9e3-24acbfa2b2d3",
                "language": "sql",
                "tags": []
            },
            "outputs": [
                {
                    "output_type": "error",
                    "ename": "",
                    "evalue": "Msg 911, Level 16, State 1, Line 2\nDatabase 'ImaginaryWorld' does not exist. Make sure that the name is entered correctly.",
                    "traceback": []
                },
                {
                    "output_type": "display_data",
                    "data": {
                        "text/html": "Total execution time: 00:00:00.015"
                    },
                    "metadata": {}
                }
            ],
            "execution_count": 5
        },
        {
            "cell_type": "code",
            "source": [
                "CREATE TABLE Creatures (\n",
                "    CreatureID INT PRIMARY KEY IDENTITY(1,1),\n",
                "    Name NVARCHAR(100) NOT NULL,\n",
                "    Type NVARCHAR(50) NOT NULL,\n",
                "    Habitat NVARCHAR(100),\n",
                "    Age INT,\n",
                "    Description NVARCHAR(MAX)\n",
                ");"
            ],
            "metadata": {
                "azdata_cell_guid": "fcab479f-b5cd-458a-a6ad-2fa512150510",
                "language": "sql",
                "tags": []
            },
            "outputs": [
                {
                    "output_type": "display_data",
                    "data": {
                        "text/html": "Commands completed successfully."
                    },
                    "metadata": {}
                },
                {
                    "output_type": "display_data",
                    "data": {
                        "text/html": "Total execution time: 00:00:00.073"
                    },
                    "metadata": {}
                }
            ],
            "execution_count": 28
        },
        {
            "cell_type": "code",
            "source": [
                "CREATE TABLE Spells (\n",
                "    SpellID INT PRIMARY KEY IDENTITY(1,1),\n",
                "    Name NVARCHAR(100) NOT NULL,\n",
                "    Description NVARCHAR(MAX),\n",
                "    PowerLevel INT\n",
                ");"
            ],
            "metadata": {
                "azdata_cell_guid": "41c0341a-5475-49a3-ad59-057a0d5f2091",
                "language": "sql"
            },
            "outputs": [
                {
                    "output_type": "display_data",
                    "data": {
                        "text/html": "Commands completed successfully."
                    },
                    "metadata": {}
                },
                {
                    "output_type": "display_data",
                    "data": {
                        "text/html": "Total execution time: 00:00:00.016"
                    },
                    "metadata": {}
                }
            ],
            "execution_count": 29
        },
        {
            "cell_type": "code",
            "source": [
                "CREATE TABLE Locations (\n",
                "    LocationID INT PRIMARY KEY IDENTITY(1,1),\n",
                "    Name NVARCHAR(100) NOT NULL,\n",
                "    TerrainType NVARCHAR(50),\n",
                "    Climate NVARCHAR(50),\n",
                "    Description NVARCHAR(MAX)\n",
                ");"
            ],
            "metadata": {
                "language": "sql",
                "azdata_cell_guid": "46326a48-6113-4b51-ad23-7419c9f21f79",
                "tags": []
            },
            "outputs": [
                {
                    "output_type": "display_data",
                    "data": {
                        "text/html": "Commands completed successfully."
                    },
                    "metadata": {}
                },
                {
                    "output_type": "display_data",
                    "data": {
                        "text/html": "Total execution time: 00:00:00.022"
                    },
                    "metadata": {}
                }
            ],
            "execution_count": 30
        },
        {
            "cell_type": "code",
            "source": [
                "CREATE TABLE CreaturesSpells (\n",
                "    CreatureID INT,\n",
                "    SpellID INT,\n",
                "    PRIMARY KEY (CreatureID, SpellID),\n",
                "    FOREIGN KEY (CreatureID) REFERENCES Creatures(CreatureID),\n",
                "    FOREIGN KEY (SpellID) REFERENCES Spells(SpellID)\n",
                ");"
            ],
            "metadata": {
                "language": "sql",
                "azdata_cell_guid": "9f52ca11-eb7a-493a-8554-4eac654a0935",
                "tags": []
            },
            "outputs": [
                {
                    "output_type": "display_data",
                    "data": {
                        "text/html": "Commands completed successfully."
                    },
                    "metadata": {}
                },
                {
                    "output_type": "display_data",
                    "data": {
                        "text/html": "Total execution time: 00:00:00.018"
                    },
                    "metadata": {}
                }
            ],
            "execution_count": 31
        },
        {
            "cell_type": "code",
            "source": [
                "CREATE TABLE CreatureLocations (\n",
                "    CreatureID INT,\n",
                "    LocationID INT,\n",
                "    PRIMARY KEY (CreatureID, LocationID),\n",
                "    FOREIGN KEY (CreatureID) REFERENCES Creatures(CreatureID),\n",
                "    FOREIGN KEY (LocationID) REFERENCES Locations(LocationID)\n",
                ");"
            ],
            "metadata": {
                "language": "sql",
                "azdata_cell_guid": "ea2e256b-b582-4877-8ef9-0f651272f4d0"
            },
            "outputs": [
                {
                    "output_type": "display_data",
                    "data": {
                        "text/html": "Commands completed successfully."
                    },
                    "metadata": {}
                },
                {
                    "output_type": "display_data",
                    "data": {
                        "text/html": "Total execution time: 00:00:00.016"
                    },
                    "metadata": {}
                }
            ],
            "execution_count": 32
        },
        {
            "cell_type": "code",
            "source": [
                "-- 1. Modifying a table (Adding a new column to Creatures table)\n",
                "ALTER TABLE Creatures\n",
                "ADD SpecialAbility NVARCHAR(100);\n",
                "\n",
                "-- 2. Altering a table (Changing the data type of a column in Creatures table)\n",
                "ALTER TABLE Creatures\n",
                "ALTER COLUMN Description NVARCHAR(500);\n",
                "\n",
                "-- 3. Deleting a table (Dropping the CreatureLocations table)\n",
                "DROP TABLE CreatureLocations;\n",
                "\n",
                "-- 4. Renaming a table (Renaming the Creatures table to MythicalCreatures)\n",
                "EXEC sp_rename 'Creatures', 'MythicalCreatures';\n",
                "\n",
                "-- 5. Dropping a column from a table (Removing the Age column from MythicalCreatures table)\n",
                "ALTER TABLE MythicalCreatures\n",
                "DROP COLUMN Age;"
            ],
            "metadata": {
                "language": "sql",
                "azdata_cell_guid": "f6fc0ac6-c929-43ed-98dd-675891a422ce"
            },
            "outputs": [],
            "execution_count": null
        },
        {
            "cell_type": "code",
            "source": [
                "CREATE INDEX IX_Creature_Name ON Creatures(Name);\n",
                "CREATE INDEX IX_Spell_Name ON Spells(Name);\n",
                "CREATE INDEX IX_Location_Name ON Locations(Name);\n",
                "CREATE INDEX IX_CreatureLocations_CreatureID_LocationID ON CreatureLocations(CreatureID, LocationID);\n",
                "CREATE INDEX IX_Spell_PowerLevel ON Spells(PowerLevel);\n",
                "-- CREATE CLUSTERED INDEX CIX_Location_LocationID ON Locations(LocationID);\n",
                "CREATE NONCLUSTERED INDEX NCIX_Location_Terrain_Climate ON Locations(TerrainType, Climate);"
            ],
            "metadata": {
                "language": "sql",
                "azdata_cell_guid": "55b4c8a8-7ac6-425a-b1ca-391bc923f7c8",
                "tags": []
            },
            "outputs": [
                {
                    "output_type": "display_data",
                    "data": {
                        "text/html": "Commands completed successfully."
                    },
                    "metadata": {}
                },
                {
                    "output_type": "display_data",
                    "data": {
                        "text/html": "Total execution time: 00:00:00.029"
                    },
                    "metadata": {}
                }
            ],
            "execution_count": 33
        },
        {
            "cell_type": "code",
            "source": [
                "SELECT Name, Type, Habitat\n",
                "FROM Creatures\n",
                "WHERE Type = 'Dragon'\n",
                "ORDER BY Name;"
            ],
            "metadata": {
                "language": "sql",
                "azdata_cell_guid": "31f69a26-2e64-47a3-9f38-0c27955fb48b",
                "tags": []
            },
            "outputs": [],
            "execution_count": null
        },
        {
            "cell_type": "code",
            "source": [
                "SELECT c.Name, c.Type, COUNT(cs.SpellID) AS SpellCount\n",
                "FROM Creatures c\n",
                "LEFT JOIN CreaturesSpells cs ON c.CreatureID = cs.CreatureID\n",
                "GROUP BY c.Name, c.Type;"
            ],
            "metadata": {
                "language": "sql",
                "azdata_cell_guid": "fb37e536-7507-456b-b307-09a2556a2b38"
            },
            "outputs": [],
            "execution_count": null
        },
        {
            "cell_type": "code",
            "source": [
                "SELECT Type, COUNT(*) AS CreatureCount\n",
                "FROM Creatures\n",
                "GROUP BY Type\n",
                "HAVING COUNT(*) > 3;"
            ],
            "metadata": {
                "language": "sql",
                "azdata_cell_guid": "37e5dda8-1217-426c-b5dc-c044454642ea"
            },
            "outputs": [],
            "execution_count": null
        },
        {
            "cell_type": "code",
            "source": [
                "SELECT TOP 5 Name, Description\n",
                "FROM Creatures\n",
                "ORDER BY CreatureID DESC;"
            ],
            "metadata": {
                "language": "sql",
                "azdata_cell_guid": "e2458dec-0df0-44ba-b767-7776754ddb72"
            },
            "outputs": [],
            "execution_count": null
        },
        {
            "cell_type": "code",
            "source": [
                "SELECT Type, MIN(Age) AS MinAge, MAX(Age) AS MaxAge, AVG(Age) AS AvgAge, SUM(Age) AS TotalAge\n",
                "FROM Creatures\n",
                "GROUP BY Type;"
            ],
            "metadata": {
                "language": "sql",
                "azdata_cell_guid": "b0e5a54a-0bc9-47a9-9db4-8609c415d0ab"
            },
            "outputs": [],
            "execution_count": null
        },
        {
            "cell_type": "code",
            "source": [
                "SELECT Name, Type\n",
                "FROM Creatures\n",
                "WHERE Type = 'Dragon' AND Habitat = 'Mountains';"
            ],
            "metadata": {
                "language": "sql",
                "azdata_cell_guid": "d6f7da37-02b3-4b4f-92af-66a05d8a6af6"
            },
            "outputs": [],
            "execution_count": null
        },
        {
            "cell_type": "code",
            "source": [
                "CREATE TABLE Events (\n",
                "    EventID INT PRIMARY KEY IDENTITY(1,1),\n",
                "    EventName NVARCHAR(100) NOT NULL,\n",
                "    EventDate DATE NOT NULL\n",
                ");\n",
                "\n",
                "INSERT INTO Events (EventName, EventDate)\n",
                "VALUES ('Dragon Festival', '2023-07-15'),\n",
                "       ('Wizard Convention', '2023-09-20');\n",
                "\n",
                "SELECT EventName, EventDate\n",
                "FROM Events\n",
                "WHERE EventDate > '2023-08-01';"
            ],
            "metadata": {
                "language": "sql",
                "azdata_cell_guid": "02d7ffd8-4ca0-4a3d-8ac3-d9166071dca8"
            },
            "outputs": [],
            "execution_count": null
        },
        {
            "cell_type": "code",
            "source": [
                "SELECT c.Name, s.Name AS SpellName\n",
                "FROM Creatures c\n",
                "INNER JOIN CreaturesSpells cs ON c.CreatureID = cs.CreatureID\n",
                "INNER JOIN Spells s ON cs.SpellID = s.SpellID;\n",
                ""
            ],
            "metadata": {
                "language": "sql",
                "azdata_cell_guid": "d0bdeac0-d27b-4ea7-800f-1bcb296b7fd3"
            },
            "outputs": [],
            "execution_count": null
        },
        {
            "cell_type": "code",
            "source": [
                "SELECT c.Name, cs.SpellID\n",
                "FROM Creatures c\n",
                "LEFT JOIN CreaturesSpells cs ON c.CreatureID = cs.CreatureID;\n",
                ""
            ],
            "metadata": {
                "language": "sql",
                "azdata_cell_guid": "bb65c1d9-89fa-43c3-9c03-255a18ca42c0"
            },
            "outputs": [],
            "execution_count": null
        },
        {
            "cell_type": "code",
            "source": [
                "SELECT c.Name, cs.SpellID\n",
                "FROM CreaturesSpells cs\n",
                "RIGHT JOIN Creatures c ON cs.CreatureID = c.CreatureID;\n",
                ""
            ],
            "metadata": {
                "language": "sql",
                "azdata_cell_guid": "b380ed72-f8a2-4de3-8745-40c4066062f9"
            },
            "outputs": [],
            "execution_count": null
        },
        {
            "cell_type": "code",
            "source": [
                "SELECT Name, Type\n",
                "FROM Creatures\n",
                "WHERE Name LIKE '%dragon%';\n",
                ""
            ],
            "metadata": {
                "language": "sql",
                "azdata_cell_guid": "2328c172-029c-4434-81dc-fc34223c04ad"
            },
            "outputs": [],
            "execution_count": null
        },
        {
            "cell_type": "markdown",
            "source": [
                "<span style=\"color:rgb(60, 64, 67);font-family:Roboto, Arial, sans-serif;letter-spacing:0.2px;\">ცხრილ(ებ)ში მონაცემების ჩამატება/რედაქტირება პროცედურების (Procedure) გამოყენებით. თუ პროცედურის ბიზნეს ლოგიკა (დანიშნულება) ისეთია, რომ ერთდროულად რამდენიმე ცხრილში ხდება ინფორმაციის შენახვა/რედაქტირება სავალდებულოა ტრანზაქციების გამოყენება.</span>"
            ],
            "metadata": {
                "language": "sql",
                "azdata_cell_guid": "682931d4-e2f4-4c7d-bba1-18afa5e2f425"
            },
            "attachments": {}
        },
        {
            "cell_type": "code",
            "source": [
                "CREATE PROCEDURE InsertIntoCreatures\n",
                "    @Name NVARCHAR(100),\n",
                "    @Type NVARCHAR(50),\n",
                "    @Habitat NVARCHAR(100),\n",
                "    @Age INT,\n",
                "    @Description NVARCHAR(MAX)\n",
                "AS\n",
                "BEGIN\n",
                "    INSERT INTO Creatures (Name, Type, Habitat, Age, Description)\n",
                "    VALUES (@Name, @Type, @Habitat, @Age, @Description)\n",
                "END;"
            ],
            "metadata": {
                "language": "sql",
                "azdata_cell_guid": "3f3937a5-2e04-4e22-aa28-9f4a470171c6"
            },
            "outputs": [
                {
                    "output_type": "display_data",
                    "data": {
                        "text/html": "Commands completed successfully."
                    },
                    "metadata": {}
                },
                {
                    "output_type": "display_data",
                    "data": {
                        "text/html": "Total execution time: 00:00:00.020"
                    },
                    "metadata": {}
                }
            ],
            "execution_count": 34
        },
        {
            "cell_type": "code",
            "source": [
                "CREATE PROCEDURE InsertIntoSpells\n",
                "    @Name NVARCHAR(100),\n",
                "    @Description NVARCHAR(MAX),\n",
                "    @PowerLevel INT\n",
                "AS\n",
                "BEGIN\n",
                "    INSERT INTO Spells (Name, Description, PowerLevel)\n",
                "    VALUES (@Name, @Description, @PowerLevel)\n",
                "END;\n",
                ""
            ],
            "metadata": {
                "language": "sql",
                "azdata_cell_guid": "035790de-b1c6-45e4-abfa-d33351d02cca"
            },
            "outputs": [
                {
                    "output_type": "display_data",
                    "data": {
                        "text/html": "Commands completed successfully."
                    },
                    "metadata": {}
                },
                {
                    "output_type": "display_data",
                    "data": {
                        "text/html": "Total execution time: 00:00:00.018"
                    },
                    "metadata": {}
                }
            ],
            "execution_count": 35
        },
        {
            "cell_type": "code",
            "source": [
                "CREATE PROCEDURE InsertIntoLocations\n",
                "    @Name NVARCHAR(100),\n",
                "    @TerrainType NVARCHAR(50),\n",
                "    @Climate NVARCHAR(50),\n",
                "    @Description NVARCHAR(MAX)\n",
                "AS\n",
                "BEGIN\n",
                "    INSERT INTO Locations (Name, TerrainType, Climate, Description)\n",
                "    VALUES (@Name, @TerrainType, @Climate, @Description)\n",
                "END;"
            ],
            "metadata": {
                "language": "sql",
                "azdata_cell_guid": "f625101c-9c0c-4dd6-b198-0981b7f528b7"
            },
            "outputs": [
                {
                    "output_type": "display_data",
                    "data": {
                        "text/html": "Commands completed successfully."
                    },
                    "metadata": {}
                },
                {
                    "output_type": "display_data",
                    "data": {
                        "text/html": "Total execution time: 00:00:00.042"
                    },
                    "metadata": {}
                }
            ],
            "execution_count": 36
        },
        {
            "cell_type": "code",
            "source": [
                "CREATE PROCEDURE InsertIntoCreaturesSpells\n",
                "    @CreatureID INT,\n",
                "    @SpellID INT\n",
                "AS\n",
                "BEGIN\n",
                "    INSERT INTO CreaturesSpells (CreatureID, SpellID)\n",
                "    VALUES (@CreatureID, @SpellID)\n",
                "END;"
            ],
            "metadata": {
                "language": "sql",
                "azdata_cell_guid": "9bf0c748-42aa-4db6-88f2-80e8bab818f7"
            },
            "outputs": [
                {
                    "output_type": "display_data",
                    "data": {
                        "text/html": "Commands completed successfully."
                    },
                    "metadata": {}
                },
                {
                    "output_type": "display_data",
                    "data": {
                        "text/html": "Total execution time: 00:00:00.024"
                    },
                    "metadata": {}
                }
            ],
            "execution_count": 37
        },
        {
            "cell_type": "code",
            "source": [
                "CREATE PROCEDURE InsertIntoCreatureLocations\n",
                "    @CreatureID INT,\n",
                "    @LocationID INT\n",
                "AS\n",
                "BEGIN\n",
                "    INSERT INTO CreatureLocations (CreatureID, LocationID)\n",
                "    VALUES (@CreatureID, @LocationID)\n",
                "END;"
            ],
            "metadata": {
                "language": "sql",
                "azdata_cell_guid": "848c1b91-ef80-45b8-9f78-864300f0b50d"
            },
            "outputs": [
                {
                    "output_type": "display_data",
                    "data": {
                        "text/html": "Commands completed successfully."
                    },
                    "metadata": {}
                },
                {
                    "output_type": "display_data",
                    "data": {
                        "text/html": "Total execution time: 00:00:00.006"
                    },
                    "metadata": {}
                }
            ],
            "execution_count": 38
        },
        {
            "cell_type": "code",
            "source": [
                "BEGIN TRANSACTION\n",
                "    EXEC InsertIntoCreatures 'Dragon', 'Mythical', 'Mountains', 500, 'A mighty fire-breathing creature with scales.';\n",
                "    EXEC InsertIntoCreatures 'Phoenix', 'Mythical', 'Volcanoes', 1000, 'A mystical bird that rises from its ashes.';\n",
                "\n",
                "    EXEC InsertIntoSpells 'Fireball', 'Creates a ball of fire', 5;\n",
                "    EXEC InsertIntoSpells 'Teleportation', 'Moves instantly from one place to another', 7;\n",
                "\n",
                "    EXEC InsertIntoLocations 'Dragon Lair', 'Mountain', 'Harsh', 'A cave hidden deep within the mountains.';\n",
                "    EXEC InsertIntoLocations 'Phoenix Roost', 'Volcanic', 'Hot', 'A high cliff surrounded by molten lava.';\n",
                "    EXEC InsertIntoCreaturesSpells 1, 1; \n",
                "    EXEC InsertIntoCreaturesSpells 2, 2; \n",
                "\n",
                "    EXEC InsertIntoCreatureLocations 1, 1;\n",
                "    EXEC InsertIntoCreatureLocations 2, 2;\n",
                "COMMIT TRANSACTION"
            ],
            "metadata": {
                "language": "sql",
                "azdata_cell_guid": "3abb56a8-a7f8-493c-8ee6-0c58380e1d0e",
                "tags": []
            },
            "outputs": [
                {
                    "output_type": "display_data",
                    "data": {
                        "text/html": "(1 row affected)"
                    },
                    "metadata": {}
                },
                {
                    "output_type": "display_data",
                    "data": {
                        "text/html": "(1 row affected)"
                    },
                    "metadata": {}
                },
                {
                    "output_type": "display_data",
                    "data": {
                        "text/html": "(1 row affected)"
                    },
                    "metadata": {}
                },
                {
                    "output_type": "display_data",
                    "data": {
                        "text/html": "(1 row affected)"
                    },
                    "metadata": {}
                },
                {
                    "output_type": "display_data",
                    "data": {
                        "text/html": "(1 row affected)"
                    },
                    "metadata": {}
                },
                {
                    "output_type": "display_data",
                    "data": {
                        "text/html": "(1 row affected)"
                    },
                    "metadata": {}
                },
                {
                    "output_type": "display_data",
                    "data": {
                        "text/html": "(1 row affected)"
                    },
                    "metadata": {}
                },
                {
                    "output_type": "display_data",
                    "data": {
                        "text/html": "(1 row affected)"
                    },
                    "metadata": {}
                },
                {
                    "output_type": "display_data",
                    "data": {
                        "text/html": "(1 row affected)"
                    },
                    "metadata": {}
                },
                {
                    "output_type": "display_data",
                    "data": {
                        "text/html": "(1 row affected)"
                    },
                    "metadata": {}
                },
                {
                    "output_type": "display_data",
                    "data": {
                        "text/html": "Total execution time: 00:00:00.031"
                    },
                    "metadata": {}
                }
            ],
            "execution_count": 39
        },
        {
            "cell_type": "markdown",
            "source": [
                "<span style=\"color:rgb(60, 64, 67);font-family:Roboto, Arial, sans-serif;letter-spacing:0.2px;\">ფუნქციების (Functions) შექმნა/გამოყენება. შენიშვნა: ფუნქციების შექმნისას სავალდებულია გამოიყენოთ T-SQL-ის ინსტრუმენტები (მმართველი კონსტრუქციები, ლოგიკის ოპერატორები, სიმბოლური ტიპის მონაცემებთან მუშაობა, თარიღისა და დროის მონაცემებთან მუშაობა).&nbsp;</span>"
            ],
            "metadata": {
                "language": "sql",
                "azdata_cell_guid": "2bf620e4-df74-48ca-adaa-d4ecf1aaaf58"
            },
            "attachments": {}
        },
        {
            "cell_type": "code",
            "source": [
                "CREATE FUNCTION CalculateCreatureAgeDifference (\n",
                "    @Creature1Age INT,\n",
                "    @Creature2Age INT\n",
                ")\n",
                "RETURNS INT\n",
                "AS\n",
                "BEGIN\n",
                "    DECLARE @AgeDifference INT\n",
                "    SET @AgeDifference = ABS(@Creature1Age - @Creature2Age)\n",
                "    RETURN @AgeDifference\n",
                "END;"
            ],
            "metadata": {
                "language": "sql",
                "azdata_cell_guid": "59004e85-83ef-416e-96aa-912f8219bc75"
            },
            "outputs": [
                {
                    "output_type": "display_data",
                    "data": {
                        "text/html": "Commands completed successfully."
                    },
                    "metadata": {}
                },
                {
                    "output_type": "display_data",
                    "data": {
                        "text/html": "Total execution time: 00:00:00.044"
                    },
                    "metadata": {}
                }
            ],
            "execution_count": 40
        },
        {
            "cell_type": "code",
            "source": [
                "CREATE FUNCTION DetermineSpellPowerStatus (\n",
                "    @PowerLevel INT,\n",
                "    @Threshold INT\n",
                ")\n",
                "RETURNS NVARCHAR(50)\n",
                "AS\n",
                "BEGIN\n",
                "    DECLARE @Status NVARCHAR(50)\n",
                "    IF @PowerLevel >= @Threshold\n",
                "        SET @Status = 'High Power'\n",
                "    ELSE\n",
                "        SET @Status = 'Low Power'\n",
                "    RETURN @Status\n",
                "END;"
            ],
            "metadata": {
                "language": "sql",
                "azdata_cell_guid": "bf41dc07-9d1a-41e8-a4ae-97f3827c74d3"
            },
            "outputs": [
                {
                    "output_type": "display_data",
                    "data": {
                        "text/html": "Commands completed successfully."
                    },
                    "metadata": {}
                },
                {
                    "output_type": "display_data",
                    "data": {
                        "text/html": "Total execution time: 00:00:00.030"
                    },
                    "metadata": {}
                }
            ],
            "execution_count": 41
        },
        {
            "cell_type": "code",
            "source": [
                "CREATE FUNCTION FormatCreatureDescription (\n",
                "    @Description NVARCHAR(MAX)\n",
                ")\n",
                "RETURNS NVARCHAR(MAX)\n",
                "AS\n",
                "BEGIN\n",
                "    DECLARE @FormattedDescription NVARCHAR(MAX)\n",
                "    SET @FormattedDescription = '*** ' + @Description + ' ***'\n",
                "    RETURN @FormattedDescription\n",
                "END;"
            ],
            "metadata": {
                "language": "sql",
                "azdata_cell_guid": "80c61483-da08-4881-a6ef-a0d9c6edd693"
            },
            "outputs": [
                {
                    "output_type": "display_data",
                    "data": {
                        "text/html": "Commands completed successfully."
                    },
                    "metadata": {}
                },
                {
                    "output_type": "display_data",
                    "data": {
                        "text/html": "Total execution time: 00:00:00.017"
                    },
                    "metadata": {}
                }
            ],
            "execution_count": 42
        },
        {
            "cell_type": "code",
            "source": [
                "CREATE FUNCTION CalculateAgeFromBirthdate (\n",
                "    @Birthdate DATETIME\n",
                ")\n",
                "RETURNS INT\n",
                "AS\n",
                "BEGIN\n",
                "    DECLARE @Age INT\n",
                "    SET @Age = DATEDIFF(YEAR, @Birthdate, GETDATE())\n",
                "    RETURN @Age\n",
                "END;"
            ],
            "metadata": {
                "language": "sql",
                "azdata_cell_guid": "70270a81-c414-475f-a8ed-d35356889117"
            },
            "outputs": [
                {
                    "output_type": "display_data",
                    "data": {
                        "text/html": "Commands completed successfully."
                    },
                    "metadata": {}
                },
                {
                    "output_type": "display_data",
                    "data": {
                        "text/html": "Total execution time: 00:00:00.022"
                    },
                    "metadata": {}
                }
            ],
            "execution_count": 43
        },
        {
            "cell_type": "code",
            "source": [
                "CREATE FUNCTION CheckTerrainClimateMatch (\n",
                "    @TerrainType NVARCHAR(50),\n",
                "    @Climate NVARCHAR(50)\n",
                ")\n",
                "RETURNS BIT\n",
                "AS\n",
                "BEGIN\n",
                "    DECLARE @Match BIT\n",
                "    IF @TerrainType = @Climate\n",
                "        SET @Match = 1\n",
                "    ELSE\n",
                "        SET @Match = 0\n",
                "    RETURN @Match\n",
                "END;"
            ],
            "metadata": {
                "language": "sql",
                "azdata_cell_guid": "91c638a5-a505-4ca6-8465-de77fc44e457"
            },
            "outputs": [
                {
                    "output_type": "display_data",
                    "data": {
                        "text/html": "Commands completed successfully."
                    },
                    "metadata": {}
                },
                {
                    "output_type": "display_data",
                    "data": {
                        "text/html": "Total execution time: 00:00:00.023"
                    },
                    "metadata": {}
                }
            ],
            "execution_count": 44
        },
        {
            "cell_type": "code",
            "source": [
                "CREATE FUNCTION CategorizeSpell (\n",
                "    @PowerLevel INT\n",
                ")\n",
                "RETURNS NVARCHAR(50)\n",
                "AS\n",
                "BEGIN\n",
                "    DECLARE @SpellCategory NVARCHAR(50)\n",
                "\n",
                "    SET @SpellCategory = \n",
                "        CASE \n",
                "            WHEN @PowerLevel >= 10 THEN 'High-Level Spell'\n",
                "            WHEN @PowerLevel >= 5 AND @PowerLevel < 10 THEN 'Medium-Level Spell'\n",
                "            ELSE 'Low-Level Spell'\n",
                "        END\n",
                "\n",
                "    RETURN @SpellCategory\n",
                "END;"
            ],
            "metadata": {
                "language": "sql",
                "azdata_cell_guid": "72c075ed-66c0-4fe1-ab91-3fb2675b8c6d"
            },
            "outputs": [
                {
                    "output_type": "display_data",
                    "data": {
                        "text/html": "Commands completed successfully."
                    },
                    "metadata": {}
                },
                {
                    "output_type": "display_data",
                    "data": {
                        "text/html": "Total execution time: 00:00:00.027"
                    },
                    "metadata": {}
                }
            ],
            "execution_count": 45
        },
        {
            "cell_type": "markdown",
            "source": [
                "<span style=\"color:rgb(60, 64, 67);font-family:Roboto, Arial, sans-serif;letter-spacing:0.2px;\">წარმოდგენების (View) შექმნა JOIN კონსტრუქციებისა და ცხრილიდან მონაცემების ამორჩევის ბრძანების ელემენტების გამოყენებით (FROM, WHERE, GROUP BY, HAVING, SELECT, ORDER BY, TOP და სხვ.).&nbsp;</span>"
            ],
            "metadata": {
                "language": "sql",
                "azdata_cell_guid": "7abf1c79-da00-4bc7-95fb-0eca8d7ceae2"
            },
            "attachments": {}
        },
        {
            "cell_type": "code",
            "source": [
                "CREATE VIEW CreatureSpellLocationView AS\n",
                "SELECT TOP 10 \n",
                "    Creatures.Name AS CreatureName,\n",
                "    Spells.Name AS SpellName,\n",
                "    Locations.Name AS LocationName,\n",
                "    COUNT(*) AS SpellCount,\n",
                "    AVG(Creatures.Age) AS AverageAge\n",
                "FROM \n",
                "    Creatures\n",
                "JOIN CreaturesSpells ON Creatures.CreatureID = CreaturesSpells.CreatureID\n",
                "JOIN Spells ON CreaturesSpells.SpellID = Spells.SpellID\n",
                "JOIN CreatureLocations ON Creatures.CreatureID = CreatureLocations.CreatureID\n",
                "JOIN Locations ON CreatureLocations.LocationID = Locations.LocationID\n",
                "WHERE Creatures.Age > 100\n",
                "GROUP BY Creatures.Name, Spells.Name, Locations.Name\n",
                "HAVING COUNT(*) > 1\n",
                "ORDER BY AverageAge DESC;\n",
                ""
            ],
            "metadata": {
                "language": "sql",
                "azdata_cell_guid": "8e666a94-317c-49f3-8bb0-a64c73d2afb9"
            },
            "outputs": [
                {
                    "output_type": "error",
                    "ename": "",
                    "evalue": "Msg 2714, Level 16, State 3, Procedure CreatureSpellLocationView, Line 1\nThere is already an object named 'CreatureSpellLocationView' in the database.",
                    "traceback": []
                },
                {
                    "output_type": "display_data",
                    "data": {
                        "text/html": "Total execution time: 00:00:00.026"
                    },
                    "metadata": {}
                }
            ],
            "execution_count": 48
        },
        {
            "cell_type": "code",
            "source": [
                "UPDATE c1\n",
                "SET c1.Age = CASE\n",
                "    WHEN c2.Age < 50 THEN c1.Age + 2\n",
                "    ELSE c1.Age - 1\n",
                "END\n",
                "FROM Creatures c1\n",
                "INNER JOIN Creatures c2 ON c1.CreatureID = c2.CreatureID - 1;"
            ],
            "metadata": {
                "language": "sql",
                "azdata_cell_guid": "6a9ec1bd-4436-4b43-b116-ec329751dd6a"
            },
            "outputs": [],
            "execution_count": null
        },
        {
            "cell_type": "markdown",
            "source": [
                "- <span style=\"color: var(--tw-prose-bold); font-family: Söhne, ui-sans-serif, system-ui, -apple-system, &quot;Segoe UI&quot;, Roboto, Ubuntu, Cantarell, &quot;Noto Sans&quot;, sans-serif, &quot;Helvetica Neue&quot;, Arial, &quot;Apple Color Emoji&quot;, &quot;Segoe UI Emoji&quot;, &quot;Segoe UI Symbol&quot;, &quot;Noto Color Emoji&quot;; font-size: 16px; white-space: pre-wrap; border: 0px solid rgb(217, 217, 227); box-sizing: border-box; --tw-border-spacing-x: 0; --tw-border-spacing-y: 0; --tw-translate-x: 0; --tw-translate-y: 0; --tw-rotate: 0; --tw-skew-x: 0; --tw-skew-y: 0; --tw-scale-x: 1; --tw-scale-y: 1; --tw-pan-x: ; --tw-pan-y: ; --tw-pinch-zoom: ; --tw-scroll-snap-strictness: proximity; --tw-gradient-from-position: ; --tw-gradient-via-position: ; --tw-gradient-to-position: ; --tw-ordinal: ; --tw-slashed-zero: ; --tw-numeric-figure: ; --tw-numeric-spacing: ; --tw-numeric-fraction: ; --tw-ring-inset: ; --tw-ring-offset-width: 0px; --tw-ring-offset-color: #fff; --tw-ring-color: rgba(69,89,164,0.5); --tw-ring-offset-shadow: 0 0 transparent; --tw-ring-shadow: 0 0 transparent; --tw-shadow: 0 0 transparent; --tw-shadow-colored: 0 0 transparent; --tw-blur: ; --tw-brightness: ; --tw-contrast: ; --tw-grayscale: ; --tw-hue-rotate: ; --tw-invert: ; --tw-saturate: ; --tw-sepia: ; --tw-drop-shadow: ; --tw-backdrop-blur: ; --tw-backdrop-brightness: ; --tw-backdrop-contrast: ; --tw-backdrop-grayscale: ; --tw-backdrop-hue-rotate: ; --tw-backdrop-invert: ; --tw-backdrop-opacity: ; --tw-backdrop-saturate: ; --tw-backdrop-sepia: ; font-weight: 600; margin-top: 1.25em;\">Incorrect Sequential Logic:</span>  <span style=\"color: rgb(55, 65, 81); font-family: Söhne, ui-sans-serif, system-ui, -apple-system, &quot;Segoe UI&quot;, Roboto, Ubuntu, Cantarell, &quot;Noto Sans&quot;, sans-serif, &quot;Helvetica Neue&quot;, Arial, &quot;Apple Color Emoji&quot;, &quot;Segoe UI Emoji&quot;, &quot;Segoe UI Symbol&quot;, &quot;Noto Color Emoji&quot;; font-size: 16px; white-space: pre-wrap;\"> This script attempts to join each row in the </span>  `Creatures`  <span style=\"color: rgb(55, 65, 81); font-family: Söhne, ui-sans-serif, system-ui, -apple-system, &quot;Segoe UI&quot;, Roboto, Ubuntu, Cantarell, &quot;Noto Sans&quot;, sans-serif, &quot;Helvetica Neue&quot;, Arial, &quot;Apple Color Emoji&quot;, &quot;Segoe UI Emoji&quot;, &quot;Segoe UI Symbol&quot;, &quot;Noto Color Emoji&quot;; font-size: 16px; white-space: pre-wrap;\"> table with its \"previous\" row by matching </span>  `CreatureID - 1`<span style=\"color: rgb(55, 65, 81); font-family: Söhne, ui-sans-serif, system-ui, -apple-system, &quot;Segoe UI&quot;, Roboto, Ubuntu, Cantarell, &quot;Noto Sans&quot;, sans-serif, &quot;Helvetica Neue&quot;, Arial, &quot;Apple Color Emoji&quot;, &quot;Segoe UI Emoji&quot;, &quot;Segoe UI Symbol&quot;, &quot;Noto Color Emoji&quot;; font-size: 16px; white-space: pre-wrap;\">. However, this assumes that </span>  `CreatureID`  <span style=\"color: rgb(55, 65, 81); font-family: Söhne, ui-sans-serif, system-ui, -apple-system, &quot;Segoe UI&quot;, Roboto, Ubuntu, Cantarell, &quot;Noto Sans&quot;, sans-serif, &quot;Helvetica Neue&quot;, Arial, &quot;Apple Color Emoji&quot;, &quot;Segoe UI Emoji&quot;, &quot;Segoe UI Symbol&quot;, &quot;Noto Color Emoji&quot;; font-size: 16px; white-space: pre-wrap;\"> are in perfect sequential order with no gaps, which is often not the case in real-world scenarios (due to deletions or other factors).</span>\n",
                "- <span style=\"color: var(--tw-prose-bold); font-family: Söhne, ui-sans-serif, system-ui, -apple-system, &quot;Segoe UI&quot;, Roboto, Ubuntu, Cantarell, &quot;Noto Sans&quot;, sans-serif, &quot;Helvetica Neue&quot;, Arial, &quot;Apple Color Emoji&quot;, &quot;Segoe UI Emoji&quot;, &quot;Segoe UI Symbol&quot;, &quot;Noto Color Emoji&quot;; font-size: 16px; white-space: pre-wrap; border: 0px solid rgb(217, 217, 227); box-sizing: border-box; --tw-border-spacing-x: 0; --tw-border-spacing-y: 0; --tw-translate-x: 0; --tw-translate-y: 0; --tw-rotate: 0; --tw-skew-x: 0; --tw-skew-y: 0; --tw-scale-x: 1; --tw-scale-y: 1; --tw-pan-x: ; --tw-pan-y: ; --tw-pinch-zoom: ; --tw-scroll-snap-strictness: proximity; --tw-gradient-from-position: ; --tw-gradient-via-position: ; --tw-gradient-to-position: ; --tw-ordinal: ; --tw-slashed-zero: ; --tw-numeric-figure: ; --tw-numeric-spacing: ; --tw-numeric-fraction: ; --tw-ring-inset: ; --tw-ring-offset-width: 0px; --tw-ring-offset-color: #fff; --tw-ring-color: rgba(69,89,164,0.5); --tw-ring-offset-shadow: 0 0 transparent; --tw-ring-shadow: 0 0 transparent; --tw-shadow: 0 0 transparent; --tw-shadow-colored: 0 0 transparent; --tw-blur: ; --tw-brightness: ; --tw-contrast: ; --tw-grayscale: ; --tw-hue-rotate: ; --tw-invert: ; --tw-saturate: ; --tw-sepia: ; --tw-drop-shadow: ; --tw-backdrop-blur: ; --tw-backdrop-brightness: ; --tw-backdrop-contrast: ; --tw-backdrop-grayscale: ; --tw-backdrop-hue-rotate: ; --tw-backdrop-invert: ; --tw-backdrop-opacity: ; --tw-backdrop-saturate: ; --tw-backdrop-sepia: ; font-weight: 600; margin-top: 1.25em;\">Incomplete Updates:</span>  <span style=\"color: rgb(55, 65, 81); font-family: Söhne, ui-sans-serif, system-ui, -apple-system, &quot;Segoe UI&quot;, Roboto, Ubuntu, Cantarell, &quot;Noto Sans&quot;, sans-serif, &quot;Helvetica Neue&quot;, Arial, &quot;Apple Color Emoji&quot;, &quot;Segoe UI Emoji&quot;, &quot;Segoe UI Symbol&quot;, &quot;Noto Color Emoji&quot;; font-size: 16px; white-space: pre-wrap;\"> Only creatures whose </span>  `CreatureID`  <span style=\"color: rgb(55, 65, 81); font-family: Söhne, ui-sans-serif, system-ui, -apple-system, &quot;Segoe UI&quot;, Roboto, Ubuntu, Cantarell, &quot;Noto Sans&quot;, sans-serif, &quot;Helvetica Neue&quot;, Arial, &quot;Apple Color Emoji&quot;, &quot;Segoe UI Emoji&quot;, &quot;Segoe UI Symbol&quot;, &quot;Noto Color Emoji&quot;; font-size: 16px; white-space: pre-wrap;\"> is exactly one more than another creature's </span>  `CreatureID`  <span style=\"color: rgb(55, 65, 81); font-family: Söhne, ui-sans-serif, system-ui, -apple-system, &quot;Segoe UI&quot;, Roboto, Ubuntu, Cantarell, &quot;Noto Sans&quot;, sans-serif, &quot;Helvetica Neue&quot;, Arial, &quot;Apple Color Emoji&quot;, &quot;Segoe UI Emoji&quot;, &quot;Segoe UI Symbol&quot;, &quot;Noto Color Emoji&quot;; font-size: 16px; white-space: pre-wrap;\"> get updated. This leaves out the first creature (as there's no </span>  `CreatureID - 1`  <span style=\"color: rgb(55, 65, 81); font-family: Söhne, ui-sans-serif, system-ui, -apple-system, &quot;Segoe UI&quot;, Roboto, Ubuntu, Cantarell, &quot;Noto Sans&quot;, sans-serif, &quot;Helvetica Neue&quot;, Arial, &quot;Apple Color Emoji&quot;, &quot;Segoe UI Emoji&quot;, &quot;Segoe UI Symbol&quot;, &quot;Noto Color Emoji&quot;; font-size: 16px; white-space: pre-wrap;\"> for it) and any creatures following gaps in the </span>  `CreatureID`  <span style=\"color: rgb(55, 65, 81); font-family: Söhne, ui-sans-serif, system-ui, -apple-system, &quot;Segoe UI&quot;, Roboto, Ubuntu, Cantarell, &quot;Noto Sans&quot;, sans-serif, &quot;Helvetica Neue&quot;, Arial, &quot;Apple Color Emoji&quot;, &quot;Segoe UI Emoji&quot;, &quot;Segoe UI Symbol&quot;, &quot;Noto Color Emoji&quot;; font-size: 16px; white-space: pre-wrap;\"> sequence.</span>\n",
                "- <span style=\"color: var(--tw-prose-bold); font-family: Söhne, ui-sans-serif, system-ui, -apple-system, &quot;Segoe UI&quot;, Roboto, Ubuntu, Cantarell, &quot;Noto Sans&quot;, sans-serif, &quot;Helvetica Neue&quot;, Arial, &quot;Apple Color Emoji&quot;, &quot;Segoe UI Emoji&quot;, &quot;Segoe UI Symbol&quot;, &quot;Noto Color Emoji&quot;; font-size: 16px; white-space: pre-wrap; border: 0px solid rgb(217, 217, 227); box-sizing: border-box; --tw-border-spacing-x: 0; --tw-border-spacing-y: 0; --tw-translate-x: 0; --tw-translate-y: 0; --tw-rotate: 0; --tw-skew-x: 0; --tw-skew-y: 0; --tw-scale-x: 1; --tw-scale-y: 1; --tw-pan-x: ; --tw-pan-y: ; --tw-pinch-zoom: ; --tw-scroll-snap-strictness: proximity; --tw-gradient-from-position: ; --tw-gradient-via-position: ; --tw-gradient-to-position: ; --tw-ordinal: ; --tw-slashed-zero: ; --tw-numeric-figure: ; --tw-numeric-spacing: ; --tw-numeric-fraction: ; --tw-ring-inset: ; --tw-ring-offset-width: 0px; --tw-ring-offset-color: #fff; --tw-ring-color: rgba(69,89,164,0.5); --tw-ring-offset-shadow: 0 0 transparent; --tw-ring-shadow: 0 0 transparent; --tw-shadow: 0 0 transparent; --tw-shadow-colored: 0 0 transparent; --tw-blur: ; --tw-brightness: ; --tw-contrast: ; --tw-grayscale: ; --tw-hue-rotate: ; --tw-invert: ; --tw-saturate: ; --tw-sepia: ; --tw-drop-shadow: ; --tw-backdrop-blur: ; --tw-backdrop-brightness: ; --tw-backdrop-contrast: ; --tw-backdrop-grayscale: ; --tw-backdrop-hue-rotate: ; --tw-backdrop-invert: ; --tw-backdrop-opacity: ; --tw-backdrop-saturate: ; --tw-backdrop-sepia: ; font-weight: 600; margin-top: 1.25em; margin-bottom: 1.25em;\">Inability to Track Previous State:</span>  <span style=\"color: rgb(55, 65, 81); font-family: Söhne, ui-sans-serif, system-ui, -apple-system, &quot;Segoe UI&quot;, Roboto, Ubuntu, Cantarell, &quot;Noto Sans&quot;, sans-serif, &quot;Helvetica Neue&quot;, Arial, &quot;Apple Color Emoji&quot;, &quot;Segoe UI Emoji&quot;, &quot;Segoe UI Symbol&quot;, &quot;Noto Color Emoji&quot;; font-size: 16px; white-space: pre-wrap;\"> The major flaw is that this approach cannot track the changes made to the previous creature within the same operation. It only compares static data from before any updates are made.</span>"
            ],
            "metadata": {
                "language": "sql",
                "azdata_cell_guid": "e7e76953-589d-44c4-9c4d-4ce3ebbcf397"
            },
            "attachments": {}
        },
        {
            "cell_type": "code",
            "source": [
                "DECLARE @CurrentCreatureID INT, @CurrentAge INT, @PreviousAge INT;\n",
                "\n",
                "SET @PreviousAge = -1; \n",
                "\n",
                "DECLARE creature_cursor CURSOR FOR \n",
                "SELECT CreatureID, Age\n",
                "FROM Creatures\n",
                "ORDER BY CreatureID;\n",
                "\n",
                "OPEN creature_cursor;\n",
                "\n",
                "FETCH NEXT FROM creature_cursor INTO @CurrentCreatureID, @CurrentAge;\n",
                "\n",
                "WHILE @@FETCH_STATUS = 0\n",
                "BEGIN\n",
                "    IF @PreviousAge != -1\n",
                "    BEGIN\n",
                "        UPDATE Creatures\n",
                "        SET Age = CASE\n",
                "            WHEN @PreviousAge < 50 THEN @CurrentAge + 2\n",
                "            ELSE @CurrentAge - 1\n",
                "        END\n",
                "        WHERE CreatureID = @CurrentCreatureID;\n",
                "    END\n",
                "\n",
                "    SET @PreviousAge = @CurrentAge;\n",
                "\n",
                "    FETCH NEXT FROM creature_cursor INTO @CurrentCreatureID, @CurrentAge;\n",
                "END\n",
                "\n",
                "CLOSE creature_cursor;\n",
                "DEALLOCATE creature_cursor;"
            ],
            "metadata": {
                "language": "sql",
                "azdata_cell_guid": "66108505-6b39-4c6d-a6d2-5ac3df18126a"
            },
            "outputs": [],
            "execution_count": null
        },
        {
            "cell_type": "markdown",
            "source": [
                "<span style=\"color: var(--tw-prose-bold); border: 0px solid rgb(217, 217, 227); box-sizing: border-box; --tw-border-spacing-x: 0; --tw-border-spacing-y: 0; --tw-translate-x: 0; --tw-translate-y: 0; --tw-rotate: 0; --tw-skew-x: 0; --tw-skew-y: 0; --tw-scale-x: 1; --tw-scale-y: 1; --tw-pan-x: ; --tw-pan-y: ; --tw-pinch-zoom: ; --tw-scroll-snap-strictness: proximity; --tw-gradient-from-position: ; --tw-gradient-via-position: ; --tw-gradient-to-position: ; --tw-ordinal: ; --tw-slashed-zero: ; --tw-numeric-figure: ; --tw-numeric-spacing: ; --tw-numeric-fraction: ; --tw-ring-inset: ; --tw-ring-offset-width: 0px; --tw-ring-offset-color: #fff; --tw-ring-color: rgba(69,89,164,0.5); --tw-ring-offset-shadow: 0 0 transparent; --tw-ring-shadow: 0 0 transparent; --tw-shadow: 0 0 transparent; --tw-shadow-colored: 0 0 transparent; --tw-blur: ; --tw-brightness: ; --tw-contrast: ; --tw-grayscale: ; --tw-hue-rotate: ; --tw-invert: ; --tw-saturate: ; --tw-sepia: ; --tw-drop-shadow: ; --tw-backdrop-blur: ; --tw-backdrop-brightness: ; --tw-backdrop-contrast: ; --tw-backdrop-grayscale: ; --tw-backdrop-hue-rotate: ; --tw-backdrop-invert: ; --tw-backdrop-opacity: ; --tw-backdrop-saturate: ; --tw-backdrop-sepia: ; font-weight: 600; margin-top: 1.25em; margin-bottom: 1.25em; font-family: Söhne, ui-sans-serif, system-ui, -apple-system, &quot;Segoe UI&quot;, Roboto, Ubuntu, Cantarell, &quot;Noto Sans&quot;, sans-serif, &quot;Helvetica Neue&quot;, Arial, &quot;Apple Color Emoji&quot;, &quot;Segoe UI Emoji&quot;, &quot;Segoe UI Symbol&quot;, &quot;Noto Color Emoji&quot;; font-size: 16px; white-space: pre-wrap;\">Cursors in SQL Server</span>  <span style=\"color: rgb(55, 65, 81); font-family: Söhne, ui-sans-serif, system-ui, -apple-system, &quot;Segoe UI&quot;, Roboto, Ubuntu, Cantarell, &quot;Noto Sans&quot;, sans-serif, &quot;Helvetica Neue&quot;, Arial, &quot;Apple Color Emoji&quot;, &quot;Segoe UI Emoji&quot;, &quot;Segoe UI Symbol&quot;, &quot;Noto Color Emoji&quot;; font-size: 16px; white-space: pre-wrap;\"> are database objects used to manipulate data in a set row by row. They provide a means to iterate through a set of rows returned by a query and perform certain operations on each row individually. This is different from the typical set-based operations of SQL where you deal with a batch of rows at a time.</span>"
            ],
            "metadata": {
                "language": "sql",
                "azdata_cell_guid": "d1e4974a-0664-4d95-a797-e904e6520ab5"
            },
            "attachments": {}
        },
        {
            "cell_type": "markdown",
            "source": [
                "- <span style=\"border: 0px solid rgb(217, 217, 227); box-sizing: border-box; --tw-border-spacing-x: 0; --tw-border-spacing-y: 0; --tw-translate-x: 0; --tw-translate-y: 0; --tw-rotate: 0; --tw-skew-x: 0; --tw-skew-y: 0; --tw-scale-x: 1; --tw-scale-y: 1; --tw-pan-x: ; --tw-pan-y: ; --tw-pinch-zoom: ; --tw-scroll-snap-strictness: proximity; --tw-gradient-from-position: ; --tw-gradient-via-position: ; --tw-gradient-to-position: ; --tw-ordinal: ; --tw-slashed-zero: ; --tw-numeric-figure: ; --tw-numeric-spacing: ; --tw-numeric-fraction: ; --tw-ring-inset: ; --tw-ring-offset-width: 0px; --tw-ring-offset-color: #fff; --tw-ring-color: rgba(69,89,164,0.5); --tw-ring-offset-shadow: 0 0 transparent; --tw-ring-shadow: 0 0 transparent; --tw-shadow: 0 0 transparent; --tw-shadow-colored: 0 0 transparent; --tw-blur: ; --tw-brightness: ; --tw-contrast: ; --tw-grayscale: ; --tw-hue-rotate: ; --tw-invert: ; --tw-saturate: ; --tw-sepia: ; --tw-drop-shadow: ; --tw-backdrop-blur: ; --tw-backdrop-brightness: ; --tw-backdrop-contrast: ; --tw-backdrop-grayscale: ; --tw-backdrop-hue-rotate: ; --tw-backdrop-invert: ; --tw-backdrop-opacity: ; --tw-backdrop-saturate: ; --tw-backdrop-sepia: ; font-weight: 600; color: var(--tw-prose-bold);\">When to Use:</span>\n",
                "    \n",
                "    - <span style=\"color: var(--tw-prose-bold); font-family: Söhne, ui-sans-serif, system-ui, -apple-system, &quot;Segoe UI&quot;, Roboto, Ubuntu, Cantarell, &quot;Noto Sans&quot;, sans-serif, &quot;Helvetica Neue&quot;, Arial, &quot;Apple Color Emoji&quot;, &quot;Segoe UI Emoji&quot;, &quot;Segoe UI Symbol&quot;, &quot;Noto Color Emoji&quot;; font-size: 16px; white-space: pre-wrap; border: 0px solid rgb(217, 217, 227); box-sizing: border-box; --tw-border-spacing-x: 0; --tw-border-spacing-y: 0; --tw-translate-x: 0; --tw-translate-y: 0; --tw-rotate: 0; --tw-skew-x: 0; --tw-skew-y: 0; --tw-scale-x: 1; --tw-scale-y: 1; --tw-pan-x: ; --tw-pan-y: ; --tw-pinch-zoom: ; --tw-scroll-snap-strictness: proximity; --tw-gradient-from-position: ; --tw-gradient-via-position: ; --tw-gradient-to-position: ; --tw-ordinal: ; --tw-slashed-zero: ; --tw-numeric-figure: ; --tw-numeric-spacing: ; --tw-numeric-fraction: ; --tw-ring-inset: ; --tw-ring-offset-width: 0px; --tw-ring-offset-color: #fff; --tw-ring-color: rgba(69,89,164,0.5); --tw-ring-offset-shadow: 0 0 transparent; --tw-ring-shadow: 0 0 transparent; --tw-shadow: 0 0 transparent; --tw-shadow-colored: 0 0 transparent; --tw-blur: ; --tw-brightness: ; --tw-contrast: ; --tw-grayscale: ; --tw-hue-rotate: ; --tw-invert: ; --tw-saturate: ; --tw-sepia: ; --tw-drop-shadow: ; --tw-backdrop-blur: ; --tw-backdrop-brightness: ; --tw-backdrop-contrast: ; --tw-backdrop-grayscale: ; --tw-backdrop-hue-rotate: ; --tw-backdrop-invert: ; --tw-backdrop-opacity: ; --tw-backdrop-saturate: ; --tw-backdrop-sepia: ; font-weight: 600;\">Complex Row-by-Row Processing:</span>  <span style=\"color: rgb(55, 65, 81); font-family: Söhne, ui-sans-serif, system-ui, -apple-system, &quot;Segoe UI&quot;, Roboto, Ubuntu, Cantarell, &quot;Noto Sans&quot;, sans-serif, &quot;Helvetica Neue&quot;, Arial, &quot;Apple Color Emoji&quot;, &quot;Segoe UI Emoji&quot;, &quot;Segoe UI Symbol&quot;, &quot;Noto Color Emoji&quot;; font-size: 16px; white-space: pre-wrap;\"> Cursors are suitable for operations that require row-by-row manipulation which cannot be efficiently handled with set-based operations.</span>\n",
                "    - <span style=\"color: var(--tw-prose-bold); font-family: Söhne, ui-sans-serif, system-ui, -apple-system, &quot;Segoe UI&quot;, Roboto, Ubuntu, Cantarell, &quot;Noto Sans&quot;, sans-serif, &quot;Helvetica Neue&quot;, Arial, &quot;Apple Color Emoji&quot;, &quot;Segoe UI Emoji&quot;, &quot;Segoe UI Symbol&quot;, &quot;Noto Color Emoji&quot;; font-size: 16px; white-space: pre-wrap; border: 0px solid rgb(217, 217, 227); box-sizing: border-box; --tw-border-spacing-x: 0; --tw-border-spacing-y: 0; --tw-translate-x: 0; --tw-translate-y: 0; --tw-rotate: 0; --tw-skew-x: 0; --tw-skew-y: 0; --tw-scale-x: 1; --tw-scale-y: 1; --tw-pan-x: ; --tw-pan-y: ; --tw-pinch-zoom: ; --tw-scroll-snap-strictness: proximity; --tw-gradient-from-position: ; --tw-gradient-via-position: ; --tw-gradient-to-position: ; --tw-ordinal: ; --tw-slashed-zero: ; --tw-numeric-figure: ; --tw-numeric-spacing: ; --tw-numeric-fraction: ; --tw-ring-inset: ; --tw-ring-offset-width: 0px; --tw-ring-offset-color: #fff; --tw-ring-color: rgba(69,89,164,0.5); --tw-ring-offset-shadow: 0 0 transparent; --tw-ring-shadow: 0 0 transparent; --tw-shadow: 0 0 transparent; --tw-shadow-colored: 0 0 transparent; --tw-blur: ; --tw-brightness: ; --tw-contrast: ; --tw-grayscale: ; --tw-hue-rotate: ; --tw-invert: ; --tw-saturate: ; --tw-sepia: ; --tw-drop-shadow: ; --tw-backdrop-blur: ; --tw-backdrop-brightness: ; --tw-backdrop-contrast: ; --tw-backdrop-grayscale: ; --tw-backdrop-hue-rotate: ; --tw-backdrop-invert: ; --tw-backdrop-opacity: ; --tw-backdrop-saturate: ; --tw-backdrop-sepia: ; font-weight: 600;\">Sequential Data Access:</span>  <span style=\"color: rgb(55, 65, 81); font-family: Söhne, ui-sans-serif, system-ui, -apple-system, &quot;Segoe UI&quot;, Roboto, Ubuntu, Cantarell, &quot;Noto Sans&quot;, sans-serif, &quot;Helvetica Neue&quot;, Arial, &quot;Apple Color Emoji&quot;, &quot;Segoe UI Emoji&quot;, &quot;Segoe UI Symbol&quot;, &quot;Noto Color Emoji&quot;; font-size: 16px; white-space: pre-wrap;\"> Use cursors when data needs to be processed in a specific order, especially when subsequent data processing depends on previous rows.</span>\n",
                "    - <span style=\"color: var(--tw-prose-bold); font-family: Söhne, ui-sans-serif, system-ui, -apple-system, &quot;Segoe UI&quot;, Roboto, Ubuntu, Cantarell, &quot;Noto Sans&quot;, sans-serif, &quot;Helvetica Neue&quot;, Arial, &quot;Apple Color Emoji&quot;, &quot;Segoe UI Emoji&quot;, &quot;Segoe UI Symbol&quot;, &quot;Noto Color Emoji&quot;; font-size: 16px; white-space: pre-wrap; border: 0px solid rgb(217, 217, 227); box-sizing: border-box; --tw-border-spacing-x: 0; --tw-border-spacing-y: 0; --tw-translate-x: 0; --tw-translate-y: 0; --tw-rotate: 0; --tw-skew-x: 0; --tw-skew-y: 0; --tw-scale-x: 1; --tw-scale-y: 1; --tw-pan-x: ; --tw-pan-y: ; --tw-pinch-zoom: ; --tw-scroll-snap-strictness: proximity; --tw-gradient-from-position: ; --tw-gradient-via-position: ; --tw-gradient-to-position: ; --tw-ordinal: ; --tw-slashed-zero: ; --tw-numeric-figure: ; --tw-numeric-spacing: ; --tw-numeric-fraction: ; --tw-ring-inset: ; --tw-ring-offset-width: 0px; --tw-ring-offset-color: #fff; --tw-ring-color: rgba(69,89,164,0.5); --tw-ring-offset-shadow: 0 0 transparent; --tw-ring-shadow: 0 0 transparent; --tw-shadow: 0 0 transparent; --tw-shadow-colored: 0 0 transparent; --tw-blur: ; --tw-brightness: ; --tw-contrast: ; --tw-grayscale: ; --tw-hue-rotate: ; --tw-invert: ; --tw-saturate: ; --tw-sepia: ; --tw-drop-shadow: ; --tw-backdrop-blur: ; --tw-backdrop-brightness: ; --tw-backdrop-contrast: ; --tw-backdrop-grayscale: ; --tw-backdrop-hue-rotate: ; --tw-backdrop-invert: ; --tw-backdrop-opacity: ; --tw-backdrop-saturate: ; --tw-backdrop-sepia: ; font-weight: 600;\">Procedural Logic Requirements:</span>  <span style=\"color: rgb(55, 65, 81); font-family: Söhne, ui-sans-serif, system-ui, -apple-system, &quot;Segoe UI&quot;, Roboto, Ubuntu, Cantarell, &quot;Noto Sans&quot;, sans-serif, &quot;Helvetica Neue&quot;, Arial, &quot;Apple Color Emoji&quot;, &quot;Segoe UI Emoji&quot;, &quot;Segoe UI Symbol&quot;, &quot;Noto Color Emoji&quot;; font-size: 16px; white-space: pre-wrap;\"> Cursors fit well in scenarios requiring conditional logic and complex decision-making that is not easily implemented in set-based SQL.</span>\n",
                "- <span style=\"border: 0px solid rgb(217, 217, 227); box-sizing: border-box; --tw-border-spacing-x: 0; --tw-border-spacing-y: 0; --tw-translate-x: 0; --tw-translate-y: 0; --tw-rotate: 0; --tw-skew-x: 0; --tw-skew-y: 0; --tw-scale-x: 1; --tw-scale-y: 1; --tw-pan-x: ; --tw-pan-y: ; --tw-pinch-zoom: ; --tw-scroll-snap-strictness: proximity; --tw-gradient-from-position: ; --tw-gradient-via-position: ; --tw-gradient-to-position: ; --tw-ordinal: ; --tw-slashed-zero: ; --tw-numeric-figure: ; --tw-numeric-spacing: ; --tw-numeric-fraction: ; --tw-ring-inset: ; --tw-ring-offset-width: 0px; --tw-ring-offset-color: #fff; --tw-ring-color: rgba(69,89,164,0.5); --tw-ring-offset-shadow: 0 0 transparent; --tw-ring-shadow: 0 0 transparent; --tw-shadow: 0 0 transparent; --tw-shadow-colored: 0 0 transparent; --tw-blur: ; --tw-brightness: ; --tw-contrast: ; --tw-grayscale: ; --tw-hue-rotate: ; --tw-invert: ; --tw-saturate: ; --tw-sepia: ; --tw-drop-shadow: ; --tw-backdrop-blur: ; --tw-backdrop-brightness: ; --tw-backdrop-contrast: ; --tw-backdrop-grayscale: ; --tw-backdrop-hue-rotate: ; --tw-backdrop-invert: ; --tw-backdrop-opacity: ; --tw-backdrop-saturate: ; --tw-backdrop-sepia: ; font-weight: 600; color: var(--tw-prose-bold);\">When to Avoid:</span>\n",
                "    \n",
                "    - <span style=\"color: var(--tw-prose-bold); border: 0px solid rgb(217, 217, 227); box-sizing: border-box; --tw-border-spacing-x: 0; --tw-border-spacing-y: 0; --tw-translate-x: 0; --tw-translate-y: 0; --tw-rotate: 0; --tw-skew-x: 0; --tw-skew-y: 0; --tw-scale-x: 1; --tw-scale-y: 1; --tw-pan-x: ; --tw-pan-y: ; --tw-pinch-zoom: ; --tw-scroll-snap-strictness: proximity; --tw-gradient-from-position: ; --tw-gradient-via-position: ; --tw-gradient-to-position: ; --tw-ordinal: ; --tw-slashed-zero: ; --tw-numeric-figure: ; --tw-numeric-spacing: ; --tw-numeric-fraction: ; --tw-ring-inset: ; --tw-ring-offset-width: 0px; --tw-ring-offset-color: #fff; --tw-ring-color: rgba(69,89,164,0.5); --tw-ring-offset-shadow: 0 0 transparent; --tw-ring-shadow: 0 0 transparent; --tw-shadow: 0 0 transparent; --tw-shadow-colored: 0 0 transparent; --tw-blur: ; --tw-brightness: ; --tw-contrast: ; --tw-grayscale: ; --tw-hue-rotate: ; --tw-invert: ; --tw-saturate: ; --tw-sepia: ; --tw-drop-shadow: ; --tw-backdrop-blur: ; --tw-backdrop-brightness: ; --tw-backdrop-contrast: ; --tw-backdrop-grayscale: ; --tw-backdrop-hue-rotate: ; --tw-backdrop-invert: ; --tw-backdrop-opacity: ; --tw-backdrop-saturate: ; --tw-backdrop-sepia: ; font-weight: 600;\">Large Data Sets:</span> Avoid cursors for large data sets due to performance degradation.\n",
                "    - <span style=\"color: var(--tw-prose-bold); border: 0px solid rgb(217, 217, 227); box-sizing: border-box; --tw-border-spacing-x: 0; --tw-border-spacing-y: 0; --tw-translate-x: 0; --tw-translate-y: 0; --tw-rotate: 0; --tw-skew-x: 0; --tw-skew-y: 0; --tw-scale-x: 1; --tw-scale-y: 1; --tw-pan-x: ; --tw-pan-y: ; --tw-pinch-zoom: ; --tw-scroll-snap-strictness: proximity; --tw-gradient-from-position: ; --tw-gradient-via-position: ; --tw-gradient-to-position: ; --tw-ordinal: ; --tw-slashed-zero: ; --tw-numeric-figure: ; --tw-numeric-spacing: ; --tw-numeric-fraction: ; --tw-ring-inset: ; --tw-ring-offset-width: 0px; --tw-ring-offset-color: #fff; --tw-ring-color: rgba(69,89,164,0.5); --tw-ring-offset-shadow: 0 0 transparent; --tw-ring-shadow: 0 0 transparent; --tw-shadow: 0 0 transparent; --tw-shadow-colored: 0 0 transparent; --tw-blur: ; --tw-brightness: ; --tw-contrast: ; --tw-grayscale: ; --tw-hue-rotate: ; --tw-invert: ; --tw-saturate: ; --tw-sepia: ; --tw-drop-shadow: ; --tw-backdrop-blur: ; --tw-backdrop-brightness: ; --tw-backdrop-contrast: ; --tw-backdrop-grayscale: ; --tw-backdrop-hue-rotate: ; --tw-backdrop-invert: ; --tw-backdrop-opacity: ; --tw-backdrop-saturate: ; --tw-backdrop-sepia: ; font-weight: 600;\">Simple Queries:</span> For simple data retrieval, updates, or deletions, set-based operations are more efficient.\n",
                "    - <span style=\"color: var(--tw-prose-bold); border: 0px solid rgb(217, 217, 227); box-sizing: border-box; --tw-border-spacing-x: 0; --tw-border-spacing-y: 0; --tw-translate-x: 0; --tw-translate-y: 0; --tw-rotate: 0; --tw-skew-x: 0; --tw-skew-y: 0; --tw-scale-x: 1; --tw-scale-y: 1; --tw-pan-x: ; --tw-pan-y: ; --tw-pinch-zoom: ; --tw-scroll-snap-strictness: proximity; --tw-gradient-from-position: ; --tw-gradient-via-position: ; --tw-gradient-to-position: ; --tw-ordinal: ; --tw-slashed-zero: ; --tw-numeric-figure: ; --tw-numeric-spacing: ; --tw-numeric-fraction: ; --tw-ring-inset: ; --tw-ring-offset-width: 0px; --tw-ring-offset-color: #fff; --tw-ring-color: rgba(69,89,164,0.5); --tw-ring-offset-shadow: 0 0 transparent; --tw-ring-shadow: 0 0 transparent; --tw-shadow: 0 0 transparent; --tw-shadow-colored: 0 0 transparent; --tw-blur: ; --tw-brightness: ; --tw-contrast: ; --tw-grayscale: ; --tw-hue-rotate: ; --tw-invert: ; --tw-saturate: ; --tw-sepia: ; --tw-drop-shadow: ; --tw-backdrop-blur: ; --tw-backdrop-brightness: ; --tw-backdrop-contrast: ; --tw-backdrop-grayscale: ; --tw-backdrop-hue-rotate: ; --tw-backdrop-invert: ; --tw-backdrop-opacity: ; --tw-backdrop-saturate: ; --tw-backdrop-sepia: ; font-weight: 600;\">Performance-Critical Applications:</span> In applications where performance is a critical factor, cursors should be avoided as they are slower compared to set-based operations."
            ],
            "metadata": {
                "language": "sql",
                "azdata_cell_guid": "e9239113-3644-49fa-911c-a4c59101c357"
            },
            "attachments": {}
        },
        {
            "cell_type": "markdown",
            "source": [
                "#### Types of Cursors in SQL Server:\n",
                "\n",
                "- <span style=\"color: var(--tw-prose-bold); font-weight: 600; font-family: Söhne, ui-sans-serif, system-ui, -apple-system, &quot;Segoe UI&quot;, Roboto, Ubuntu, Cantarell, &quot;Noto Sans&quot;, sans-serif, &quot;Helvetica Neue&quot;, Arial, &quot;Apple Color Emoji&quot;, &quot;Segoe UI Emoji&quot;, &quot;Segoe UI Symbol&quot;, &quot;Noto Color Emoji&quot;; font-size: 16px; white-space: pre-wrap;\">Static Cursor</span>\n",
                "- <span style=\"color: var(--tw-prose-bold); font-weight: 600; font-family: Söhne, ui-sans-serif, system-ui, -apple-system, &quot;Segoe UI&quot;, Roboto, Ubuntu, Cantarell, &quot;Noto Sans&quot;, sans-serif, &quot;Helvetica Neue&quot;, Arial, &quot;Apple Color Emoji&quot;, &quot;Segoe UI Emoji&quot;, &quot;Segoe UI Symbol&quot;, &quot;Noto Color Emoji&quot;; font-size: 16px; white-space: pre-wrap;\">Dynamic Cursor</span>\n",
                "- <span style=\"color: var(--tw-prose-bold); font-weight: 600; font-family: Söhne, ui-sans-serif, system-ui, -apple-system, &quot;Segoe UI&quot;, Roboto, Ubuntu, Cantarell, &quot;Noto Sans&quot;, sans-serif, &quot;Helvetica Neue&quot;, Arial, &quot;Apple Color Emoji&quot;, &quot;Segoe UI Emoji&quot;, &quot;Segoe UI Symbol&quot;, &quot;Noto Color Emoji&quot;; font-size: 16px; white-space: pre-wrap;\">Keyset Cursor</span>\n",
                "- <span style=\"color: var(--tw-prose-bold); font-weight: 600; font-family: Söhne, ui-sans-serif, system-ui, -apple-system, &quot;Segoe UI&quot;, Roboto, Ubuntu, Cantarell, &quot;Noto Sans&quot;, sans-serif, &quot;Helvetica Neue&quot;, Arial, &quot;Apple Color Emoji&quot;, &quot;Segoe UI Emoji&quot;, &quot;Segoe UI Symbol&quot;, &quot;Noto Color Emoji&quot;; font-size: 16px; white-space: pre-wrap;\">Fast Forward-Only Cursor</span>"
            ],
            "metadata": {
                "language": "sql",
                "azdata_cell_guid": "a18361cd-be5a-4dc0-8b80-489e460ee114"
            },
            "attachments": {}
        },
        {
            "cell_type": "markdown",
            "source": [
                "<span style=\"color: rgb(55, 65, 81); font-family: Söhne, ui-sans-serif, system-ui, -apple-system, &quot;Segoe UI&quot;, Roboto, Ubuntu, Cantarell, &quot;Noto Sans&quot;, sans-serif, &quot;Helvetica Neue&quot;, Arial, &quot;Apple Color Emoji&quot;, &quot;Segoe UI Emoji&quot;, &quot;Segoe UI Symbol&quot;, &quot;Noto Color Emoji&quot;; font-size: 16px; white-space: pre-wrap;\">A static cursor provides a static copy of the result set. Changes made to the database after the cursor is opened are not reflected in the data returned by fetches made to the cursor.</span>"
            ],
            "metadata": {
                "language": "sql",
                "azdata_cell_guid": "516d68ba-426a-4952-98f5-b188fc994342"
            },
            "attachments": {}
        },
        {
            "cell_type": "code",
            "source": [
                "DECLARE @CreatureID INT, @Name NVARCHAR(100);\n",
                "\n",
                "DECLARE static_cursor CURSOR STATIC FOR\n",
                "SELECT CreatureID, Name\n",
                "FROM Creatures;\n",
                "\n",
                "OPEN static_cursor;\n",
                "\n",
                "FETCH NEXT FROM static_cursor INTO @CreatureID, @Name;\n",
                "\n",
                "WHILE @@FETCH_STATUS = 0\n",
                "BEGIN\n",
                "    PRINT 'Creature ID: ' + CAST(@CreatureID AS NVARCHAR(10)) + ', Name: ' + @Name;\n",
                "    FETCH NEXT FROM static_cursor INTO @CreatureID, @Name;\n",
                "END\n",
                "\n",
                "CLOSE static_cursor;\n",
                "DEALLOCATE static_cursor;"
            ],
            "metadata": {
                "language": "sql",
                "azdata_cell_guid": "5fb17b9e-d876-4094-a17d-6f3ab674eb72"
            },
            "outputs": [],
            "execution_count": null
        },
        {
            "cell_type": "markdown",
            "source": [
                "<span style=\"color: rgb(55, 65, 81); font-family: Söhne, ui-sans-serif, system-ui, -apple-system, &quot;Segoe UI&quot;, Roboto, Ubuntu, Cantarell, &quot;Noto Sans&quot;, sans-serif, &quot;Helvetica Neue&quot;, Arial, &quot;Apple Color Emoji&quot;, &quot;Segoe UI Emoji&quot;, &quot;Segoe UI Symbol&quot;, &quot;Noto Color Emoji&quot;; font-size: 16px; white-space: pre-wrap;\">A dynamic cursor reflects all changes made to the rows in its result set as you scroll around the cursor.</span>"
            ],
            "metadata": {
                "language": "sql",
                "azdata_cell_guid": "dd8a9140-1268-4a72-90b2-550aea2929ce"
            },
            "attachments": {}
        },
        {
            "cell_type": "code",
            "source": [
                "DECLARE @SpellID INT, @SpellName NVARCHAR(100);\n",
                "\n",
                "DECLARE dynamic_cursor CURSOR DYNAMIC FOR\n",
                "SELECT SpellID, Name\n",
                "FROM Spells;\n",
                "\n",
                "OPEN dynamic_cursor;\n",
                "\n",
                "FETCH NEXT FROM dynamic_cursor INTO @SpellID, @SpellName;\n",
                "\n",
                "WHILE @@FETCH_STATUS = 0\n",
                "BEGIN\n",
                "    PRINT 'Spell ID: ' + CAST(@SpellID AS NVARCHAR(10)) + ', Name: ' + @SpellName;\n",
                "    FETCH NEXT FROM dynamic_cursor INTO @SpellID, @SpellName;\n",
                "END\n",
                "\n",
                "CLOSE dynamic_cursor;\n",
                "DEALLOCATE dynamic_cursor;"
            ],
            "metadata": {
                "language": "sql",
                "azdata_cell_guid": "ef1196ea-e19d-4eaa-a7b4-dd864dba79b4"
            },
            "outputs": [],
            "execution_count": null
        },
        {
            "cell_type": "code",
            "source": [
                "DECLARE @CreatureID INT, @Name NVARCHAR(100);\n",
                "\n",
                "DECLARE creature_cursor CURSOR DYNAMIC FOR\n",
                "SELECT CreatureID, Name\n",
                "FROM Creatures;\n",
                "\n",
                "OPEN creature_cursor;\n",
                "\n",
                "-- Move forward in the cursor\n",
                "FETCH NEXT FROM creature_cursor INTO @CreatureID, @Name;\n",
                "WHILE @@FETCH_STATUS = 0\n",
                "BEGIN\n",
                "    PRINT 'Forward - Creature ID: ' + CAST(@CreatureID AS NVARCHAR(10)) + ', Name: ' + @Name;\n",
                "    FETCH NEXT FROM creature_cursor INTO @CreatureID, @Name;\n",
                "END\n",
                "\n",
                "-- Now, move backward in the cursor\n",
                "FETCH PRIOR FROM creature_cursor INTO @CreatureID, @Name;\n",
                "WHILE @@FETCH_STATUS = 0\n",
                "BEGIN\n",
                "    PRINT 'Backward - Creature ID: ' + CAST(@CreatureID AS NVARCHAR(10)) + ', Name: ' + @Name;\n",
                "    FETCH PRIOR FROM creature_cursor INTO @CreatureID, @Name;\n",
                "END\n",
                "\n",
                "CLOSE creature_cursor;\n",
                "DEALLOCATE creature_cursor;"
            ],
            "metadata": {
                "language": "sql",
                "azdata_cell_guid": "b9f8388c-d8f0-4eda-806b-d8ba4ba4f09e"
            },
            "outputs": [],
            "execution_count": null
        },
        {
            "cell_type": "markdown",
            "source": [
                "<span style=\"color: rgb(55, 65, 81); font-family: Söhne, ui-sans-serif, system-ui, -apple-system, &quot;Segoe UI&quot;, Roboto, Ubuntu, Cantarell, &quot;Noto Sans&quot;, sans-serif, &quot;Helvetica Neue&quot;, Arial, &quot;Apple Color Emoji&quot;, &quot;Segoe UI Emoji&quot;, &quot;Segoe UI Symbol&quot;, &quot;Noto Color Emoji&quot;; font-size: 16px; white-space: pre-wrap;\">A keyset cursor is like a dynamic cursor, except that it does not reflect changes that result in the movement of rows in and out of the cursor's keyset.</span>"
            ],
            "metadata": {
                "language": "sql",
                "azdata_cell_guid": "99e79fd8-3c15-4b2e-898f-8d47588de8cf"
            },
            "attachments": {}
        },
        {
            "cell_type": "code",
            "source": [
                "DECLARE @LocationID INT, @LocationName NVARCHAR(100);\n",
                "\n",
                "DECLARE keyset_cursor CURSOR KEYSET FOR\n",
                "SELECT LocationID, Name\n",
                "FROM Locations;\n",
                "\n",
                "OPEN keyset_cursor;\n",
                "\n",
                "FETCH NEXT FROM keyset_cursor INTO @LocationID, @LocationName;\n",
                "\n",
                "WHILE @@FETCH_STATUS = 0\n",
                "BEGIN\n",
                "    PRINT 'Location ID: ' + CAST(@LocationID AS NVARCHAR(10)) + ', Name: ' + @LocationName;\n",
                "    FETCH NEXT FROM keyset_cursor INTO @LocationID, @LocationName;\n",
                "END\n",
                "\n",
                "CLOSE keyset_cursor;\n",
                "DEALLOCATE keyset_cursor;"
            ],
            "metadata": {
                "language": "sql",
                "azdata_cell_guid": "1b46e718-8fa9-4ba8-a645-6bfda3a3ef79"
            },
            "outputs": [],
            "execution_count": null
        },
        {
            "cell_type": "markdown",
            "source": [
                "<span style=\"color: rgb(55, 65, 81); font-family: Söhne, ui-sans-serif, system-ui, -apple-system, &quot;Segoe UI&quot;, Roboto, Ubuntu, Cantarell, &quot;Noto Sans&quot;, sans-serif, &quot;Helvetica Neue&quot;, Arial, &quot;Apple Color Emoji&quot;, &quot;Segoe UI Emoji&quot;, &quot;Segoe UI Symbol&quot;, &quot;Noto Color Emoji&quot;; font-size: 16px; white-space: pre-wrap;\">A fast forward-only cursor is the simplest and fastest cursor. It only moves forward in the result set.</span>"
            ],
            "metadata": {
                "language": "sql",
                "azdata_cell_guid": "98e8d81f-71fc-42e8-95ad-30406796106d"
            },
            "attachments": {}
        },
        {
            "cell_type": "code",
            "source": [
                "\n",
                "DECLARE @CreatureType NVARCHAR(50);\n",
                "\n",
                "DECLARE fast_forward_cursor CURSOR FAST_FORWARD FOR\n",
                "SELECT DISTINCT Type\n",
                "FROM Creatures;\n",
                "\n",
                "OPEN fast_forward_cursor;\n",
                "\n",
                "FETCH NEXT FROM fast_forward_cursor INTO @CreatureType;\n",
                "\n",
                "WHILE @@FETCH_STATUS = 0\n",
                "BEGIN\n",
                "    PRINT 'Creature Type: ' + @CreatureType;\n",
                "    FETCH NEXT FROM fast_forward_cursor INTO @CreatureType;\n",
                "END\n",
                "\n",
                "CLOSE fast_forward_cursor;\n",
                "DEALLOCATE fast_forward_cursor;"
            ],
            "metadata": {
                "language": "sql",
                "azdata_cell_guid": "86d2eeef-2b3e-4315-abaa-3f8c4a379b21"
            },
            "outputs": [],
            "execution_count": null
        },
        {
            "cell_type": "markdown",
            "source": [
                "## Triggers"
            ],
            "metadata": {
                "language": "sql",
                "azdata_cell_guid": "36d1a4eb-bc9b-4338-a078-66a709fa41b6"
            },
            "attachments": {}
        },
        {
            "cell_type": "markdown",
            "source": [
                "Before Insert Trigger"
            ],
            "metadata": {
                "language": "sql",
                "azdata_cell_guid": "56fcb067-6e26-43b2-aa1d-1d748cf31b14"
            },
            "attachments": {}
        },
        {
            "cell_type": "code",
            "source": [
                "CREATE TRIGGER BeforeCreatureInsert\n",
                "ON Creatures\n",
                "BEFORE INSERT\n",
                "AS\n",
                "BEGIN\n",
                "    -- Prevent inserting creatures with age less than 0\n",
                "    IF EXISTS (SELECT 1 FROM inserted WHERE Age < 0)\n",
                "    BEGIN\n",
                "        RAISERROR('Age cannot be less than 0.', 16, 1)\n",
                "        ROLLBACK TRANSACTION;\n",
                "    END\n",
                "END;\n",
                ""
            ],
            "metadata": {
                "language": "sql",
                "azdata_cell_guid": "74bc026e-c8dc-4964-a86c-8b945248e738"
            },
            "outputs": [],
            "execution_count": null
        },
        {
            "cell_type": "markdown",
            "source": [
                "After Update Trigger"
            ],
            "metadata": {
                "language": "sql",
                "azdata_cell_guid": "07995b6a-aa15-4242-98ca-fa3b5fbf6944"
            },
            "attachments": {}
        },
        {
            "cell_type": "code",
            "source": [
                "CREATE TRIGGER AfterCreatureUpdate\n",
                "ON Creatures\n",
                "AFTER UPDATE\n",
                "AS\n",
                "BEGIN\n",
                "    -- Log the updates to a separate table\n",
                "    INSERT INTO CreatureUpdates (CreatureID, UpdatedAt)\n",
                "    SELECT CreatureID, GETDATE() FROM inserted;\n",
                "END;"
            ],
            "metadata": {
                "language": "sql",
                "azdata_cell_guid": "2f96071b-0294-4a6f-ab6b-7342dd059cdc"
            },
            "outputs": [],
            "execution_count": null
        },
        {
            "cell_type": "markdown",
            "source": [
                "Instead of Delete Trigger"
            ],
            "metadata": {
                "language": "sql",
                "azdata_cell_guid": "3d7617fc-62f8-40c5-bda1-a84ae94cec49"
            },
            "attachments": {}
        },
        {
            "cell_type": "code",
            "source": [
                "CREATE TRIGGER InsteadOfCreatureDelete\n",
                "ON Creatures\n",
                "INSTEAD OF DELETE\n",
                "AS\n",
                "BEGIN\n",
                "    -- Soft delete by updating a flag instead of physically deleting the record\n",
                "    UPDATE Creatures\n",
                "    SET IsDeleted = 1\n",
                "    WHERE CreatureID IN (SELECT CreatureID FROM deleted);\n",
                "END;"
            ],
            "metadata": {
                "language": "sql",
                "azdata_cell_guid": "94a66575-66b9-45c1-b24a-a6dacf36ff0c"
            },
            "outputs": [],
            "execution_count": null
        },
        {
            "cell_type": "markdown",
            "source": [
                "After Insert Trigger"
            ],
            "metadata": {
                "language": "sql",
                "azdata_cell_guid": "2003a72d-51a1-46a7-b656-b203cac7a2ce"
            },
            "attachments": {}
        },
        {
            "cell_type": "code",
            "source": [
                "CREATE TRIGGER AfterCreatureLocationInsert\n",
                "ON CreatureLocations\n",
                "AFTER INSERT\n",
                "AS\n",
                "BEGIN\n",
                "    -- Update a related table after a new record is inserted\n",
                "    UPDATE Locations\n",
                "    SET CreatureCount = CreatureCount + 1\n",
                "    FROM Locations l\n",
                "    INNER JOIN inserted i ON l.LocationID = i.LocationID;\n",
                "END;"
            ],
            "metadata": {
                "language": "sql",
                "azdata_cell_guid": "ee77372b-06e5-4f85-91ba-a0806a468313"
            },
            "outputs": [],
            "execution_count": null
        },
        {
            "cell_type": "markdown",
            "source": [
                "After insert trigger with cursor"
            ],
            "metadata": {
                "language": "sql",
                "azdata_cell_guid": "6469e567-99a0-40d2-9de9-55f1b60518b2"
            },
            "attachments": {}
        },
        {
            "cell_type": "code",
            "source": [
                "CREATE TRIGGER AfterSpellInsert\n",
                "ON Spells\n",
                "AFTER INSERT\n",
                "AS\n",
                "BEGIN\n",
                "    DECLARE @SpellID INT;\n",
                "\n",
                "    DECLARE SpellCursor CURSOR FOR\n",
                "    SELECT SpellID FROM inserted;\n",
                "\n",
                "    OPEN SpellCursor;\n",
                "    FETCH NEXT FROM SpellCursor INTO @SpellID;\n",
                "\n",
                "    WHILE @@FETCH_STATUS = 0\n",
                "    BEGIN\n",
                "        INSERT INTO SpellLog (SpellID, LogDate)\n",
                "        VALUES (@SpellID, GETDATE());\n",
                "\n",
                "        FETCH NEXT FROM SpellCursor INTO @SpellID;\n",
                "    END;\n",
                "\n",
                "    CLOSE SpellCursor;\n",
                "    DEALLOCATE SpellCursor;\n",
                "END;"
            ],
            "metadata": {
                "language": "sql",
                "azdata_cell_guid": "3b756d2e-c7e8-4c09-8808-2bde1a903acc"
            },
            "outputs": [],
            "execution_count": null
        }
    ]
}