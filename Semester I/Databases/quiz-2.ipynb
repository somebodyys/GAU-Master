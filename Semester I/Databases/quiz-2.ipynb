{
    "metadata": {
        "kernelspec": {
            "name": "SQL",
            "display_name": "SQL",
            "language": "sql"
        },
        "language_info": {
            "name": "sql",
            "version": ""
        }
    },
    "nbformat_minor": 2,
    "nbformat": 4,
    "cells": [
        {
            "cell_type": "markdown",
            "source": [
                "<span style=\"caret-color: rgb(60, 64, 67); color: rgb(60, 64, 67); font-family: Roboto, Arial, sans-serif; letter-spacing: 0.2px;\">1. მონაცემთა ბაზის კონსტრუირება (ინდექსების დასმა და ცხრილების შორის კავშირების უზრუნველყოფა). (4 ქულა)</span>"
            ],
            "metadata": {
                "azdata_cell_guid": "78f1e560-d722-4a99-9935-497c00d764b0"
            },
            "attachments": {}
        },
        {
            "cell_type": "code",
            "source": [
                "CREATE DATABASE ImaginaryWorld;\n",
                "USE ImaginaryWorld;"
            ],
            "metadata": {
                "azdata_cell_guid": "4591e1c6-d291-4f73-b9e3-24acbfa2b2d3",
                "language": "sql",
                "tags": []
            },
            "outputs": [
                {
                    "output_type": "error",
                    "ename": "",
                    "evalue": "Msg 911, Level 16, State 1, Line 2\nDatabase 'ImaginaryWorld' does not exist. Make sure that the name is entered correctly.",
                    "traceback": []
                },
                {
                    "output_type": "display_data",
                    "data": {
                        "text/html": "Total execution time: 00:00:00.015"
                    },
                    "metadata": {}
                }
            ],
            "execution_count": 5
        },
        {
            "cell_type": "code",
            "source": [
                "CREATE TABLE Creatures (\n",
                "    CreatureID INT PRIMARY KEY IDENTITY(1,1),\n",
                "    Name NVARCHAR(100) NOT NULL,\n",
                "    Type NVARCHAR(50) NOT NULL,\n",
                "    Habitat NVARCHAR(100),\n",
                "    Age INT,\n",
                "    Description NVARCHAR(MAX)\n",
                ");"
            ],
            "metadata": {
                "azdata_cell_guid": "fcab479f-b5cd-458a-a6ad-2fa512150510",
                "language": "sql",
                "tags": []
            },
            "outputs": [
                {
                    "output_type": "display_data",
                    "data": {
                        "text/html": "Commands completed successfully."
                    },
                    "metadata": {}
                },
                {
                    "output_type": "display_data",
                    "data": {
                        "text/html": "Total execution time: 00:00:00.073"
                    },
                    "metadata": {}
                }
            ],
            "execution_count": 28
        },
        {
            "cell_type": "code",
            "source": [
                "CREATE TABLE Spells (\n",
                "    SpellID INT PRIMARY KEY IDENTITY(1,1),\n",
                "    Name NVARCHAR(100) NOT NULL,\n",
                "    Description NVARCHAR(MAX),\n",
                "    PowerLevel INT\n",
                ");"
            ],
            "metadata": {
                "azdata_cell_guid": "41c0341a-5475-49a3-ad59-057a0d5f2091",
                "language": "sql"
            },
            "outputs": [
                {
                    "output_type": "display_data",
                    "data": {
                        "text/html": "Commands completed successfully."
                    },
                    "metadata": {}
                },
                {
                    "output_type": "display_data",
                    "data": {
                        "text/html": "Total execution time: 00:00:00.016"
                    },
                    "metadata": {}
                }
            ],
            "execution_count": 29
        },
        {
            "cell_type": "code",
            "source": [
                "CREATE TABLE Locations (\n",
                "    LocationID INT PRIMARY KEY IDENTITY(1,1),\n",
                "    Name NVARCHAR(100) NOT NULL,\n",
                "    TerrainType NVARCHAR(50),\n",
                "    Climate NVARCHAR(50),\n",
                "    Description NVARCHAR(MAX)\n",
                ");"
            ],
            "metadata": {
                "language": "sql",
                "azdata_cell_guid": "46326a48-6113-4b51-ad23-7419c9f21f79",
                "tags": []
            },
            "outputs": [
                {
                    "output_type": "display_data",
                    "data": {
                        "text/html": "Commands completed successfully."
                    },
                    "metadata": {}
                },
                {
                    "output_type": "display_data",
                    "data": {
                        "text/html": "Total execution time: 00:00:00.022"
                    },
                    "metadata": {}
                }
            ],
            "execution_count": 30
        },
        {
            "cell_type": "code",
            "source": [
                "CREATE TABLE CreaturesSpells (\n",
                "    CreatureID INT,\n",
                "    SpellID INT,\n",
                "    PRIMARY KEY (CreatureID, SpellID),\n",
                "    FOREIGN KEY (CreatureID) REFERENCES Creatures(CreatureID),\n",
                "    FOREIGN KEY (SpellID) REFERENCES Spells(SpellID)\n",
                ");"
            ],
            "metadata": {
                "language": "sql",
                "azdata_cell_guid": "9f52ca11-eb7a-493a-8554-4eac654a0935",
                "tags": []
            },
            "outputs": [
                {
                    "output_type": "display_data",
                    "data": {
                        "text/html": "Commands completed successfully."
                    },
                    "metadata": {}
                },
                {
                    "output_type": "display_data",
                    "data": {
                        "text/html": "Total execution time: 00:00:00.018"
                    },
                    "metadata": {}
                }
            ],
            "execution_count": 31
        },
        {
            "cell_type": "code",
            "source": [
                "CREATE TABLE CreatureLocations (\n",
                "    CreatureID INT,\n",
                "    LocationID INT,\n",
                "    PRIMARY KEY (CreatureID, LocationID),\n",
                "    FOREIGN KEY (CreatureID) REFERENCES Creatures(CreatureID),\n",
                "    FOREIGN KEY (LocationID) REFERENCES Locations(LocationID)\n",
                ");"
            ],
            "metadata": {
                "language": "sql",
                "azdata_cell_guid": "ea2e256b-b582-4877-8ef9-0f651272f4d0"
            },
            "outputs": [
                {
                    "output_type": "display_data",
                    "data": {
                        "text/html": "Commands completed successfully."
                    },
                    "metadata": {}
                },
                {
                    "output_type": "display_data",
                    "data": {
                        "text/html": "Total execution time: 00:00:00.016"
                    },
                    "metadata": {}
                }
            ],
            "execution_count": 32
        },
        {
            "cell_type": "code",
            "source": [
                "CREATE INDEX IX_Creature_Name ON Creatures(Name);\n",
                "CREATE INDEX IX_Spell_Name ON Spells(Name);\n",
                "CREATE INDEX IX_Location_Name ON Locations(Name);\n",
                "CREATE INDEX IX_CreatureLocations_CreatureID_LocationID ON CreatureLocations(CreatureID, LocationID);\n",
                "CREATE INDEX IX_Spell_PowerLevel ON Spells(PowerLevel);\n",
                "-- CREATE CLUSTERED INDEX CIX_Location_LocationID ON Locations(LocationID);\n",
                "CREATE NONCLUSTERED INDEX NCIX_Location_Terrain_Climate ON Locations(TerrainType, Climate);"
            ],
            "metadata": {
                "language": "sql",
                "azdata_cell_guid": "55b4c8a8-7ac6-425a-b1ca-391bc923f7c8"
            },
            "outputs": [
                {
                    "output_type": "display_data",
                    "data": {
                        "text/html": "Commands completed successfully."
                    },
                    "metadata": {}
                },
                {
                    "output_type": "display_data",
                    "data": {
                        "text/html": "Total execution time: 00:00:00.029"
                    },
                    "metadata": {}
                }
            ],
            "execution_count": 33
        },
        {
            "cell_type": "markdown",
            "source": [
                "<span style=\"caret-color: rgb(60, 64, 67); color: rgb(60, 64, 67); font-family: Roboto, Arial, sans-serif; letter-spacing: 0.2px;\">2. ცხრილ(ებ)ში მონაცემების ჩამატება/რედაქტირება პროცედურების (Procedure) გამოყენებით. თუ პროცედურის ბიზნეს ლოგიკა (დანიშნულება) ისეთია, რომ ერთდროულად რამდენიმე ცხრილში ხდება ინფორმაციის შენახვა/რედაქტირება სავალდებულოა ტრანზაქციების გამოყენება. (3 ქულა)</span>"
            ],
            "metadata": {
                "language": "sql",
                "azdata_cell_guid": "682931d4-e2f4-4c7d-bba1-18afa5e2f425"
            },
            "attachments": {}
        },
        {
            "cell_type": "code",
            "source": [
                "CREATE PROCEDURE InsertIntoCreatures\n",
                "    @Name NVARCHAR(100),\n",
                "    @Type NVARCHAR(50),\n",
                "    @Habitat NVARCHAR(100),\n",
                "    @Age INT,\n",
                "    @Description NVARCHAR(MAX)\n",
                "AS\n",
                "BEGIN\n",
                "    INSERT INTO Creatures (Name, Type, Habitat, Age, Description)\n",
                "    VALUES (@Name, @Type, @Habitat, @Age, @Description)\n",
                "END;"
            ],
            "metadata": {
                "language": "sql",
                "azdata_cell_guid": "3f3937a5-2e04-4e22-aa28-9f4a470171c6"
            },
            "outputs": [
                {
                    "output_type": "display_data",
                    "data": {
                        "text/html": "Commands completed successfully."
                    },
                    "metadata": {}
                },
                {
                    "output_type": "display_data",
                    "data": {
                        "text/html": "Total execution time: 00:00:00.020"
                    },
                    "metadata": {}
                }
            ],
            "execution_count": 34
        },
        {
            "cell_type": "code",
            "source": [
                "CREATE PROCEDURE InsertIntoSpells\n",
                "    @Name NVARCHAR(100),\n",
                "    @Description NVARCHAR(MAX),\n",
                "    @PowerLevel INT\n",
                "AS\n",
                "BEGIN\n",
                "    INSERT INTO Spells (Name, Description, PowerLevel)\n",
                "    VALUES (@Name, @Description, @PowerLevel)\n",
                "END;\n",
                ""
            ],
            "metadata": {
                "language": "sql",
                "azdata_cell_guid": "035790de-b1c6-45e4-abfa-d33351d02cca"
            },
            "outputs": [
                {
                    "output_type": "display_data",
                    "data": {
                        "text/html": "Commands completed successfully."
                    },
                    "metadata": {}
                },
                {
                    "output_type": "display_data",
                    "data": {
                        "text/html": "Total execution time: 00:00:00.018"
                    },
                    "metadata": {}
                }
            ],
            "execution_count": 35
        },
        {
            "cell_type": "code",
            "source": [
                "CREATE PROCEDURE InsertIntoLocations\n",
                "    @Name NVARCHAR(100),\n",
                "    @TerrainType NVARCHAR(50),\n",
                "    @Climate NVARCHAR(50),\n",
                "    @Description NVARCHAR(MAX)\n",
                "AS\n",
                "BEGIN\n",
                "    INSERT INTO Locations (Name, TerrainType, Climate, Description)\n",
                "    VALUES (@Name, @TerrainType, @Climate, @Description)\n",
                "END;"
            ],
            "metadata": {
                "language": "sql",
                "azdata_cell_guid": "f625101c-9c0c-4dd6-b198-0981b7f528b7"
            },
            "outputs": [
                {
                    "output_type": "display_data",
                    "data": {
                        "text/html": "Commands completed successfully."
                    },
                    "metadata": {}
                },
                {
                    "output_type": "display_data",
                    "data": {
                        "text/html": "Total execution time: 00:00:00.042"
                    },
                    "metadata": {}
                }
            ],
            "execution_count": 36
        },
        {
            "cell_type": "code",
            "source": [
                "CREATE PROCEDURE InsertIntoCreaturesSpells\n",
                "    @CreatureID INT,\n",
                "    @SpellID INT\n",
                "AS\n",
                "BEGIN\n",
                "    INSERT INTO CreaturesSpells (CreatureID, SpellID)\n",
                "    VALUES (@CreatureID, @SpellID)\n",
                "END;"
            ],
            "metadata": {
                "language": "sql",
                "azdata_cell_guid": "9bf0c748-42aa-4db6-88f2-80e8bab818f7"
            },
            "outputs": [
                {
                    "output_type": "display_data",
                    "data": {
                        "text/html": "Commands completed successfully."
                    },
                    "metadata": {}
                },
                {
                    "output_type": "display_data",
                    "data": {
                        "text/html": "Total execution time: 00:00:00.024"
                    },
                    "metadata": {}
                }
            ],
            "execution_count": 37
        },
        {
            "cell_type": "code",
            "source": [
                "CREATE PROCEDURE InsertIntoCreatureLocations\n",
                "    @CreatureID INT,\n",
                "    @LocationID INT\n",
                "AS\n",
                "BEGIN\n",
                "    INSERT INTO CreatureLocations (CreatureID, LocationID)\n",
                "    VALUES (@CreatureID, @LocationID)\n",
                "END;"
            ],
            "metadata": {
                "language": "sql",
                "azdata_cell_guid": "848c1b91-ef80-45b8-9f78-864300f0b50d"
            },
            "outputs": [
                {
                    "output_type": "display_data",
                    "data": {
                        "text/html": "Commands completed successfully."
                    },
                    "metadata": {}
                },
                {
                    "output_type": "display_data",
                    "data": {
                        "text/html": "Total execution time: 00:00:00.006"
                    },
                    "metadata": {}
                }
            ],
            "execution_count": 38
        },
        {
            "cell_type": "code",
            "source": [
                "BEGIN TRANSACTION\n",
                "    EXEC InsertIntoCreatures 'Dragon', 'Mythical', 'Mountains', 500, 'A mighty fire-breathing creature with scales.';\n",
                "    EXEC InsertIntoCreatures 'Phoenix', 'Mythical', 'Volcanoes', 1000, 'A mystical bird that rises from its ashes.';\n",
                "\n",
                "    EXEC InsertIntoSpells 'Fireball', 'Creates a ball of fire', 5;\n",
                "    EXEC InsertIntoSpells 'Teleportation', 'Moves instantly from one place to another', 7;\n",
                "\n",
                "    EXEC InsertIntoLocations 'Dragon Lair', 'Mountain', 'Harsh', 'A cave hidden deep within the mountains.';\n",
                "    EXEC InsertIntoLocations 'Phoenix Roost', 'Volcanic', 'Hot', 'A high cliff surrounded by molten lava.';\n",
                "    EXEC InsertIntoCreaturesSpells 1, 1; \n",
                "    EXEC InsertIntoCreaturesSpells 2, 2; \n",
                "\n",
                "    EXEC InsertIntoCreatureLocations 1, 1;\n",
                "    EXEC InsertIntoCreatureLocations 2, 2;\n",
                "COMMIT TRANSACTION"
            ],
            "metadata": {
                "language": "sql",
                "azdata_cell_guid": "3abb56a8-a7f8-493c-8ee6-0c58380e1d0e",
                "tags": []
            },
            "outputs": [
                {
                    "output_type": "display_data",
                    "data": {
                        "text/html": "(1 row affected)"
                    },
                    "metadata": {}
                },
                {
                    "output_type": "display_data",
                    "data": {
                        "text/html": "(1 row affected)"
                    },
                    "metadata": {}
                },
                {
                    "output_type": "display_data",
                    "data": {
                        "text/html": "(1 row affected)"
                    },
                    "metadata": {}
                },
                {
                    "output_type": "display_data",
                    "data": {
                        "text/html": "(1 row affected)"
                    },
                    "metadata": {}
                },
                {
                    "output_type": "display_data",
                    "data": {
                        "text/html": "(1 row affected)"
                    },
                    "metadata": {}
                },
                {
                    "output_type": "display_data",
                    "data": {
                        "text/html": "(1 row affected)"
                    },
                    "metadata": {}
                },
                {
                    "output_type": "display_data",
                    "data": {
                        "text/html": "(1 row affected)"
                    },
                    "metadata": {}
                },
                {
                    "output_type": "display_data",
                    "data": {
                        "text/html": "(1 row affected)"
                    },
                    "metadata": {}
                },
                {
                    "output_type": "display_data",
                    "data": {
                        "text/html": "(1 row affected)"
                    },
                    "metadata": {}
                },
                {
                    "output_type": "display_data",
                    "data": {
                        "text/html": "(1 row affected)"
                    },
                    "metadata": {}
                },
                {
                    "output_type": "display_data",
                    "data": {
                        "text/html": "Total execution time: 00:00:00.031"
                    },
                    "metadata": {}
                }
            ],
            "execution_count": 39
        },
        {
            "cell_type": "markdown",
            "source": [
                "<span style=\"caret-color: rgb(60, 64, 67); color: rgb(60, 64, 67); font-family: Roboto, Arial, sans-serif; letter-spacing: 0.2px;\">3. ფუნქციების (Functions) შექმნა/გამოყენება. შენიშვნა: ფუნქციების შექმნისას სავალდებულია გამოიყენოთ T-SQL-ის ინსტრუმენტები (მმართველი კონსტრუქციები, ლოგიკის ოპერატორები, სიმბოლური ტიპის მონაცემებთან მუშაობა, თარიღისა და დროის მონაცემებთან მუშაობა). (2 ქულა)</span>"
            ],
            "metadata": {
                "language": "sql",
                "azdata_cell_guid": "2bf620e4-df74-48ca-adaa-d4ecf1aaaf58"
            },
            "attachments": {}
        },
        {
            "cell_type": "code",
            "source": [
                "CREATE FUNCTION CalculateCreatureAgeDifference (\n",
                "    @Creature1Age INT,\n",
                "    @Creature2Age INT\n",
                ")\n",
                "RETURNS INT\n",
                "AS\n",
                "BEGIN\n",
                "    DECLARE @AgeDifference INT\n",
                "    SET @AgeDifference = ABS(@Creature1Age - @Creature2Age)\n",
                "    RETURN @AgeDifference\n",
                "END;"
            ],
            "metadata": {
                "language": "sql",
                "azdata_cell_guid": "59004e85-83ef-416e-96aa-912f8219bc75"
            },
            "outputs": [
                {
                    "output_type": "display_data",
                    "data": {
                        "text/html": "Commands completed successfully."
                    },
                    "metadata": {}
                },
                {
                    "output_type": "display_data",
                    "data": {
                        "text/html": "Total execution time: 00:00:00.044"
                    },
                    "metadata": {}
                }
            ],
            "execution_count": 40
        },
        {
            "cell_type": "code",
            "source": [
                "CREATE FUNCTION DetermineSpellPowerStatus (\n",
                "    @PowerLevel INT,\n",
                "    @Threshold INT\n",
                ")\n",
                "RETURNS NVARCHAR(50)\n",
                "AS\n",
                "BEGIN\n",
                "    DECLARE @Status NVARCHAR(50)\n",
                "    IF @PowerLevel >= @Threshold\n",
                "        SET @Status = 'High Power'\n",
                "    ELSE\n",
                "        SET @Status = 'Low Power'\n",
                "    RETURN @Status\n",
                "END;"
            ],
            "metadata": {
                "language": "sql",
                "azdata_cell_guid": "bf41dc07-9d1a-41e8-a4ae-97f3827c74d3"
            },
            "outputs": [
                {
                    "output_type": "display_data",
                    "data": {
                        "text/html": "Commands completed successfully."
                    },
                    "metadata": {}
                },
                {
                    "output_type": "display_data",
                    "data": {
                        "text/html": "Total execution time: 00:00:00.030"
                    },
                    "metadata": {}
                }
            ],
            "execution_count": 41
        },
        {
            "cell_type": "code",
            "source": [
                "CREATE FUNCTION FormatCreatureDescription (\n",
                "    @Description NVARCHAR(MAX)\n",
                ")\n",
                "RETURNS NVARCHAR(MAX)\n",
                "AS\n",
                "BEGIN\n",
                "    DECLARE @FormattedDescription NVARCHAR(MAX)\n",
                "    SET @FormattedDescription = '*** ' + @Description + ' ***'\n",
                "    RETURN @FormattedDescription\n",
                "END;"
            ],
            "metadata": {
                "language": "sql",
                "azdata_cell_guid": "80c61483-da08-4881-a6ef-a0d9c6edd693"
            },
            "outputs": [
                {
                    "output_type": "display_data",
                    "data": {
                        "text/html": "Commands completed successfully."
                    },
                    "metadata": {}
                },
                {
                    "output_type": "display_data",
                    "data": {
                        "text/html": "Total execution time: 00:00:00.017"
                    },
                    "metadata": {}
                }
            ],
            "execution_count": 42
        },
        {
            "cell_type": "code",
            "source": [
                "CREATE FUNCTION CalculateAgeFromBirthdate (\n",
                "    @Birthdate DATETIME\n",
                ")\n",
                "RETURNS INT\n",
                "AS\n",
                "BEGIN\n",
                "    DECLARE @Age INT\n",
                "    SET @Age = DATEDIFF(YEAR, @Birthdate, GETDATE())\n",
                "    RETURN @Age\n",
                "END;"
            ],
            "metadata": {
                "language": "sql",
                "azdata_cell_guid": "70270a81-c414-475f-a8ed-d35356889117"
            },
            "outputs": [
                {
                    "output_type": "display_data",
                    "data": {
                        "text/html": "Commands completed successfully."
                    },
                    "metadata": {}
                },
                {
                    "output_type": "display_data",
                    "data": {
                        "text/html": "Total execution time: 00:00:00.022"
                    },
                    "metadata": {}
                }
            ],
            "execution_count": 43
        },
        {
            "cell_type": "code",
            "source": [
                "CREATE FUNCTION CheckTerrainClimateMatch (\n",
                "    @TerrainType NVARCHAR(50),\n",
                "    @Climate NVARCHAR(50)\n",
                ")\n",
                "RETURNS BIT\n",
                "AS\n",
                "BEGIN\n",
                "    DECLARE @Match BIT\n",
                "    IF @TerrainType = @Climate\n",
                "        SET @Match = 1\n",
                "    ELSE\n",
                "        SET @Match = 0\n",
                "    RETURN @Match\n",
                "END;"
            ],
            "metadata": {
                "language": "sql",
                "azdata_cell_guid": "91c638a5-a505-4ca6-8465-de77fc44e457"
            },
            "outputs": [
                {
                    "output_type": "display_data",
                    "data": {
                        "text/html": "Commands completed successfully."
                    },
                    "metadata": {}
                },
                {
                    "output_type": "display_data",
                    "data": {
                        "text/html": "Total execution time: 00:00:00.023"
                    },
                    "metadata": {}
                }
            ],
            "execution_count": 44
        },
        {
            "cell_type": "code",
            "source": [
                "CREATE FUNCTION CategorizeSpell (\n",
                "    @PowerLevel INT\n",
                ")\n",
                "RETURNS NVARCHAR(50)\n",
                "AS\n",
                "BEGIN\n",
                "    DECLARE @SpellCategory NVARCHAR(50)\n",
                "\n",
                "    SET @SpellCategory = \n",
                "        CASE \n",
                "            WHEN @PowerLevel >= 10 THEN 'High-Level Spell'\n",
                "            WHEN @PowerLevel >= 5 AND @PowerLevel < 10 THEN 'Medium-Level Spell'\n",
                "            ELSE 'Low-Level Spell'\n",
                "        END\n",
                "\n",
                "    RETURN @SpellCategory\n",
                "END;"
            ],
            "metadata": {
                "language": "sql",
                "azdata_cell_guid": "72c075ed-66c0-4fe1-ab91-3fb2675b8c6d"
            },
            "outputs": [
                {
                    "output_type": "display_data",
                    "data": {
                        "text/html": "Commands completed successfully."
                    },
                    "metadata": {}
                },
                {
                    "output_type": "display_data",
                    "data": {
                        "text/html": "Total execution time: 00:00:00.027"
                    },
                    "metadata": {}
                }
            ],
            "execution_count": 45
        },
        {
            "cell_type": "markdown",
            "source": [
                "<span style=\"caret-color: rgb(60, 64, 67); color: rgb(60, 64, 67); font-family: Roboto, Arial, sans-serif; letter-spacing: 0.2px;\">4. წარმოდგენების (View) შექმნა JOIN კონსტრუქციებისა და ცხრილიდან მონაცემების ამორჩევის ბრძანების ელემენტების გამოყენებით (FROM, WHERE, GROUP BY, HAVING, SELECT, ORDER BY, TOP და სხვ.). (1 ქულა)</span>"
            ],
            "metadata": {
                "language": "sql",
                "azdata_cell_guid": "7abf1c79-da00-4bc7-95fb-0eca8d7ceae2"
            },
            "attachments": {}
        },
        {
            "cell_type": "code",
            "source": [
                "CREATE VIEW CreatureSpellLocationView AS\n",
                "SELECT TOP 10 \n",
                "    Creatures.Name AS CreatureName,\n",
                "    Spells.Name AS SpellName,\n",
                "    Locations.Name AS LocationName,\n",
                "    COUNT(*) AS SpellCount,\n",
                "    AVG(Creatures.Age) AS AverageAge\n",
                "FROM \n",
                "    Creatures\n",
                "JOIN CreaturesSpells ON Creatures.CreatureID = CreaturesSpells.CreatureID\n",
                "JOIN Spells ON CreaturesSpells.SpellID = Spells.SpellID\n",
                "JOIN CreatureLocations ON Creatures.CreatureID = CreatureLocations.CreatureID\n",
                "JOIN Locations ON CreatureLocations.LocationID = Locations.LocationID\n",
                "WHERE Creatures.Age > 100\n",
                "GROUP BY Creatures.Name, Spells.Name, Locations.Name\n",
                "HAVING COUNT(*) > 1\n",
                "ORDER BY AverageAge DESC;\n",
                ""
            ],
            "metadata": {
                "language": "sql",
                "azdata_cell_guid": "8e666a94-317c-49f3-8bb0-a64c73d2afb9"
            },
            "outputs": [
                {
                    "output_type": "error",
                    "ename": "",
                    "evalue": "Msg 2714, Level 16, State 3, Procedure CreatureSpellLocationView, Line 1\nThere is already an object named 'CreatureSpellLocationView' in the database.",
                    "traceback": []
                },
                {
                    "output_type": "display_data",
                    "data": {
                        "text/html": "Total execution time: 00:00:00.026"
                    },
                    "metadata": {}
                }
            ],
            "execution_count": 48
        }
    ]
}