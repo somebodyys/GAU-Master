{
    "metadata": {
        "kernelspec": {
            "name": "SQL",
            "display_name": "SQL",
            "language": "sql"
        },
        "language_info": {
            "name": "sql",
            "version": ""
        }
    },
    "nbformat_minor": 2,
    "nbformat": 4,
    "cells": [
        {
            "cell_type": "markdown",
            "source": [
                "<span style=\"caret-color: rgb(60, 64, 67); color: rgb(60, 64, 67); font-family: Roboto, Arial, sans-serif; letter-spacing: 0.2px;\">შექმენით მონაცემთა ბაზა სურათი N1-ზე ილუსტრირებული მოდელის მიხედვით.</span>  \n",
                "<span style=\"caret-color: rgb(60, 64, 67); color: rgb(60, 64, 67); font-family: Roboto, Arial, sans-serif; letter-spacing: 0.2px;\">1.1.გაითვალისწინეთ მონაცემთა ტიპი თითოეული ცხრილისათვის.</span>  \n",
                "<span style=\"caret-color: rgb(60, 64, 67); color: rgb(60, 64, 67); font-family: Roboto, Arial, sans-serif; letter-spacing: 0.2px;\">1.2.გაითვალისწინეთ ცხრილებს შორის კავშირი.</span>  \n",
                "<span style=\"caret-color: rgb(60, 64, 67); color: rgb(60, 64, 67); font-family: Roboto, Arial, sans-serif; letter-spacing: 0.2px;\">2. შეავსეთ Salesperson და Сustomer ცხრილები მონაცემებით.</span>"
            ],
            "metadata": {
                "azdata_cell_guid": "cd0e2711-3e65-4b53-87c2-2cbb131166ff"
            },
            "attachments": {}
        },
        {
            "cell_type": "code",
            "source": [
                "CREATE DATABASE SalesDatabase;\n",
                "USE SalesDatabase;"
            ],
            "metadata": {
                "language": "sql",
                "azdata_cell_guid": "13c8c530-f82b-4448-96cc-f7fa6f8f130f",
                "tags": []
            },
            "outputs": [],
            "execution_count": null
        },
        {
            "cell_type": "code",
            "source": [
                "CREATE TABLE Salesperson (\n",
                "    ID INT IDENTITY(1,1) PRIMARY KEY,\n",
                "    Name VARCHAR(50),\n",
                "    Age INT,\n",
                "    Salary MONEY\n",
                ");\n",
                "\n",
                "SET IDENTITY_INSERT Salesperson ON;\n",
                "\n",
                "INSERT INTO Salesperson (ID, Name, Age, Salary)\n",
                "VALUES \n",
                "    (1, 'Abe', 61, 140000),\n",
                "    (2, 'Bob', 34, 44000),\n",
                "    (5, 'Chris', 34, 40000),\n",
                "    (7, 'Dan', 41, 52000),\n",
                "    (8, 'Ken', 57, 115000),\n",
                "    (11, 'Joe', 38, 38000);\n",
                "\n",
                "SET IDENTITY_INSERT Salesperson OFF;\n",
                ""
            ],
            "metadata": {
                "language": "sql",
                "azdata_cell_guid": "2cfd2bb9-027e-480a-bf3c-586ddf5e7896",
                "tags": []
            },
            "outputs": [
                {
                    "output_type": "error",
                    "ename": "",
                    "evalue": "Msg 544, Level 16, State 1, Line 10\nCannot insert explicit value for identity column in table 'Salesperson' when IDENTITY_INSERT is set to OFF.",
                    "traceback": []
                },
                {
                    "output_type": "display_data",
                    "data": {
                        "text/html": "Total execution time: 00:00:00.013"
                    },
                    "metadata": {}
                }
            ],
            "execution_count": 1
        },
        {
            "cell_type": "code",
            "source": [
                "CREATE TABLE Customer (\n",
                "    ID INT IDENTITY(1,1) PRIMARY KEY,\n",
                "    Name VARCHAR(50),\n",
                "    City VARCHAR(50),\n",
                "    IndustryType CHAR(1)\n",
                ");\n",
                "\n",
                "SET IDENTITY_INSERT Customer ON;\n",
                "\n",
                "INSERT INTO Customer (ID, Name, City, IndustryType)\n",
                "VALUES \n",
                "    (4, 'Samsonic', 'pleasant', 'J'),\n",
                "    (6, 'Panasung', 'oaktown', 'J'),\n",
                "    (7, 'Samony', 'jackson', 'B'),\n",
                "    (9, 'Orange', 'Jackson', 'B');\n",
                "\n",
                "SET IDENTITY_INSERT Customer OFF;"
            ],
            "metadata": {
                "language": "sql",
                "azdata_cell_guid": "f2b0a3bf-d83d-4156-8782-5c188b37d949",
                "tags": []
            },
            "outputs": [],
            "execution_count": null
        },
        {
            "cell_type": "code",
            "source": [
                "CREATE TABLE Orders (\n",
                "    Number INT IDENTITY(10,10) PRIMARY KEY,\n",
                "    order_date DATE,\n",
                "    cust_id INT,\n",
                "    salesperson_id INT,\n",
                "    Amount MONEY,\n",
                "    FOREIGN KEY (cust_id) REFERENCES Customer(ID),\n",
                "    FOREIGN KEY (salesperson_id) REFERENCES Salesperson(ID)\n",
                ");\n",
                "\n",
                "INSERT INTO Orders (order_date, cust_id, salesperson_id, Amount)\n",
                "VALUES \n",
                "    ('2017-08-02', 4, 2, 540),\n",
                "    ('2017-01-30', 4, 8, 1800),\n",
                "    ('2017-07-14', 9, 1, 460),\n",
                "    ('2017-01-29', 7, 2, 2400),\n",
                "    ('2017-02-03', 6, 7, 600),\n",
                "    ('2017-03-02', 6, 7, 720),\n",
                "    ('2017-05-06', 9, 7, 150);"
            ],
            "metadata": {
                "language": "sql",
                "azdata_cell_guid": "788dc51e-60cf-41c7-81a1-a9f327617d9d",
                "tags": []
            },
            "outputs": [
                {
                    "output_type": "display_data",
                    "data": {
                        "text/html": "(7 rows affected)"
                    },
                    "metadata": {}
                },
                {
                    "output_type": "display_data",
                    "data": {
                        "text/html": "Total execution time: 00:00:00.013"
                    },
                    "metadata": {}
                }
            ],
            "execution_count": 15
        },
        {
            "cell_type": "markdown",
            "source": [
                "<span style=\"caret-color: rgb(60, 64, 67); color: rgb(60, 64, 67); font-family: Roboto, Arial, sans-serif; letter-spacing: 0.2px;\">3. შექმენით ფუნქცია SaveSalesPerson, რომელსაც პარამეტრად გადაეცემა Name,</span>  \n",
                "<span style=\"caret-color: rgb(60, 64, 67); color: rgb(60, 64, 67); font-family: Roboto, Arial, sans-serif; letter-spacing: 0.2px;\">Age, Salary და შესაბამის ინფორმაციას შეინახავს&nbsp;</span>"
            ],
            "metadata": {
                "language": "sql",
                "azdata_cell_guid": "c1c6a95c-69b6-4b53-a393-bef7ed1b1b2f"
            },
            "attachments": {}
        },
        {
            "cell_type": "code",
            "source": [
                "-- აღწერაში ფუნქციას ითხოვდი მაგრამ INSERT-ის სინტაქსი ფუნქციაში არ დაიშვება\n",
                "CREATE FUNCTION SaveSalesPerson \n",
                "(\n",
                "    @Name VARCHAR(50),\n",
                "    @Age INT,\n",
                "    @Salary MONEY\n",
                ")\n",
                "RETURNS INT\n",
                "AS\n",
                "BEGIN\n",
                "    DECLARE @InsertedID INT;\n",
                "\n",
                "    INSERT INTO Salesperson (Name, Age, Salary)\n",
                "    VALUES (@Name, @Age, @Salary);\n",
                "\n",
                "    SET @InsertedID = SCOPE_IDENTITY();\n",
                "\n",
                "    RETURN @InsertedID;\n",
                "END;"
            ],
            "metadata": {
                "language": "sql",
                "azdata_cell_guid": "2a0c977c-58c5-4553-a010-7e3dc41f1186"
            },
            "outputs": [
                {
                    "output_type": "error",
                    "evalue": "Msg 443, Level 16, State 15, Procedure SaveSalesPerson, Line 13\nInvalid use of a side-effecting operator 'INSERT' within a function.",
                    "ename": "",
                    "traceback": []
                },
                {
                    "output_type": "display_data",
                    "data": {
                        "text/html": "Total execution time: 00:00:00.004"
                    },
                    "metadata": {}
                }
            ],
            "execution_count": 7
        },
        {
            "cell_type": "code",
            "source": [
                "-- შესაბამისად ვქმნი პროცედურას\n",
                "CREATE PROCEDURE SaveSalesPerson \n",
                "    @Name VARCHAR(50),\n",
                "    @Age INT,\n",
                "    @Salary MONEY\n",
                "AS\n",
                "BEGIN\n",
                "    INSERT INTO Salesperson (Name, Age, Salary)\n",
                "    VALUES (@Name, @Age, @Salary);\n",
                "END;"
            ],
            "metadata": {
                "language": "sql",
                "azdata_cell_guid": "8559db86-f2c3-4297-9ceb-59dbeffb5060"
            },
            "outputs": [],
            "execution_count": null
        },
        {
            "cell_type": "markdown",
            "source": [
                "<span style=\"caret-color: rgb(60, 64, 67); color: rgb(60, 64, 67); font-family: Roboto, Arial, sans-serif; letter-spacing: 0.2px;\">4. შექმენით მოთხოვნა, რომელიც დააბრუნებს იმ გაყიდვების მენეჯერების სიას,</span>  \n",
                "<span style=\"caret-color: rgb(60, 64, 67); color: rgb(60, 64, 67); font-family: Roboto, Arial, sans-serif; letter-spacing: 0.2px;\">რომელთა შეკვეთა იყო Orange.</span>"
            ],
            "metadata": {
                "language": "sql",
                "azdata_cell_guid": "40df1932-f09e-4233-b714-b6c7917a99a1"
            },
            "attachments": {}
        },
        {
            "cell_type": "code",
            "source": [
                "SELECT Salesperson.*\n",
                "FROM Orders\n",
                "JOIN Salesperson ON Salesperson.ID = Orders.salesperson_id\n",
                "JOIN Customer ON Customer.ID = Orders.cust_id\n",
                "WHERE Customer.Name = 'Orange'\n",
                ""
            ],
            "metadata": {
                "language": "sql",
                "azdata_cell_guid": "440df3ab-af77-4148-a5a0-97186dddd585",
                "tags": []
            },
            "outputs": [
                {
                    "output_type": "display_data",
                    "data": {
                        "text/html": "(2 rows affected)"
                    },
                    "metadata": {}
                },
                {
                    "output_type": "display_data",
                    "data": {
                        "text/html": "Total execution time: 00:00:00.011"
                    },
                    "metadata": {}
                },
                {
                    "output_type": "execute_result",
                    "metadata": {},
                    "execution_count": 1,
                    "data": {
                        "application/vnd.dataresource+json": {
                            "schema": {
                                "fields": [
                                    {
                                        "name": "ID"
                                    },
                                    {
                                        "name": "Name"
                                    },
                                    {
                                        "name": "Age"
                                    },
                                    {
                                        "name": "Salary"
                                    }
                                ]
                            },
                            "data": [
                                {
                                    "ID": "1",
                                    "Name": "Abe",
                                    "Age": "61",
                                    "Salary": "140000,00"
                                },
                                {
                                    "ID": "7",
                                    "Name": "Dan",
                                    "Age": "41",
                                    "Salary": "52000,00"
                                }
                            ]
                        },
                        "text/html": [
                            "<table>",
                            "<tr><th>ID</th><th>Name</th><th>Age</th><th>Salary</th></tr>",
                            "<tr><td>1</td><td>Abe</td><td>61</td><td>140000,00</td></tr>",
                            "<tr><td>7</td><td>Dan</td><td>41</td><td>52000,00</td></tr>",
                            "</table>"
                        ]
                    }
                }
            ],
            "execution_count": 1
        },
        {
            "cell_type": "markdown",
            "source": [
                "<span style=\"caret-color: rgb(60, 64, 67); color: rgb(60, 64, 67); font-family: Roboto, Arial, sans-serif; letter-spacing: 0.2px;\">5. შექმენით მოთხოვნა, რომელიც დააბრუნებს იმ გაყიდვების მენეჯერების სიას,</span>  \n",
                "<span style=\"caret-color: rgb(60, 64, 67); color: rgb(60, 64, 67); font-family: Roboto, Arial, sans-serif; letter-spacing: 0.2px;\">რომელთა შეკვეთების რაოდენობა აღემატება 2-ს.</span>"
            ],
            "metadata": {
                "language": "sql",
                "azdata_cell_guid": "7d435977-5fcb-454f-9463-915f3e386f0b"
            },
            "attachments": {}
        },
        {
            "cell_type": "code",
            "source": [
                "SELECT \n",
                "    Salesperson.*\n",
                "FROM Orders\n",
                "JOIN Salesperson ON Salesperson.ID = Orders.salesperson_id\n",
                "GROUP BY Salesperson.ID, Salesperson.Name, Salesperson.Age, Salesperson.Salary\n",
                "HAVING COUNT(DISTINCT Orders.Number) > 2"
            ],
            "metadata": {
                "language": "sql",
                "azdata_cell_guid": "9a0cb143-87bc-4b99-978e-6496834fca1a"
            },
            "outputs": [
                {
                    "output_type": "display_data",
                    "data": {
                        "text/html": "(1 row affected)"
                    },
                    "metadata": {}
                },
                {
                    "output_type": "display_data",
                    "data": {
                        "text/html": "Total execution time: 00:00:00.012"
                    },
                    "metadata": {}
                },
                {
                    "output_type": "execute_result",
                    "metadata": {},
                    "execution_count": 3,
                    "data": {
                        "application/vnd.dataresource+json": {
                            "schema": {
                                "fields": [
                                    {
                                        "name": "ID"
                                    },
                                    {
                                        "name": "Name"
                                    },
                                    {
                                        "name": "Age"
                                    },
                                    {
                                        "name": "Salary"
                                    }
                                ]
                            },
                            "data": [
                                {
                                    "ID": "7",
                                    "Name": "Dan",
                                    "Age": "41",
                                    "Salary": "52000,00"
                                }
                            ]
                        },
                        "text/html": [
                            "<table>",
                            "<tr><th>ID</th><th>Name</th><th>Age</th><th>Salary</th></tr>",
                            "<tr><td>7</td><td>Dan</td><td>41</td><td>52000,00</td></tr>",
                            "</table>"
                        ]
                    }
                }
            ],
            "execution_count": 3
        },
        {
            "cell_type": "markdown",
            "source": [
                "<span style=\"caret-color: rgb(60, 64, 67); color: rgb(60, 64, 67); font-family: Roboto, Arial, sans-serif; letter-spacing: 0.2px;\">6. დაწერეთ მოთხოვნა, რომელიც highAchiever(Name, Age) ცხრილში გადაწერეს იმ</span>  \n",
                "<span style=\"caret-color: rgb(60, 64, 67); color: rgb(60, 64, 67); font-family: Roboto, Arial, sans-serif; letter-spacing: 0.2px;\">გაყიდვების მენეჯერების სახელს და ასაკს, რომელთა ხელფასი აღემატება 50 000-ს.</span>"
            ],
            "metadata": {
                "language": "sql",
                "azdata_cell_guid": "8b529460-b23c-486b-838e-55f72e5507c7"
            },
            "attachments": {}
        },
        {
            "cell_type": "code",
            "source": [
                "SELECT Name, Age\n",
                "INTO highAchiever\n",
                "FROM Salesperson\n",
                "WHERE Salary > 50000;"
            ],
            "metadata": {
                "language": "sql",
                "azdata_cell_guid": "85341a66-12c4-4a1c-877b-0a95a866e8ac"
            },
            "outputs": [
                {
                    "output_type": "display_data",
                    "data": {
                        "text/html": "(3 rows affected)"
                    },
                    "metadata": {}
                },
                {
                    "output_type": "display_data",
                    "data": {
                        "text/html": "Total execution time: 00:00:00.035"
                    },
                    "metadata": {}
                }
            ],
            "execution_count": 4
        },
        {
            "cell_type": "markdown",
            "source": [
                "<span style=\"caret-color: rgb(60, 64, 67); color: rgb(60, 64, 67); font-family: Roboto, Arial, sans-serif; letter-spacing: 0.2px;\">7. დაამუშავეთ მოთხოვნა, რომელიც დააჯგუფებს მონაცემებს მომხმარებლების</span>  \n",
                "<span style=\"caret-color: rgb(60, 64, 67); color: rgb(60, 64, 67); font-family: Roboto, Arial, sans-serif; letter-spacing: 0.2px;\">Industry Type მიხედვით და დაითვლის თითოეულისთვის შეკვეთის ჯამურ</span>  \n",
                "<span style=\"caret-color: rgb(60, 64, 67); color: rgb(60, 64, 67); font-family: Roboto, Arial, sans-serif; letter-spacing: 0.2px;\">ღირებულებას.</span>"
            ],
            "metadata": {
                "language": "sql",
                "azdata_cell_guid": "924b999d-7480-4bf0-b24d-6976009a91b9"
            },
            "attachments": {}
        },
        {
            "cell_type": "code",
            "source": [
                "SELECT\n",
                "    Customer.IndustryType,\n",
                "    SUM(Orders.Amount) AS TotalOrderAmount\n",
                "FROM Orders\n",
                "JOIN Customer ON Customer.ID = Orders.cust_id\n",
                "GROUP BY Customer.IndustryType"
            ],
            "metadata": {
                "language": "sql",
                "azdata_cell_guid": "cd0109df-106b-49af-85bb-0d1380ddfc38",
                "tags": []
            },
            "outputs": [
                {
                    "output_type": "display_data",
                    "data": {
                        "text/html": "(2 rows affected)"
                    },
                    "metadata": {}
                },
                {
                    "output_type": "display_data",
                    "data": {
                        "text/html": "Total execution time: 00:00:00.005"
                    },
                    "metadata": {}
                },
                {
                    "output_type": "execute_result",
                    "metadata": {},
                    "execution_count": 6,
                    "data": {
                        "application/vnd.dataresource+json": {
                            "schema": {
                                "fields": [
                                    {
                                        "name": "IndustryType"
                                    },
                                    {
                                        "name": "TotalOrderAmount"
                                    }
                                ]
                            },
                            "data": [
                                {
                                    "IndustryType": "B",
                                    "TotalOrderAmount": "3010,00"
                                },
                                {
                                    "IndustryType": "J",
                                    "TotalOrderAmount": "3660,00"
                                }
                            ]
                        },
                        "text/html": [
                            "<table>",
                            "<tr><th>IndustryType</th><th>TotalOrderAmount</th></tr>",
                            "<tr><td>B</td><td>3010,00</td></tr>",
                            "<tr><td>J</td><td>3660,00</td></tr>",
                            "</table>"
                        ]
                    }
                }
            ],
            "execution_count": 6
        },
        {
            "cell_type": "markdown",
            "source": [
                "<span style=\"caret-color: rgb(60, 64, 67); color: rgb(60, 64, 67); font-family: Roboto, Arial, sans-serif; letter-spacing: 0.2px;\">8. დაწერეთ ფუნქცია სახელად GetAverageAmountByDate, რომელსაც გადაეცემა</span>  \n",
                "<span style=\"caret-color: rgb(60, 64, 67); color: rgb(60, 64, 67); font-family: Roboto, Arial, sans-serif; letter-spacing: 0.2px;\">პარამეტრებად ორი თარიღი (start_date, end_date) და მითითებული შუალედისთვის</span>  \n",
                "<span style=\"caret-color: rgb(60, 64, 67); color: rgb(60, 64, 67); font-family: Roboto, Arial, sans-serif; letter-spacing: 0.2px;\">დააბრუნებს შეკვეთის საშუალო ღირებულებას.</span>"
            ],
            "metadata": {
                "language": "sql",
                "azdata_cell_guid": "b1ad313c-635f-4fe7-b0ea-ce109808f71d"
            },
            "attachments": {}
        },
        {
            "cell_type": "code",
            "source": [
                "CREATE FUNCTION GetAverageAmountByDate \n",
                "(\n",
                "    @start_date DATE,\n",
                "    @end_date DATE\n",
                ")\n",
                "RETURNS DECIMAL(10,2)\n",
                "AS\n",
                "BEGIN\n",
                "    DECLARE @AverageAmount DECIMAL(10,2);\n",
                "\n",
                "    SELECT @AverageAmount = AVG(Amount)\n",
                "    FROM Orders\n",
                "    WHERE order_date BETWEEN @start_date AND @end_date;\n",
                "\n",
                "    RETURN @AverageAmount;\n",
                "END;\n",
                ""
            ],
            "metadata": {
                "language": "sql",
                "azdata_cell_guid": "ddd7aa0a-3ec0-4b05-9eeb-f6f315157bb0"
            },
            "outputs": [
                {
                    "output_type": "display_data",
                    "data": {
                        "text/html": "Commands completed successfully."
                    },
                    "metadata": {}
                },
                {
                    "output_type": "display_data",
                    "data": {
                        "text/html": "Total execution time: 00:00:00.025"
                    },
                    "metadata": {}
                }
            ],
            "execution_count": 17
        }
    ]
}