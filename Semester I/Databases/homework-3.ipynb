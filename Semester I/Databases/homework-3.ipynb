{
    "metadata": {
        "kernelspec": {
            "name": "SQL",
            "display_name": "SQL",
            "language": "sql"
        },
        "language_info": {
            "name": "sql",
            "version": ""
        }
    },
    "nbformat_minor": 2,
    "nbformat": 4,
    "cells": [
        {
            "cell_type": "markdown",
            "source": [
                "<span style=\"caret-color: rgb(60, 64, 67); color: rgb(60, 64, 67); font-family: Roboto, Arial, sans-serif; letter-spacing: 0.2px;\">1.&nbsp;</span> <span style=\"caret-color: rgb(60, 64, 67); color: rgb(60, 64, 67); font-family: Roboto, Arial, sans-serif; letter-spacing: 0.2px;\">დაწერე ფუნქცია რომელმაც უნდა დააბრუნოს ბონუსის რაოდენობა რაც ეკუთვნის&nbsp;</span> <span style=\"caret-color: rgb(60, 64, 67); color: rgb(60, 64, 67); font-family: Roboto, Arial, sans-serif; letter-spacing: 0.2px;\">თანამშრომელს Id ის&nbsp;</span> <span style=\"caret-color: rgb(60, 64, 67); color: rgb(60, 64, 67); font-family: Roboto, Arial, sans-serif; letter-spacing: 0.2px;\">მიხედვით: თუ თანამშრომელი კომპანიაში მუშაობს 30 წელზე მეტი ხანია ის მიიღებს 50%</span><span style=\"caret-color: rgb(60, 64, 67); color: rgb(60, 64, 67); font-family: Roboto, Arial, sans-serif; letter-spacing: 0.2px;\">, თუ 20-30 – 40% და თუ 15-20 მაშინ 30%</span>"
            ],
            "metadata": {
                "azdata_cell_guid": "7f002db9-1b61-46da-88a7-633942dae440"
            },
            "attachments": {}
        },
        {
            "cell_type": "code",
            "source": [
                "CREATE FUNCTION CalculateBonusPercentage (@emp_id INT)\n",
                "RETURNS FLOAT\n",
                "AS\n",
                "BEGIN\n",
                "    DECLARE @BonusPercentage FLOAT\n",
                "    DECLARE @YearsWorked INT\n",
                "\n",
                "    SELECT @YearsWorked = DATEDIFF(YEAR, hire_date, GETDATE())\n",
                "    FROM employee\n",
                "    WHERE emp_id = @emp_id\n",
                "\n",
                "    IF @YearsWorked > 30\n",
                "        SET @BonusPercentage = 0.5; -- 50%\n",
                "    ELSE IF @YearsWorked >= 20 AND @YearsWorked <= 30\n",
                "        SET @BonusPercentage = 0.4; -- 40%\n",
                "    ELSE IF @YearsWorked >= 12 AND @YearsWorked < 20\n",
                "        SET @BonusPercentage = 0.3; -- 30%\n",
                "    ELSE\n",
                "        SET @BonusPercentage = 0; -- No bonus for less than 12 years\n",
                "\n",
                "    RETURN @BonusPercentage;\n",
                "END;\n",
                ""
            ],
            "metadata": {
                "azdata_cell_guid": "760f1d90-ffd1-41f0-90ea-24c57cd4a47e",
                "language": "sql"
            },
            "outputs": [
                {
                    "output_type": "display_data",
                    "data": {
                        "text/html": "Commands completed successfully."
                    },
                    "metadata": {}
                },
                {
                    "output_type": "display_data",
                    "data": {
                        "text/html": "Total execution time: 00:00:00.017"
                    },
                    "metadata": {}
                }
            ],
            "execution_count": 2
        },
        {
            "cell_type": "markdown",
            "source": [
                "<span style=\"caret-color: rgb(60, 64, 67); color: rgb(60, 64, 67); font-family: Roboto, Arial, sans-serif; letter-spacing: 0.2px;\">2.&nbsp;&nbsp;&nbsp;&nbsp;&nbsp;</span>     <span style=\"caret-color: rgb(60, 64, 67); color: rgb(60, 64, 67); font-family: Roboto, Arial, sans-serif; letter-spacing: 0.2px;\">დაწერე ფუნქცია რომელიც დააბრუნებს სიას თითოეული ავტოების დაჯგუფებულს ქვეყნების მიხედვით</span>"
            ],
            "metadata": {
                "language": "sql",
                "azdata_cell_guid": "d354ec7c-d03a-4841-b6b0-6319a0d13c3a"
            },
            "attachments": {}
        },
        {
            "cell_type": "code",
            "source": [
                "CREATE FUNCTION GetAuthorsByCity()\n",
                "RETURNS TABLE\n",
                "AS\n",
                "RETURN (\n",
                "    SELECT city, STRING_AGG(CONCAT(au_fname, ' ', au_lname), ', ') AS authors_in_city\n",
                "    FROM authors\n",
                "    GROUP BY city\n",
                ");"
            ],
            "metadata": {
                "language": "sql",
                "azdata_cell_guid": "daf41293-5fd1-476a-a6c2-29ec498dbca1",
                "tags": []
            },
            "outputs": [
                {
                    "output_type": "display_data",
                    "data": {
                        "text/html": "Commands completed successfully."
                    },
                    "metadata": {}
                },
                {
                    "output_type": "display_data",
                    "data": {
                        "text/html": "Total execution time: 00:00:00.013"
                    },
                    "metadata": {}
                }
            ],
            "execution_count": 3
        },
        {
            "cell_type": "markdown",
            "source": [
                "<span style=\"caret-color: rgb(60, 64, 67); color: rgb(60, 64, 67); font-family: Roboto, Arial, sans-serif; letter-spacing: 0.2px;\">3.&nbsp;</span> <span style=\"caret-color: rgb(60, 64, 67); color: rgb(60, 64, 67); font-family: Roboto, Arial, sans-serif; letter-spacing: 0.2px;\">დაწერეთ ფუნქცია რომელიც დააბრუნებს Order Number იმ შეკვეთისას რომლიდანაც ყველაზე მეტი მოგება მიიღო გამომცემლობამ</span>"
            ],
            "metadata": {
                "language": "sql",
                "azdata_cell_guid": "07c64fa9-c716-4929-9c7b-fe87d88dbfb9"
            },
            "attachments": {}
        },
        {
            "cell_type": "code",
            "source": [
                "CREATE FUNCTION FindOrderWithHighestIncome()\n",
                "RETURNS VARCHAR(20)\n",
                "AS\n",
                "BEGIN\n",
                "    DECLARE @OrderWithHighestIncome VARCHAR(20)\n",
                "\n",
                "    SELECT TOP 1 @OrderWithHighestIncome = sales.ord_num\n",
                "    FROM sales\n",
                "    INNER JOIN titles ON sales.title_id = titles.title_id\n",
                "    ORDER BY (sales.qty * titles.price - sales.qty * titles.royalty) DESC;\n",
                "\n",
                "    RETURN @OrderWithHighestIncome;\n",
                "END;\n",
                ""
            ],
            "metadata": {
                "language": "sql",
                "azdata_cell_guid": "05f4fba8-f48e-4563-9cd5-9410de6dcbd4"
            },
            "outputs": [
                {
                    "output_type": "display_data",
                    "data": {
                        "text/html": "Commands completed successfully."
                    },
                    "metadata": {}
                },
                {
                    "output_type": "display_data",
                    "data": {
                        "text/html": "Total execution time: 00:00:00.012"
                    },
                    "metadata": {}
                }
            ],
            "execution_count": 1
        },
        {
            "cell_type": "markdown",
            "source": [
                "<span style=\"caret-color: rgb(60, 64, 67); color: rgb(60, 64, 67); font-family: Roboto, Arial, sans-serif; letter-spacing: 0.2px;\">4.&nbsp;</span> <span style=\"caret-color: rgb(60, 64, 67); color: rgb(60, 64, 67); font-family: Roboto, Arial, sans-serif; letter-spacing: 0.2px;\">სექტემბრის თვეში გამოცემული წიგნების ფასების ჯამი.</span>"
            ],
            "metadata": {
                "language": "sql",
                "azdata_cell_guid": "efb66303-35ab-4312-beb8-bf0599071c01"
            },
            "attachments": {}
        },
        {
            "cell_type": "code",
            "source": [
                "CREATE FUNCTION SumPricesOfPublicationsInSeptember()\n",
                "RETURNS MONEY\n",
                "AS\n",
                "BEGIN\n",
                "    DECLARE @TotalPrice MONEY\n",
                "\n",
                "    SELECT @TotalPrice = SUM(titles.price)\n",
                "    FROM titles\n",
                "    WHERE MONTH(titles.pubdate) = 9; --September\n",
                "\n",
                "    RETURN @TotalPrice;\n",
                "END;"
            ],
            "metadata": {
                "language": "sql",
                "azdata_cell_guid": "1f580683-43ed-4966-aeee-e859b4398260"
            },
            "outputs": [
                {
                    "output_type": "display_data",
                    "data": {
                        "text/html": "Commands completed successfully."
                    },
                    "metadata": {}
                },
                {
                    "output_type": "display_data",
                    "data": {
                        "text/html": "Total execution time: 00:00:00.032"
                    },
                    "metadata": {}
                }
            ],
            "execution_count": 2
        }
    ]
}