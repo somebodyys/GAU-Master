{
    "metadata": {
        "kernelspec": {
            "name": "SQL",
            "display_name": "SQL",
            "language": "sql"
        },
        "language_info": {
            "name": "sql",
            "version": ""
        }
    },
    "nbformat_minor": 2,
    "nbformat": 4,
    "cells": [
        {
            "cell_type": "markdown",
            "source": [
                "<span style=\"caret-color: rgb(60, 64, 67); color: rgb(60, 64, 67); font-family: Roboto, Arial, sans-serif; letter-spacing: 0.2px;\">ააგეთ მოცემული ცხრიელბის მსგავსი Table ები თქვენს ბაზაში და JOIN კონტრუქცუების გამოყენებით გამოიტანეთ მონაცემები.</span>"
            ],
            "metadata": {
                "language": "sql",
                "azdata_cell_guid": "8e1d1ac5-9fc7-445c-9e01-a7ede567ac74"
            },
            "attachments": {}
        },
        {
            "cell_type": "code",
            "source": [
                "-- Create and Use Database\n",
                "CREATE DATABASE university;\n",
                "USE university;\n",
                "\n",
                "-- Create Students table\n",
                "CREATE TABLE Students (\n",
                "    SNum INT PRIMARY KEY,\n",
                "    Sname VARCHAR(50),\n",
                "    Major VARCHAR(50),\n",
                "    GPA DECIMAL(3, 1)\n",
                ");\n",
                "\n",
                "-- Insert data into Students table\n",
                "INSERT INTO Students (SNum, Sname, Major, GPA)\n",
                "VALUES\n",
                "    (101, 'Andy', 'IS', 3.2),\n",
                "    (102, 'Betty', 'FIN', 1.8),\n",
                "    (103, 'Cindy', 'IS', 3.8);\n",
                "\n",
                "-- Create Courses table\n",
                "CREATE TABLE Courses (\n",
                "    CNum VARCHAR(10) PRIMARY KEY,\n",
                "    Ctitle VARCHAR(50),\n",
                "    Instr VARCHAR(50)\n",
                ");\n",
                "\n",
                "-- Insert data into Courses table\n",
                "INSERT INTO Courses (CNum, Ctitle, Instr)\n",
                "VALUES\n",
                "    ('IS380', 'Database', 'Lee'),\n",
                "    ('IS385', 'Systems', 'Smith'),\n",
                "    ('IS355', 'Telecomm', 'Lee');\n",
                "\n",
                "-- Create Enrollments table\n",
                "CREATE TABLE Enrollments (\n",
                "    SNum INT,\n",
                "    CNum VARCHAR(10),\n",
                "    Grade VARCHAR(2),\n",
                "    FOREIGN KEY (SNum) REFERENCES Students(SNum),\n",
                "    FOREIGN KEY (CNum) REFERENCES Courses(CNum)\n",
                ");\n",
                "\n",
                "-- Insert data into Enrollments table\n",
                "INSERT INTO Enrollments (SNum, CNum, Grade)\n",
                "VALUES\n",
                "    (101, 'IS380', 'B'),\n",
                "    (101, 'IS385', 'A'),\n",
                "    (102, 'IS380', 'A'),\n",
                "    (103, 'IS355', 'B');\n",
                ""
            ],
            "metadata": {
                "azdata_cell_guid": "abe18863-cc62-4989-b4b8-02f20e7cc528",
                "language": "sql",
                "tags": []
            },
            "outputs": [
                {
                    "output_type": "display_data",
                    "data": {
                        "text/html": "(3 rows affected)"
                    },
                    "metadata": {}
                },
                {
                    "output_type": "display_data",
                    "data": {
                        "text/html": "(3 rows affected)"
                    },
                    "metadata": {}
                },
                {
                    "output_type": "display_data",
                    "data": {
                        "text/html": "(4 rows affected)"
                    },
                    "metadata": {}
                },
                {
                    "output_type": "display_data",
                    "data": {
                        "text/html": "Total execution time: 00:00:00.036"
                    },
                    "metadata": {}
                }
            ],
            "execution_count": 5
        },
        {
            "cell_type": "markdown",
            "source": [
                "<span style=\"caret-color: rgb(60, 64, 67); color: rgb(60, 64, 67); font-family: Roboto, Arial, sans-serif; letter-spacing: 0.2px;\">1.გამოიტანეთ CNum,title და Grade კურსების რომლებსაც Andy ესწრება</span>"
            ],
            "metadata": {
                "language": "sql",
                "azdata_cell_guid": "d82a6951-078d-491e-b60b-b33f797a39ef"
            },
            "attachments": {}
        },
        {
            "cell_type": "code",
            "source": [
                "SELECT \n",
                "    Courses.CNum,\n",
                "    Courses.Ctitle,\n",
                "    Enrollments.Grade\n",
                "FROM Enrollments\n",
                "JOIN Students ON Students.SNum = Enrollments.SNum\n",
                "JOIN Courses ON Courses.CNum = Enrollments.CNum\n",
                "WHERE Students.Sname = 'Andy'\n",
                ""
            ],
            "metadata": {
                "language": "sql",
                "azdata_cell_guid": "daada91b-9e3e-4829-b78c-ffb21c199b9b",
                "tags": []
            },
            "outputs": [
                {
                    "output_type": "display_data",
                    "data": {
                        "text/html": "(2 rows affected)"
                    },
                    "metadata": {}
                },
                {
                    "output_type": "display_data",
                    "data": {
                        "text/html": "Total execution time: 00:00:00.003"
                    },
                    "metadata": {}
                },
                {
                    "output_type": "execute_result",
                    "metadata": {},
                    "execution_count": 3,
                    "data": {
                        "application/vnd.dataresource+json": {
                            "schema": {
                                "fields": [
                                    {
                                        "name": "CNum"
                                    },
                                    {
                                        "name": "Ctitle"
                                    },
                                    {
                                        "name": "Grade"
                                    }
                                ]
                            },
                            "data": [
                                {
                                    "CNum": "IS380",
                                    "Ctitle": "Database",
                                    "Grade": "B"
                                },
                                {
                                    "CNum": "IS385",
                                    "Ctitle": "Systems",
                                    "Grade": "A"
                                }
                            ]
                        },
                        "text/html": [
                            "<table>",
                            "<tr><th>CNum</th><th>Ctitle</th><th>Grade</th></tr>",
                            "<tr><td>IS380</td><td>Database</td><td>B</td></tr>",
                            "<tr><td>IS385</td><td>Systems</td><td>A</td></tr>",
                            "</table>"
                        ]
                    }
                }
            ],
            "execution_count": 3
        },
        {
            "cell_type": "markdown",
            "source": [
                "<span style=\"caret-color: rgb(60, 64, 67); color: rgb(60, 64, 67); font-family: Roboto, Arial, sans-serif; letter-spacing: 0.2px;\">2.გამოიტანეთ SNum და SName სტუდენტების რომლებიც IS380 ესწრებიან&nbsp;</span>"
            ],
            "metadata": {
                "language": "sql",
                "azdata_cell_guid": "46b66f9d-284f-4380-a5db-6deb031319a1"
            },
            "attachments": {}
        },
        {
            "cell_type": "code",
            "source": [
                "SELECT \n",
                "    Students.SNum,\n",
                "    Students.Sname\n",
                "FROM Enrollments\n",
                "JOIN Students ON Students.SNum = Enrollments.SNum\n",
                "WHERE Enrollments.CNum = 'IS380'\n",
                ""
            ],
            "metadata": {
                "language": "sql",
                "azdata_cell_guid": "ec0be407-905f-4b2c-bfe3-b9bc6c95cd4e",
                "tags": []
            },
            "outputs": [
                {
                    "output_type": "display_data",
                    "data": {
                        "text/html": "(2 rows affected)"
                    },
                    "metadata": {}
                },
                {
                    "output_type": "display_data",
                    "data": {
                        "text/html": "Total execution time: 00:00:00.008"
                    },
                    "metadata": {}
                },
                {
                    "output_type": "execute_result",
                    "metadata": {},
                    "execution_count": 4,
                    "data": {
                        "application/vnd.dataresource+json": {
                            "schema": {
                                "fields": [
                                    {
                                        "name": "SNum"
                                    },
                                    {
                                        "name": "Sname"
                                    }
                                ]
                            },
                            "data": [
                                {
                                    "SNum": "101",
                                    "Sname": "Andy"
                                },
                                {
                                    "SNum": "102",
                                    "Sname": "Betty"
                                }
                            ]
                        },
                        "text/html": [
                            "<table>",
                            "<tr><th>SNum</th><th>Sname</th></tr>",
                            "<tr><td>101</td><td>Andy</td></tr>",
                            "<tr><td>102</td><td>Betty</td></tr>",
                            "</table>"
                        ]
                    }
                }
            ],
            "execution_count": 4
        },
        {
            "cell_type": "markdown",
            "source": [
                "<span style=\"caret-color: rgb(60, 64, 67); color: rgb(60, 64, 67); font-family: Roboto, Arial, sans-serif; letter-spacing: 0.2px;\">3.გამოიტანეთ SNum და SName სტუდენტების რომლებიც&nbsp;IS380 ესწრებიან და \"A\" მიიღეს</span>"
            ],
            "metadata": {
                "language": "sql",
                "azdata_cell_guid": "4d38236a-b421-4567-9879-2966523bbdfb"
            },
            "attachments": {}
        },
        {
            "cell_type": "code",
            "source": [
                "SELECT \n",
                "    Students.SNum,\n",
                "    Students.Sname\n",
                "FROM Enrollments\n",
                "JOIN Students ON Students.SNum = Enrollments.SNum\n",
                "WHERE Enrollments.CNum = 'IS380'\n",
                "AND Enrollments.Grade = 'A'\n",
                ""
            ],
            "metadata": {
                "language": "sql",
                "azdata_cell_guid": "9822b835-4e3e-44ce-8df0-08e339655273"
            },
            "outputs": [
                {
                    "output_type": "display_data",
                    "data": {
                        "text/html": "(1 row affected)"
                    },
                    "metadata": {}
                },
                {
                    "output_type": "display_data",
                    "data": {
                        "text/html": "Total execution time: 00:00:00.010"
                    },
                    "metadata": {}
                },
                {
                    "output_type": "execute_result",
                    "metadata": {},
                    "execution_count": 5,
                    "data": {
                        "application/vnd.dataresource+json": {
                            "schema": {
                                "fields": [
                                    {
                                        "name": "SNum"
                                    },
                                    {
                                        "name": "Sname"
                                    }
                                ]
                            },
                            "data": [
                                {
                                    "SNum": "102",
                                    "Sname": "Betty"
                                }
                            ]
                        },
                        "text/html": [
                            "<table>",
                            "<tr><th>SNum</th><th>Sname</th></tr>",
                            "<tr><td>102</td><td>Betty</td></tr>",
                            "</table>"
                        ]
                    }
                }
            ],
            "execution_count": 5
        },
        {
            "cell_type": "markdown",
            "source": [
                "<span style=\"caret-color: rgb(60, 64, 67); color: rgb(60, 64, 67); font-family: Roboto, Arial, sans-serif; letter-spacing: 0.2px;\">4.გამოიტანეთ SNum და SName&nbsp;სტუდენტების&nbsp;რომელთა major არის IS და ესწრებიან&nbsp;IS380</span>"
            ],
            "metadata": {
                "language": "sql",
                "azdata_cell_guid": "a31c436e-304f-4322-b2a1-13e0714222f4"
            },
            "attachments": {}
        },
        {
            "cell_type": "code",
            "source": [
                "SELECT \n",
                "    Students.SNum,\n",
                "    Students.Sname\n",
                "FROM Enrollments\n",
                "JOIN Students ON Students.SNum = Enrollments.SNum\n",
                "WHERE Enrollments.CNum = 'IS380'\n",
                "AND Students.Major = 'IS'"
            ],
            "metadata": {
                "language": "sql",
                "azdata_cell_guid": "34f3cd98-12cd-4e88-8ce3-4c9f33383003"
            },
            "outputs": [
                {
                    "output_type": "display_data",
                    "data": {
                        "text/html": "(1 row affected)"
                    },
                    "metadata": {}
                },
                {
                    "output_type": "display_data",
                    "data": {
                        "text/html": "Total execution time: 00:00:00.008"
                    },
                    "metadata": {}
                },
                {
                    "output_type": "execute_result",
                    "metadata": {},
                    "execution_count": 6,
                    "data": {
                        "application/vnd.dataresource+json": {
                            "schema": {
                                "fields": [
                                    {
                                        "name": "SNum"
                                    },
                                    {
                                        "name": "Sname"
                                    }
                                ]
                            },
                            "data": [
                                {
                                    "SNum": "101",
                                    "Sname": "Andy"
                                }
                            ]
                        },
                        "text/html": [
                            "<table>",
                            "<tr><th>SNum</th><th>Sname</th></tr>",
                            "<tr><td>101</td><td>Andy</td></tr>",
                            "</table>"
                        ]
                    }
                }
            ],
            "execution_count": 6
        },
        {
            "cell_type": "markdown",
            "source": [
                "<span style=\"caret-color: rgb(60, 64, 67); color: rgb(60, 64, 67); font-family: Roboto, Arial, sans-serif; letter-spacing: 0.2px;\">5.გამოიტანე&nbsp;SNum და SName&nbsp;სტუდენტების&nbsp;რომელთა major არის IS&nbsp;და მიიღეს \"A\"&nbsp;&nbsp;&nbsp;IS380 კურსში</span>"
            ],
            "metadata": {
                "language": "sql",
                "azdata_cell_guid": "bac7ccfc-12b1-41ab-83ea-e1d67b8a1a66"
            },
            "attachments": {}
        },
        {
            "cell_type": "code",
            "source": [
                "SELECT \n",
                "    Students.SNum,\n",
                "    Students.Sname\n",
                "FROM Enrollments\n",
                "JOIN Students ON Students.SNum = Enrollments.SNum\n",
                "WHERE Enrollments.CNum = 'IS380'\n",
                "AND Enrollments.Grade = 'A'\n",
                "AND Students.Major = 'IS'"
            ],
            "metadata": {
                "language": "sql",
                "azdata_cell_guid": "c8a2470c-ffe0-4c18-95fd-fde4b89521c3"
            },
            "outputs": [
                {
                    "output_type": "display_data",
                    "data": {
                        "text/html": "(0 rows affected)"
                    },
                    "metadata": {}
                },
                {
                    "output_type": "display_data",
                    "data": {
                        "text/html": "Total execution time: 00:00:00.008"
                    },
                    "metadata": {}
                },
                {
                    "output_type": "execute_result",
                    "metadata": {},
                    "execution_count": 7,
                    "data": {
                        "application/vnd.dataresource+json": {
                            "schema": {
                                "fields": [
                                    {
                                        "name": "SNum"
                                    },
                                    {
                                        "name": "Sname"
                                    }
                                ]
                            },
                            "data": []
                        },
                        "text/html": [
                            "<table>",
                            "<tr><th>SNum</th><th>Sname</th></tr>",
                            "</table>"
                        ]
                    }
                }
            ],
            "execution_count": 7
        },
        {
            "cell_type": "markdown",
            "source": [
                "<span style=\"caret-color: rgb(60, 64, 67); color: rgb(60, 64, 67); font-family: Roboto, Arial, sans-serif; letter-spacing: 0.2px;\">6.გამოიტანე&nbsp;SNum და SName&nbsp;სტუდენტების&nbsp;რომლებიც IS380 ესწრებიან&nbsp;, მაგრამ მათი&nbsp;major არ არის IS</span>"
            ],
            "metadata": {
                "language": "sql",
                "azdata_cell_guid": "ec4be132-8d47-493d-99c8-7b62f57417a8"
            },
            "attachments": {}
        },
        {
            "cell_type": "code",
            "source": [
                "SELECT \n",
                "    Students.SNum,\n",
                "    Students.Sname\n",
                "FROM Enrollments\n",
                "JOIN Students ON Students.SNum = Enrollments.SNum\n",
                "WHERE Enrollments.CNum = 'IS380'\n",
                "AND Students.Major <> 'IS'"
            ],
            "metadata": {
                "language": "sql",
                "azdata_cell_guid": "4ef150b0-5662-40e3-9e0e-62699532c879"
            },
            "outputs": [
                {
                    "output_type": "display_data",
                    "data": {
                        "text/html": "(1 row affected)"
                    },
                    "metadata": {}
                },
                {
                    "output_type": "display_data",
                    "data": {
                        "text/html": "Total execution time: 00:00:00.021"
                    },
                    "metadata": {}
                },
                {
                    "output_type": "execute_result",
                    "metadata": {},
                    "execution_count": 8,
                    "data": {
                        "application/vnd.dataresource+json": {
                            "schema": {
                                "fields": [
                                    {
                                        "name": "SNum"
                                    },
                                    {
                                        "name": "Sname"
                                    }
                                ]
                            },
                            "data": [
                                {
                                    "SNum": "102",
                                    "Sname": "Betty"
                                }
                            ]
                        },
                        "text/html": [
                            "<table>",
                            "<tr><th>SNum</th><th>Sname</th></tr>",
                            "<tr><td>102</td><td>Betty</td></tr>",
                            "</table>"
                        ]
                    }
                }
            ],
            "execution_count": 8
        },
        {
            "cell_type": "markdown",
            "source": [
                "<span style=\"caret-color: rgb(60, 64, 67); color: rgb(60, 64, 67); font-family: Roboto, Arial, sans-serif; letter-spacing: 0.2px;\">7.გამოიტანე&nbsp;SNum&nbsp;&nbsp;სტუდენტების&nbsp;რომლებმაც აირჩიეს \"Telecomm\" კურსი</span>"
            ],
            "metadata": {
                "language": "sql",
                "azdata_cell_guid": "c187b9f7-e7b6-498a-838f-576875124e3d"
            },
            "attachments": {}
        },
        {
            "cell_type": "code",
            "source": [
                "SELECT \n",
                "    Students.SNum\n",
                "FROM Enrollments\n",
                "JOIN Students ON Students.SNum = Enrollments.SNum\n",
                "JOIN Courses ON Courses.CNum = Enrollments.CNum\n",
                "WHERE Courses.Ctitle = 'Telecomm'"
            ],
            "metadata": {
                "language": "sql",
                "azdata_cell_guid": "cbc95cc9-afc1-4eab-9aaf-93f7c4931459"
            },
            "outputs": [
                {
                    "output_type": "display_data",
                    "data": {
                        "text/html": "(1 row affected)"
                    },
                    "metadata": {}
                },
                {
                    "output_type": "display_data",
                    "data": {
                        "text/html": "Total execution time: 00:00:00.011"
                    },
                    "metadata": {}
                },
                {
                    "output_type": "execute_result",
                    "metadata": {},
                    "execution_count": 9,
                    "data": {
                        "application/vnd.dataresource+json": {
                            "schema": {
                                "fields": [
                                    {
                                        "name": "SNum"
                                    }
                                ]
                            },
                            "data": [
                                {
                                    "SNum": "103"
                                }
                            ]
                        },
                        "text/html": [
                            "<table>",
                            "<tr><th>SNum</th></tr>",
                            "<tr><td>103</td></tr>",
                            "</table>"
                        ]
                    }
                }
            ],
            "execution_count": 9
        },
        {
            "cell_type": "markdown",
            "source": [
                "<span style=\"caret-color: rgb(60, 64, 67); color: rgb(60, 64, 67); font-family: Roboto, Arial, sans-serif; letter-spacing: 0.2px;\">8.გამოიტანე&nbsp;SNum&nbsp;&nbsp;სტუდენტების&nbsp;რომლებმაც მიიღეს \"A\" lee-ს ნებისმიერ კურსში</span>"
            ],
            "metadata": {
                "language": "sql",
                "azdata_cell_guid": "808eb0e8-4399-4761-9dd6-310c8fb07bc4"
            },
            "attachments": {}
        },
        {
            "cell_type": "code",
            "source": [
                "SELECT \n",
                "    Students.SNum\n",
                "FROM Enrollments\n",
                "JOIN Students ON Students.SNum = Enrollments.SNum\n",
                "JOIN Courses ON Courses.CNum = Enrollments.CNum\n",
                "WHERE Courses.Instr = 'Lee'\n",
                "AND Enrollments.Grade = 'A'"
            ],
            "metadata": {
                "language": "sql",
                "azdata_cell_guid": "ea8a9c14-2083-4214-843c-e70cd020549e"
            },
            "outputs": [
{
    "output_type": "display_data",
    "data": {
        "text/html": "(1 row affected)"
    },
    "metadata": {}
}, {
    "output_type": "display_data",
    "data": {
        "text/html": "Total execution time: 00:00:00.010"
    },
    "metadata": {}
}, {
    "output_type": "execute_result",
    "metadata": {},
    "execution_count": 15,
    "data": {
        "application/vnd.dataresource+json": {
            "schema": {
                "fields": [
                    {
                        "name": "SNum"
                    }
                ]
            },
            "data": [
                {
                    "SNum": "102"
                }
            ]
        },
        "text/html": [
            "<table>",
            "<tr><th>SNum</th></tr>",
            "<tr><td>102</td></tr>",
            "</table>"
        ]
    }
}
],
            "execution_count": 15
        },
        {
            "cell_type": "markdown",
            "source": [
                "<span style=\"caret-color: rgb(60, 64, 67); color: rgb(60, 64, 67); font-family: Roboto, Arial, sans-serif; letter-spacing: 0.2px;\">9.გამოიტანეთ SNum და SName სტუდენტების რომელთა GPA 2 ზე ნაკლებია ,&nbsp; მაგრამ&nbsp;მიიღეს \"A\" lee-ს ნებისმიერ კურსში</span>"
            ],
            "metadata": {
                "language": "sql",
                "azdata_cell_guid": "f36e1ae5-c4ab-4b91-8f7a-b7dd818acf19"
            },
            "attachments": {}
        },
        {
            "cell_type": "code",
            "source": [
                "SELECT \n",
                "    Students.SNum,\n",
                "    Students.Sname\n",
                "FROM Enrollments\n",
                "JOIN Students ON Students.SNum = Enrollments.SNum\n",
                "JOIN Courses ON Courses.CNum = Enrollments.CNum\n",
                "WHERE Students.GPA < 2\n",
                "AND Courses.Instr = 'Lee'\n",
                "AND Enrollments.Grade = 'A'"
            ],
            "metadata": {
                "language": "sql",
                "azdata_cell_guid": "9b639833-1c92-40b5-a6fa-6886a7ce4334"
            },
            "outputs": [
                {
                    "output_type": "display_data",
                    "data": {
                        "text/html": "(1 row affected)"
                    },
                    "metadata": {}
                },
                {
                    "output_type": "display_data",
                    "data": {
                        "text/html": "Total execution time: 00:00:00.010"
                    },
                    "metadata": {}
                },
                {
                    "output_type": "execute_result",
                    "metadata": {},
                    "execution_count": 14,
                    "data": {
                        "application/vnd.dataresource+json": {
                            "schema": {
                                "fields": [
                                    {
                                        "name": "SNum"
                                    },
                                    {
                                        "name": "Sname"
                                    }
                                ]
                            },
                            "data": [
                                {
                                    "SNum": "102",
                                    "Sname": "Betty"
                                }
                            ]
                        },
                        "text/html": [
                            "<table>",
                            "<tr><th>SNum</th><th>Sname</th></tr>",
                            "<tr><td>102</td><td>Betty</td></tr>",
                            "</table>"
                        ]
                    }
                }
            ],
            "execution_count": 14
        },
        {
            "cell_type": "markdown",
            "source": [
                "<span style=\"caret-color: rgb(60, 64, 67); color: rgb(60, 64, 67); font-family: Roboto, Arial, sans-serif; letter-spacing: 0.2px;\">10.გამოიტანეთ SNum და SName სტუდენტების რომელთა ინსტრუქტორი არის \"Lee\"</span>"
            ],
            "metadata": {
                "language": "sql",
                "azdata_cell_guid": "f5926981-5471-4dc8-9368-c3a238e6c56c"
            },
            "attachments": {}
        },
        {
            "cell_type": "code",
            "source": [
                "SELECT \n",
                "    Students.SNum,\n",
                "    Students.Sname\n",
                "FROM Enrollments\n",
                "JOIN Students ON Students.SNum = Enrollments.SNum\n",
                "JOIN Courses ON Courses.CNum = Enrollments.CNum\n",
                "WHERE Courses.Instr = 'Lee'"
            ],
            "metadata": {
                "language": "sql",
                "azdata_cell_guid": "d0d9f946-a9c5-48b1-8132-32f2cc8967c0"
            },
            "outputs": [
                {
                    "output_type": "display_data",
                    "data": {
                        "text/html": "(3 rows affected)"
                    },
                    "metadata": {}
                },
                {
                    "output_type": "display_data",
                    "data": {
                        "text/html": "Total execution time: 00:00:00.010"
                    },
                    "metadata": {}
                },
                {
                    "output_type": "execute_result",
                    "metadata": {},
                    "execution_count": 13,
                    "data": {
                        "application/vnd.dataresource+json": {
                            "schema": {
                                "fields": [
                                    {
                                        "name": "SNum"
                                    },
                                    {
                                        "name": "Sname"
                                    }
                                ]
                            },
                            "data": [
                                {
                                    "SNum": "101",
                                    "Sname": "Andy"
                                },
                                {
                                    "SNum": "102",
                                    "Sname": "Betty"
                                },
                                {
                                    "SNum": "103",
                                    "Sname": "Cindy"
                                }
                            ]
                        },
                        "text/html": [
                            "<table>",
                            "<tr><th>SNum</th><th>Sname</th></tr>",
                            "<tr><td>101</td><td>Andy</td></tr>",
                            "<tr><td>102</td><td>Betty</td></tr>",
                            "<tr><td>103</td><td>Cindy</td></tr>",
                            "</table>"
                        ]
                    }
                }
            ],
            "execution_count": 13
        }
    ]
}