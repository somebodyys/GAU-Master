{
    "metadata": {
        "kernelspec": {
            "name": "SQL",
            "display_name": "SQL",
            "language": "sql"
        },
        "language_info": {
            "name": "sql",
            "version": ""
        }
    },
    "nbformat_minor": 2,
    "nbformat": 4,
    "cells": [
        {
            "cell_type": "markdown",
            "source": [
                "<span style=\"caret-color: rgb(60, 64, 67); color: rgb(60, 64, 67); font-family: Roboto, Arial, sans-serif; letter-spacing: 0.2px;\">1. დაადეთ filtered index product ის ცხრილში&nbsp; product type id სადაც ის უდრის 5</span>"
            ],
            "metadata": {
                "azdata_cell_guid": "ff03667c-8a54-4141-a80b-089719d2ee45"
            },
            "attachments": {}
        },
        {
            "cell_type": "code",
            "source": [
                "CREATE INDEX IX_Products_ProductTypeID_Filtered\n",
                "ON Products(product_type_id)\n",
                "WHERE product_type_id = 5;"
            ],
            "metadata": {
                "azdata_cell_guid": "4f681285-9476-484d-a135-171ae0461357",
                "language": "sql"
            },
            "outputs": [],
            "execution_count": null
        },
        {
            "cell_type": "markdown",
            "source": [
                "<span style=\"caret-color: rgb(60, 64, 67); color: rgb(60, 64, 67); font-family: Roboto, Arial, sans-serif; letter-spacing: 0.2px;\">2. დაადეთ client ში company name ზე&nbsp; default constraint</span>"
            ],
            "metadata": {
                "language": "sql",
                "azdata_cell_guid": "374a4833-fbc9-4538-9816-383ff427b666"
            },
            "attachments": {}
        },
        {
            "cell_type": "code",
            "source": [
                "ALTER TABLE Client\n",
                "ADD CONSTRAINT DF_Client_CompanyName DEFAULT ('Default Company Name') FOR company_name;"
            ],
            "metadata": {
                "language": "sql",
                "azdata_cell_guid": "5a091af4-0c0d-4b20-b65d-cb165798051b"
            },
            "outputs": [],
            "execution_count": null
        },
        {
            "cell_type": "markdown",
            "source": [
                "<span style=\"caret-color: rgb(60, 64, 67); color: rgb(60, 64, 67); font-family: Roboto, Arial, sans-serif; letter-spacing: 0.2px;\">3. დაადეთ shipment ის ცხრილს Delivery cost ზე check რომელიც შეამოწმებს რომ მნიშვნელობა ყოველთვის არის 5 ზე</span>"
            ],
            "metadata": {
                "azdata_cell_guid": "190f0d18-abbf-49f9-8b07-113c17cd61d5"
            },
            "attachments": {}
        },
        {
            "cell_type": "code",
            "source": [
                "ALTER TABLE Shipment\n",
                "ADD CONSTRAINT CHK_Shipment_DeliveryCost CHECK (delivery_cost > 5);"
            ],
            "metadata": {
                "azdata_cell_guid": "fa2ed477-8ac3-44b6-bf49-851802cdebb9",
                "language": "sql",
                "tags": [
                    "hide_input"
                ]
            },
            "outputs": [],
            "execution_count": null
        },
        {
            "cell_type": "markdown",
            "source": [
                "<span style=\"caret-color: rgb(60, 64, 67); color: rgb(60, 64, 67); font-family: Roboto, Arial, sans-serif; letter-spacing: 0.2px;\">4.დაადეთ productType ში&nbsp;type_name სვეტს&nbsp; unique&nbsp;constraint</span>"
            ],
            "metadata": {
                "language": "sql",
                "azdata_cell_guid": "37ff9079-2c9a-44fa-99ea-874b915f5200"
            },
            "attachments": {}
        },
        {
            "cell_type": "code",
            "source": [
                "ALTER TABLE product_type\n",
                "ADD CONSTRAINT UQ_product_type_type_name UNIQUE (type_name);"
            ],
            "metadata": {
                "language": "sql",
                "azdata_cell_guid": "ba5ab9a7-48c5-414b-9f02-e56a7b1b038b"
            },
            "outputs": [],
            "execution_count": null
        },
        {
            "cell_type": "markdown",
            "source": [
                "<span style=\"caret-color: rgb(60, 64, 67); color: rgb(60, 64, 67); font-family: Roboto, Arial, sans-serif; letter-spacing: 0.2px;\">5.&nbsp;დაადეთ client ში company name ზე&nbsp; include ინდექსი city id გათვალისწინებით</span>"
            ],
            "metadata": {
                "language": "sql",
                "azdata_cell_guid": "47fa8c35-d50a-4991-8149-6c34a7dd1533"
            },
            "attachments": {}
        },
        {
            "cell_type": "code",
            "source": [
                "CREATE NONCLUSTERED INDEX IX_Client_CompanyName_CityID_Included\n",
                "ON Client(company_name)\n",
                "INCLUDE (city_id);"
            ],
            "metadata": {
                "language": "sql",
                "azdata_cell_guid": "d777d155-eb72-48a4-bc57-87a114e794b6"
            },
            "outputs": [],
            "execution_count": null
        }
    ]
}