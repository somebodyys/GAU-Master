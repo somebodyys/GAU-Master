{
    "metadata": {
        "kernelspec": {
            "name": "SQL",
            "display_name": "SQL",
            "language": "sql"
        },
        "language_info": {
            "name": "sql",
            "version": ""
        }
    },
    "nbformat_minor": 2,
    "nbformat": 4,
    "cells": [
        {
            "cell_type": "markdown",
            "source": [
                "# Quiz 1"
            ],
            "metadata": {
                "azdata_cell_guid": "af7fc127-2376-42a6-96ae-7f8899132d03"
            },
            "attachments": {}
        },
        {
            "cell_type": "markdown",
            "source": [
                "**1\\. რა დანიშნულება აქვს UPDATE ბრძანებას? მოიყვანეთ მაგალითი.** \n",
                "\n",
                "Update ბრძანება გამოიყენება, მონაცემთა ბაზის კონკრეტულ ცხრილში უკვე არსებული მონაცემის ან მონაცემების კონკრეტული მნიშვნელობების მოდიფიკაციისათვის და ახალი მნიშვნელობის მინიჭებისათვის."
            ],
            "metadata": {
                "azdata_cell_guid": "7c50824c-1cdc-418d-8ca7-d739c5a38490"
            },
            "attachments": {}
        },
        {
            "cell_type": "markdown",
            "source": [
                "### მაგალითი: აღნიშნული ბრძანება განაახლებს პლანეტა მარსის აღწერას არსებული პლანეტების ცხრილში."
            ],
            "metadata": {
                "azdata_cell_guid": "0466f9d9-a05e-42d1-a186-f3d232d4561b"
            },
            "attachments": {}
        },
        {
            "cell_type": "code",
            "source": [
                "UPDATE planets\n",
                "SET description = 'The red planet known for its Martian rovers and potential for future colonization.'\n",
                "WHERE name = 'Mars';"
            ],
            "metadata": {
                "azdata_cell_guid": "60facd78-1612-448e-b3e5-1f53f20d5425",
                "language": "sql"
            },
            "outputs": [],
            "execution_count": null
        },
        {
            "cell_type": "markdown",
            "source": [
                "**2\\. აღწერეთ SELECT და SELECT ... INTO ბრძანებები. მოიყვანეთ მაგალითი.** \n",
                "\n",
                "<span style=\"caret-color: rgb(60, 64, 67); color: rgb(60, 64, 67); font-family: Roboto, Arial, sans-serif; letter-spacing: 0.2px;\">SELECT </span> <span style=\"caret-color: rgb(60, 64, 67); color: rgb(60, 64, 67); font-family: Roboto, Arial, sans-serif; letter-spacing: 0.2px;\">გამოიყენება ბაზაში უკვე არსებული ერთი ან რამოდენიმე ცხრილიდან კონკრეტულად მითითებული სვეტების ინფორმაციის წამოსაღებად.&nbsp;<br></span>"
            ],
            "metadata": {
                "azdata_cell_guid": "9a41b91a-7125-463c-a1ab-0337b3208b45"
            },
            "attachments": {}
        },
        {
            "cell_type": "markdown",
            "source": [
                "### მაგალითი: აღნიშნულ ბრძანებას პლანეტების ცხრილს ფილტრავს გარკვეული პირობით და აბრუნებს ნაპოვნი ჩანაწერების ყველა სვეტის მნიშვნელობას."
            ],
            "metadata": {
                "azdata_cell_guid": "aadb1320-bce6-4e94-a216-cdb10f9a11a7"
            },
            "attachments": {}
        },
        {
            "cell_type": "code",
            "source": [
                "SELECT *\n",
                "FROM planets\n",
                "WHERE planets.description LIKE '%Red Planet%'\n",
                "OR planets.atmosphere LIKE 'Thick%'\n",
                "OR (\n",
                "    planets.gravity > 10 AND planets.name IN ('Neptune', 'Uranus', 'Jupiter', 'Earth')\n",
                ");"
            ],
            "metadata": {
                "azdata_cell_guid": "17329e7d-c4b0-4b78-8763-e75afb65a5f5",
                "language": "sql",
                "tags": []
            },
            "outputs": [],
            "execution_count": null
        },
        {
            "cell_type": "markdown",
            "source": [
                "SELECT...INTO ბრძანება გამოოყენება იმისათვის, რომ SELECT-დან მიღებული შედეგი ახალ, შუამავალ ცხრილში შევინახოთ.  \n",
                "  \n",
                "\n",
                "### მაგალითი: პლანეტების ცხრილში ვპოულობთ, 0-ზე დაბალი ტემპერატურის პლანეტებს, ვიღებთ მხოლოდ სახელს და ტემპერატურას და ვინახავთ ახალ, ცხრილში."
            ],
            "metadata": {
                "azdata_cell_guid": "73aa7445-0ca0-4b9c-9490-efaeb737e3ea"
            },
            "attachments": {}
        },
        {
            "cell_type": "code",
            "source": [
                "SELECT name, temperature\n",
                "INTO cold_planets\n",
                "FROM planets\n",
                "WHERE temperature < 0;"
            ],
            "metadata": {
                "azdata_cell_guid": "197dbca6-d791-4441-a3ed-b988b8f99303",
                "language": "sql"
            },
            "outputs": [],
            "execution_count": null
        },
        {
            "cell_type": "markdown",
            "source": [
                "<span style=\"caret-color: rgb(60, 64, 67); color: rgb(60, 64, 67); font-family: Roboto, Arial, sans-serif; letter-spacing: 0.2px;\"><b>3. IF...ELSE მმართველი კონსტრუქცია და მისი დანიშნულება. მოიყვანეთ მაგალითი.&nbsp;</b><br></span> <span style=\"color: rgb(60, 64, 67); font-family: Roboto, Arial, sans-serif; letter-spacing: 0.2px; caret-color: rgb(60, 64, 67);\">IF...ELSE კონსტრუქცია გამოიყენება კოდის სტრუქტურირებისათვის, რომ შესაძლებელი გახდეს, რომ გარკვეული პირობით სხვადასხვა კოდის ბლოკის გამოვიძახოთ.&nbsp;<br></span> <span style=\"caret-color: rgb(60, 64, 67); color: rgb(60, 64, 67); font-family: Roboto, Arial, sans-serif; letter-spacing: 0.2px;\"><br></span>\n",
                "\n",
                "### <span style=\"caret-color: rgb(60, 64, 67); color: rgb(60, 64, 67); font-family: Roboto, Arial, sans-serif; letter-spacing: 0.2px;\">კონსტრუქცია:&nbsp;</span> \n",
                "\n",
                "<span style=\"caret-color: rgb(60, 64, 67); color: rgb(60, 64, 67); font-family: Roboto, Arial, sans-serif; letter-spacing: 0.2px;\"><br></span>"
            ],
            "metadata": {
                "azdata_cell_guid": "ed29666a-f02c-4682-b921-36d445bf9a04"
            },
            "attachments": {}
        },
        {
            "cell_type": "code",
            "source": [
                "IF {პირობა რომელიც დააბრუნებს TRUE ან FALSE მნიშვნელობას}\n",
                "BEGIN\n",
                "    -- ამ ბლოკში არსებული კოდი ამუშავდება თუ პირობის მნიშვნელობაა ჭეშმარიტი\n",
                "END\n",
                "ELSE\n",
                "BEGIN\n",
                "     -- ამ ბლოკში არსებული კოდი ამუშავდება თუ პირობის მნიშვნელობაა მცდარი\n",
                "END"
            ],
            "metadata": {
                "azdata_cell_guid": "9fa96cfa-774f-4371-9202-a4b895c35a13",
                "language": "sql"
            },
            "outputs": [],
            "execution_count": null
        },
        {
            "cell_type": "markdown",
            "source": [
                "### მაგალითი: ვქმნით ტექსტური ტიპის ცვლადს, რომელშიც ვინახავს პლანეტის დასახელებას. ტემპერატურის მიხედვით დავბეჭდავთ ან პირველ ტესტს ან მეორეს."
            ],
            "metadata": {
                "azdata_cell_guid": "c82da336-610b-4024-bce4-903ea30c5a4d"
            },
            "attachments": {}
        },
        {
            "cell_type": "code",
            "source": [
                "DECLARE @PlanetName VARCHAR(255)\n",
                "SET @PlanetName = 'Mars'\n",
                "\n",
                "IF (SELECT temperature FROM planets WHERE name = @PlanetName) < 0\n",
                "BEGIN\n",
                "    PRINT 'პლანეტა ' + @PlanetName + '-ის ტემპერატურა ნაკლებია 0 გრადუსზე.'\n",
                "END\n",
                "ELSE\n",
                "BEGIN\n",
                "    PRINT 'პლანეტა ' + @PlanetName + '-ის ტემპერატურა მეტია ან ტოლია 0 გრადუსის.'\n",
                "END"
            ],
            "metadata": {
                "azdata_cell_guid": "390020f8-70a0-4a37-b769-e11ac738c6db",
                "language": "sql",
                "tags": []
            },
            "outputs": [],
            "execution_count": null
        },
        {
            "cell_type": "markdown",
            "source": [
                "<span style=\"caret-color: rgb(60, 64, 67); color: rgb(60, 64, 67); font-family: Roboto, Arial, sans-serif; letter-spacing: 0.2px;\"><b>4. სტრიქონებთან სამუშაო ფუნქციები. მოიყვანეთ მაგალითები.&nbsp;</b><br>იქიდან გამომდინარე, რომ ბაზაში შესაძლოა სხვადასხვა ტიპის მონაცემები გვქონდეს შენახული, აუცილებელია თითოეულის დასამუშავებლად საშიწო ხელსაწყოები გვქონდეს. ერთერთი ესეთი მონაცემტა ტიპია, ტექსტურ სტრიქონებთან სამუშაო ფუნქციები.&nbsp;</span> \n",
                "\n",
                "<span style=\"caret-color: rgb(60, 64, 67); color: rgb(60, 64, 67); font-family: Roboto, Arial, sans-serif; letter-spacing: 0.2px;\"><br></span>"
            ],
            "metadata": {
                "azdata_cell_guid": "98ad7182-ad51-438d-93fa-866e54899cd1"
            },
            "attachments": {}
        },
        {
            "cell_type": "markdown",
            "source": [
                "### **CONCAT** : გამოიყენება ორი ან ბევრი სტრიქონის გასაერთიანებლად, რომელიც შედეგად ახალ გაერთიანებულ სტრიქონს გვიბრუნებს.  \n",
                "\n",
                "### მაგალითი: პლანეტების ცხრილიდან ამოვიღოთ ყველა პლანეტა და მათ სახელები და აღწერა გავაერთიანოთ, შუაში გამოვყოთ \":\" სიმბოლოთი."
            ],
            "metadata": {
                "azdata_cell_guid": "6959a089-1d94-4469-8e81-53cd68d35361"
            },
            "attachments": {}
        },
        {
            "cell_type": "code",
            "source": [
                "SELECT CONCAT(name, ': ', description) AS planet_info\n",
                "FROM planets;"
            ],
            "metadata": {
                "azdata_cell_guid": "8367aae5-f585-4a41-babb-c4763a713621",
                "language": "sql",
                "tags": [
                    "hide_input"
                ]
            },
            "outputs": [],
            "execution_count": null
        },
        {
            "cell_type": "markdown",
            "source": [
                "### <span style=\"color: var(--tw-prose-bold); font-family: Söhne, ui-sans-serif, system-ui, -apple-system, &quot;Segoe UI&quot;, Roboto, Ubuntu, Cantarell, &quot;Noto Sans&quot;, sans-serif, &quot;Helvetica Neue&quot;, Arial, &quot;Apple Color Emoji&quot;, &quot;Segoe UI Emoji&quot;, &quot;Segoe UI Symbol&quot;, &quot;Noto Color Emoji&quot;; font-size: 16px; font-weight: 600; white-space: pre-wrap;\">UPPERCASE/LOWERCASE</span> : გამოოიყენება სტრიქონის რეგისტრის შესაცვლელად, მაღლიდან დაბლა ან დაბლიდან მაღლა.\n",
                "\n",
                "### მაგალითი: პლანეტების ცხრილის ყოველი ჩანაწერისათვის მათ სახელის ყოველ სიმბოლოს შევცვლით მაღალი რეგისტრით."
            ],
            "metadata": {
                "azdata_cell_guid": "d252e9a8-4daa-4b06-8aca-c03e57ba8a5e"
            },
            "attachments": {}
        },
        {
            "cell_type": "code",
            "source": [
                "SELECT UPPER(name) AS uppercase_name\n",
                "FROM planets;"
            ],
            "metadata": {
                "azdata_cell_guid": "64dac67b-37a8-44d3-8660-c1f5619c5f9b",
                "language": "sql",
                "tags": []
            },
            "outputs": [],
            "execution_count": null
        },
        {
            "cell_type": "markdown",
            "source": [
                "### <span style=\"color: var(--tw-prose-bold); font-family: Söhne, ui-sans-serif, system-ui, -apple-system, &quot;Segoe UI&quot;, Roboto, Ubuntu, Cantarell, &quot;Noto Sans&quot;, sans-serif, &quot;Helvetica Neue&quot;, Arial, &quot;Apple Color Emoji&quot;, &quot;Segoe UI Emoji&quot;, &quot;Segoe UI Symbol&quot;, &quot;Noto Color Emoji&quot;; font-size: 16px; font-weight: 600; white-space: pre-wrap;\">LENGTH</span> : გამოიყენება სტრიქონის სიგრძის გასაგებად.\n",
                "\n",
                "### მაგალითი: გავიგოთ ყოველი პლანეტის აღწერის სიგრძე."
            ],
            "metadata": {
                "azdata_cell_guid": "582b8498-45b1-40dc-ada5-56ef640ee8f6"
            },
            "attachments": {}
        },
        {
            "cell_type": "code",
            "source": [
                "SELECT name, LEN(description) AS description_length\n",
                "FROM planets;"
            ],
            "metadata": {
                "azdata_cell_guid": "9c54a32b-6ac2-4af6-adab-7b9bdf68a7ad",
                "language": "sql"
            },
            "outputs": [],
            "execution_count": null
        },
        {
            "cell_type": "markdown",
            "source": [
                "### <span style=\"color: var(--tw-prose-bold); font-family: Söhne, ui-sans-serif, system-ui, -apple-system, &quot;Segoe UI&quot;, Roboto, Ubuntu, Cantarell, &quot;Noto Sans&quot;, sans-serif, &quot;Helvetica Neue&quot;, Arial, &quot;Apple Color Emoji&quot;, &quot;Segoe UI Emoji&quot;, &quot;Segoe UI Symbol&quot;, &quot;Noto Color Emoji&quot;; font-size: 16px; font-weight: 600; white-space: pre-wrap;\">SUBSTRING</span> : გამოიყენება, არსებული სტრიქონიდან ქვესტრიქონის ამოღებისათვის. \n",
                "\n",
                "### მაგალითი: პლანეტების სახელიდან ამოვიღოთ პირველი 3 სიმბოლო."
            ],
            "metadata": {
                "language": "sql",
                "azdata_cell_guid": "5115f3bd-d531-456f-b218-7184042e5518"
            },
            "attachments": {}
        },
        {
            "cell_type": "code",
            "source": [
                "SELECT name, SUBSTRING(name, 1, 3) AS initials\n",
                "FROM planets;"
            ],
            "metadata": {
                "azdata_cell_guid": "8f1ee287-fb86-4ab7-a395-93b95393e1b8",
                "language": "sql",
                "tags": []
            },
            "outputs": [],
            "execution_count": null
        },
        {
            "cell_type": "markdown",
            "source": [
                "### <span style=\"color: var(--tw-prose-bold); font-family: Söhne, ui-sans-serif, system-ui, -apple-system, &quot;Segoe UI&quot;, Roboto, Ubuntu, Cantarell, &quot;Noto Sans&quot;, sans-serif, &quot;Helvetica Neue&quot;, Arial, &quot;Apple Color Emoji&quot;, &quot;Segoe UI Emoji&quot;, &quot;Segoe UI Symbol&quot;, &quot;Noto Color Emoji&quot;; font-size: 16px; font-weight: 600; white-space: pre-wrap;\">REPLACE</span> : გამოიყენება, არსებულ სტრიქონში, კონკრეტული სტრიქონის ჩასანაცვლებლად.\n",
                "\n",
                "### მაგალითი: პლანეტების აღწერაში ჩავანაცვლოთ ატმოსფერო, ჰაერით."
            ],
            "metadata": {
                "azdata_cell_guid": "271efef5-d80e-427d-b5fc-5fbb78ae82d7"
            },
            "attachments": {}
        },
        {
            "cell_type": "code",
            "source": [
                "SELECT name, REPLACE(description, 'atmosphere', 'air') AS updated_description\n",
                "FROM planets;"
            ],
            "metadata": {
                "azdata_cell_guid": "26e370ed-44b5-4653-8efa-c769e32040c2",
                "language": "sql"
            },
            "outputs": [],
            "execution_count": null
        },
        {
            "cell_type": "markdown",
            "source": [
                "### <span style=\"color: var(--tw-prose-bold); font-family: Söhne, ui-sans-serif, system-ui, -apple-system, &quot;Segoe UI&quot;, Roboto, Ubuntu, Cantarell, &quot;Noto Sans&quot;, sans-serif, &quot;Helvetica Neue&quot;, Arial, &quot;Apple Color Emoji&quot;, &quot;Segoe UI Emoji&quot;, &quot;Segoe UI Symbol&quot;, &quot;Noto Color Emoji&quot;; font-size: 16px; font-weight: 600; white-space: pre-wrap;\">TRIM/LTRIM/RTRIM</span> : გამოიყენება, არსებულ სტრიქონში, სიცარიელეების წაშაშლელად, მარჯვნიდან მარცხნიდან ან ორივე მხრიდან.\n",
                "\n",
                "### მაგალითი: წავუშალოთ სიცარიელეები პლანეტების სახელებს."
            ],
            "metadata": {
                "azdata_cell_guid": "9ac44888-88ac-4387-9d77-4f5592611d04"
            },
            "attachments": {}
        },
        {
            "cell_type": "code",
            "source": [
                "SELECT TRIM(name) AS trimmed_name\n",
                "FROM planets;"
            ],
            "metadata": {
                "azdata_cell_guid": "f4761246-a9a2-4fbf-9414-599651a2f631",
                "language": "sql"
            },
            "outputs": [],
            "execution_count": null
        },
        {
            "cell_type": "markdown",
            "source": [
                "### <span style=\"color: var(--tw-prose-bold); font-family: Söhne, ui-sans-serif, system-ui, -apple-system, &quot;Segoe UI&quot;, Roboto, Ubuntu, Cantarell, &quot;Noto Sans&quot;, sans-serif, &quot;Helvetica Neue&quot;, Arial, &quot;Apple Color Emoji&quot;, &quot;Segoe UI Emoji&quot;, &quot;Segoe UI Symbol&quot;, &quot;Noto Color Emoji&quot;; font-size: 16px; font-weight: 600; white-space: pre-wrap;\">LIKE</span> : გამოიყენება, ისეთი ჩანაწერების საპოვნელად რომელიც მოცემულ პატერნს ემთხვევა.\n",
                "\n",
                "### მაგალითი: ვიპოვნოთ ისეთ პლანეტები, რომელთა სახელიც იწყემა M-ით."
            ],
            "metadata": {
                "azdata_cell_guid": "bb68f64f-859c-4f90-a111-d8aae8a157b4"
            },
            "attachments": {}
        },
        {
            "cell_type": "code",
            "source": [
                "SELECT name\n",
                "FROM planets\n",
                "WHERE name LIKE 'M%';"
            ],
            "metadata": {
                "azdata_cell_guid": "70f269f4-8136-4e5b-a75b-96ff468d6e2b",
                "language": "sql"
            },
            "outputs": [],
            "execution_count": null
        },
        {
            "cell_type": "markdown",
            "source": [
                "**5\\. დაახასიათეთ T-SQL-ის შედარების და ლოგიკის ოპერატორები.**   \n",
                "\n",
                "<span style=\"caret-color: rgb(60, 64, 67); color: rgb(60, 64, 67); font-family: Roboto, Arial, sans-serif; letter-spacing: 0.2px;\">შედარების ოპერატორები გამოიყენება ლოგიკური პირობის შესაქმნელად.&nbsp;<br></span> \n",
                "\n",
                "- <span style=\"caret-color: rgb(60, 64, 67); color: rgb(60, 64, 67); font-family: Roboto, Arial, sans-serif; letter-spacing: 0.2px;\">შედარების ოპერატორი '='<br></span>\n",
                "- <span style=\"caret-color: rgb(60, 64, 67); color: rgb(60, 64, 67); font-family: Roboto, Arial, sans-serif; letter-spacing: 0.2px;\">არ უდრის '!=' '&lt;&gt;'<br></span>\n",
                "- <span style=\"caret-color: rgb(60, 64, 67); color: rgb(60, 64, 67); font-family: Roboto, Arial, sans-serif; letter-spacing: 0.2px;\">მეტია, ნაკლებია, მეტია ან ტოლია, ნაკლევია ან ტოლია '&gt;' '&lt;' '&gt;=' '&lt;='</span>\n",
                "- <span style=\"caret-color: rgb(60, 64, 67); color: rgb(60, 64, 67); font-family: Roboto, Arial, sans-serif; letter-spacing: 0.2px;\">ცარიელია ან არ არის ცარიელი&nbsp; IS NULL, IS NOT NULL</span>\n",
                "- <span style=\"caret-color: rgb(60, 64, 67); color: rgb(60, 64, 67); font-family: Roboto, Arial, sans-serif; letter-spacing: 0.2px;\">ორ რიცხვს შორის არის BETWEEN ... AND ....</span>"
            ],
            "metadata": {
                "azdata_cell_guid": "ff2548b9-2e09-46e3-8fa9-76f0f14fe61b"
            },
            "attachments": {}
        },
        {
            "cell_type": "code",
            "source": [
                "SELECT name\n",
                "FROM planets\n",
                "WHERE temperature = -63;"
            ],
            "metadata": {
                "azdata_cell_guid": "63c77d55-6508-47ca-a52b-c7b682cdd5d0",
                "language": "sql"
            },
            "outputs": [],
            "execution_count": null
        },
        {
            "cell_type": "code",
            "source": [
                "SELECT name\n",
                "FROM planets\n",
                "WHERE temperature <> -63;\n",
                ""
            ],
            "metadata": {
                "language": "sql",
                "azdata_cell_guid": "b907eb9d-c8b4-4448-84ed-2c34b1b3575c"
            },
            "outputs": [],
            "execution_count": null
        },
        {
            "cell_type": "code",
            "source": [
                "SELECT name\n",
                "FROM planets\n",
                "WHERE distance_from_earth > 100;"
            ],
            "metadata": {
                "language": "sql",
                "azdata_cell_guid": "ddce14d4-5097-4f30-99b5-e1b0b978b02c"
            },
            "outputs": [],
            "execution_count": null
        },
        {
            "cell_type": "code",
            "source": [
                "SELECT name\n",
                "FROM planets\n",
                "WHERE gravity <= 4;"
            ],
            "metadata": {
                "language": "sql",
                "azdata_cell_guid": "d7ad753e-eb10-45f2-b948-26d5dbe430cf"
            },
            "outputs": [],
            "execution_count": null
        },
        {
            "cell_type": "code",
            "source": [
                "SELECT name\n",
                "FROM planets\n",
                "WHERE atmosphere IS NULL;"
            ],
            "metadata": {
                "language": "sql",
                "azdata_cell_guid": "7c35988b-75d4-4091-825c-01ad4e63d421"
            },
            "outputs": [],
            "execution_count": null
        },
        {
            "cell_type": "code",
            "source": [
                "SELECT name\n",
                "FROM planets\n",
                "WHERE temperature BETWEEN -100 AND 100;"
            ],
            "metadata": {
                "language": "sql",
                "azdata_cell_guid": "79be0432-1018-4812-a794-d64c71c8a656"
            },
            "outputs": [],
            "execution_count": null
        }
    ]
}