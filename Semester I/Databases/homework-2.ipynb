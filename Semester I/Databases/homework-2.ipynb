{
    "metadata": {
        "kernelspec": {
            "name": "SQL",
            "display_name": "SQL",
            "language": "sql"
        },
        "language_info": {
            "name": "sql",
            "version": ""
        }
    },
    "nbformat_minor": 2,
    "nbformat": 4,
    "cells": [
        {
            "cell_type": "markdown",
            "source": [
                "### <span style=\"caret-color: rgb(60, 64, 67); color: rgb(60, 64, 67); font-family: Roboto, Arial, sans-serif; font-size: 14px; letter-spacing: 0.2px;\">დაწერეთ მოთხოვნები (Query-ები) შემდეგი თემატიკის გათვალისწინებით:</span>  \n",
                "<span style=\"caret-color: rgb(60, 64, 67); color: rgb(60, 64, 67); font-family: Roboto, Arial, sans-serif; font-size: 14px; letter-spacing: 0.2px;\">* პრედიკატები და ოპერატორები(Predicates,operators)</span>  \n",
                "<span style=\"caret-color: rgb(60, 64, 67); color: rgb(60, 64, 67); font-family: Roboto, Arial, sans-serif; font-size: 14px; letter-spacing: 0.2px;\">* გამოსახულებები(expression)</span>  \n",
                "<span style=\"caret-color: rgb(60, 64, 67); color: rgb(60, 64, 67); font-family: Roboto, Arial, sans-serif; font-size: 14px; letter-spacing: 0.2px;\">* იდენტიფიკატორები(identifiers)</span>  \n",
                "<span style=\"caret-color: rgb(60, 64, 67); color: rgb(60, 64, 67); font-family: Roboto, Arial, sans-serif; font-size: 14px; letter-spacing: 0.2px;\">* ცვლადები(Variable)</span>  \n",
                "<span style=\"caret-color: rgb(60, 64, 67); color: rgb(60, 64, 67); font-family: Roboto, Arial, sans-serif; font-size: 14px; letter-spacing: 0.2px;\">* მართველი კონსტრუქციები(BEGIN...END,IF...ELSE,CASEEND,WHILE...BREAK &amp; CONTINUE)</span>"
            ],
            "metadata": {
                "azdata_cell_guid": "1016711d-bdc6-41a1-8b4e-2c6d3d6b6d62"
            },
            "attachments": {}
        },
        {
            "cell_type": "code",
            "source": [
                "SELECT \n",
                "    planets.name,\n",
                "    planets.description\n",
                "FROM planets\n",
                "WHERE planets.distance_from_earth <= 500\n",
                "OR temperature > 0"
            ],
            "metadata": {
                "azdata_cell_guid": "cdbdbbfb-2e92-4a41-b43a-d6d519500b4d",
                "language": "sql",
                "tags": []
            },
            "outputs": [
                {
                    "output_type": "display_data",
                    "data": {
                        "text/html": "(7 rows affected)"
                    },
                    "metadata": {}
                },
                {
                    "output_type": "display_data",
                    "data": {
                        "text/html": "Total execution time: 00:00:00.018"
                    },
                    "metadata": {}
                },
                {
                    "output_type": "execute_result",
                    "metadata": {},
                    "execution_count": 2,
                    "data": {
                        "application/vnd.dataresource+json": {
                            "schema": {
                                "fields": [
                                    {
                                        "name": "name"
                                    },
                                    {
                                        "name": "description"
                                    }
                                ]
                            },
                            "data": [
                                {
                                    "name": "Mercury",
                                    "description": "The closest planet to the Sun."
                                },
                                {
                                    "name": "Venus",
                                    "description": "Known for its thick, toxic atmosphere."
                                },
                                {
                                    "name": "Earth",
                                    "description": "The only known planet to support life."
                                },
                                {
                                    "name": "Mars",
                                    "description": "Often called the \"Red Planet.\""
                                },
                                {
                                    "name": "Saturn",
                                    "description": "Famous for its striking ring system."
                                },
                                {
                                    "name": "Uranus",
                                    "description": "A gas giant with a tilted rotation axis."
                                },
                                {
                                    "name": "Neptune",
                                    "description": "A distant ice giant with a vivid blue color."
                                }
                            ]
                        },
                        "text/html": [
                            "<table>",
                            "<tr><th>name</th><th>description</th></tr>",
                            "<tr><td>Mercury</td><td>The closest planet to the Sun.</td></tr>",
                            "<tr><td>Venus</td><td>Known for its thick, toxic atmosphere.</td></tr>",
                            "<tr><td>Earth</td><td>The only known planet to support life.</td></tr>",
                            "<tr><td>Mars</td><td>Often called the &quot;Red Planet.&quot;</td></tr>",
                            "<tr><td>Saturn</td><td>Famous for its striking ring system.</td></tr>",
                            "<tr><td>Uranus</td><td>A gas giant with a tilted rotation axis.</td></tr>",
                            "<tr><td>Neptune</td><td>A distant ice giant with a vivid blue color.</td></tr>",
                            "</table>"
                        ]
                    }
                }
            ],
            "execution_count": 2
        },
        {
            "cell_type": "code",
            "source": [
                "SELECT ROUND(planets.gravity - 9.81, 3) AS gravity_diff\n",
                "FROM planets\n",
                "WHERE ROUND(planets.gravity - 9.81, 3) != 0\n",
                "ORDER BY gravity_diff DESC"
            ],
            "metadata": {
                "azdata_cell_guid": "f4e11614-87f0-4a61-958a-74d3e7249e38",
                "language": "sql",
                "tags": []
            },
            "outputs": [
                {
                    "output_type": "display_data",
                    "data": {
                        "text/html": "(7 rows affected)"
                    },
                    "metadata": {}
                },
                {
                    "output_type": "display_data",
                    "data": {
                        "text/html": "Total execution time: 00:00:00.013"
                    },
                    "metadata": {}
                },
                {
                    "output_type": "execute_result",
                    "metadata": {},
                    "execution_count": 18,
                    "data": {
                        "application/vnd.dataresource+json": {
                            "schema": {
                                "fields": [
                                    {
                                        "name": "gravity_diff"
                                    }
                                ]
                            },
                            "data": [
                                {
                                    "gravity_diff": "14,98"
                                },
                                {
                                    "gravity_diff": "1,34"
                                },
                                {
                                    "gravity_diff": "0,63"
                                },
                                {
                                    "gravity_diff": "-0,94"
                                },
                                {
                                    "gravity_diff": "-1,12"
                                },
                                {
                                    "gravity_diff": "-6,1"
                                },
                                {
                                    "gravity_diff": "-6,11"
                                }
                            ]
                        },
                        "text/html": [
                            "<table>",
                            "<tr><th>gravity_diff</th></tr>",
                            "<tr><td>14,98</td></tr>",
                            "<tr><td>1,34</td></tr>",
                            "<tr><td>0,63</td></tr>",
                            "<tr><td>-0,94</td></tr>",
                            "<tr><td>-1,12</td></tr>",
                            "<tr><td>-6,1</td></tr>",
                            "<tr><td>-6,11</td></tr>",
                            "</table>"
                        ]
                    }
                }
            ],
            "execution_count": 18
        },
        {
            "cell_type": "code",
            "source": [
                "DECLARE @gravity_diff DECIMAL(10, 3);\n",
                "SET @gravity_diff = 9.81;\n",
                "\n",
                "SELECT AVG(planets.temperature) / @gravity_diff AS avg_temperature_by_gravity\n",
                "FROM planets"
            ],
            "metadata": {
                "azdata_cell_guid": "8095f453-1843-400e-be21-8cf020b52006",
                "language": "sql",
                "tags": []
            },
            "outputs": [
                {
                    "output_type": "display_data",
                    "data": {
                        "text/html": "(1 row affected)"
                    },
                    "metadata": {}
                },
                {
                    "output_type": "display_data",
                    "data": {
                        "text/html": "Total execution time: 00:00:00.003"
                    },
                    "metadata": {}
                },
                {
                    "output_type": "execute_result",
                    "metadata": {},
                    "execution_count": 19,
                    "data": {
                        "application/vnd.dataresource+json": {
                            "schema": {
                                "fields": [
                                    {
                                        "name": "avg_temperature_by_gravity"
                                    }
                                ]
                            },
                            "data": [
                                {
                                    "avg_temperature_by_gravity": "1,0703363914373087"
                                }
                            ]
                        },
                        "text/html": [
                            "<table>",
                            "<tr><th>avg_temperature_by_gravity</th></tr>",
                            "<tr><td>1,0703363914373087</td></tr>",
                            "</table>"
                        ]
                    }
                }
            ],
            "execution_count": 19
        },
        {
            "cell_type": "code",
            "source": [
                "DECLARE @maxTemperature INT;\n",
                "\n",
                "SELECT @maxTemperature = MAX(planets.temperature)\n",
                "FROM planets\n",
                "\n",
                "PRINT @maxTemperature"
            ],
            "metadata": {
                "azdata_cell_guid": "9d9f3bc5-5564-4315-b020-5125fa323377",
                "language": "sql",
                "tags": []
            },
            "outputs": [
                {
                    "output_type": "display_data",
                    "data": {
                        "text/html": "467"
                    },
                    "metadata": {}
                },
                {
                    "output_type": "display_data",
                    "data": {
                        "text/html": "Total execution time: 00:00:00.013"
                    },
                    "metadata": {}
                }
            ],
            "execution_count": 14
        },
        {
            "cell_type": "code",
            "source": [
                "DECLARE @maxDistance FLOAT;\n",
                "DECLARE @minGravity FLOAT;\n",
                "\n",
                "SET @maxDistance = 10000; -- Maximum allowed distance from Earth\n",
                "SET @minGravity = 5.0;   -- Minimum gravity required\n",
                "\n",
                "BEGIN\n",
                "  DECLARE @count INT;\n",
                "  SET @count = 0;\n",
                "\n",
                "  WHILE @count < 10\n",
                "  BEGIN\n",
                "    IF @count % 2 = 0\n",
                "    BEGIN\n",
                "      -- Select planets with gravity greater than or equal to @minGravity\n",
                "      SELECT \n",
                "        id, name, description, distance_from_earth, gravity, atmosphere, temperature, surface_features\n",
                "      FROM planets\n",
                "      WHERE gravity >= @minGravity\n",
                "      AND distance_from_earth <= @maxDistance;\n",
                "    END\n",
                "    ELSE\n",
                "    BEGIN\n",
                "      -- Select planets with gravity less than @minGravity\n",
                "      SELECT \n",
                "        id, name, description, distance_from_earth, gravity, atmosphere, temperature, surface_features\n",
                "      FROM planets\n",
                "      WHERE gravity < @minGravity\n",
                "      AND distance_from_earth <= @maxDistance;\n",
                "    END\n",
                "\n",
                "    SET @count = @count + 1;\n",
                "  END\n",
                "\n",
                "END;\n",
                "\n",
                "-- Display a summary\n",
                "SELECT \n",
                "  'Summary' AS Section,\n",
                "  COUNT(*) AS PlanetCount,\n",
                "  AVG(gravity) AS AverageGravity,\n",
                "  MAX(temperature) AS MaxTemperature\n",
                "FROM planets;\n",
                ""
            ],
            "metadata": {
                "azdata_cell_guid": "22c611fa-2783-4514-80d9-4b66ae70293d",
                "language": "sql"
            },
            "outputs": [
                {
                    "output_type": "display_data",
                    "data": {
                        "text/html": "(6 rows affected)"
                    },
                    "metadata": {}
                },
                {
                    "output_type": "display_data",
                    "data": {
                        "text/html": "(2 rows affected)"
                    },
                    "metadata": {}
                },
                {
                    "output_type": "display_data",
                    "data": {
                        "text/html": "(6 rows affected)"
                    },
                    "metadata": {}
                },
                {
                    "output_type": "display_data",
                    "data": {
                        "text/html": "(2 rows affected)"
                    },
                    "metadata": {}
                },
                {
                    "output_type": "display_data",
                    "data": {
                        "text/html": "(6 rows affected)"
                    },
                    "metadata": {}
                },
                {
                    "output_type": "display_data",
                    "data": {
                        "text/html": "(2 rows affected)"
                    },
                    "metadata": {}
                },
                {
                    "output_type": "display_data",
                    "data": {
                        "text/html": "(6 rows affected)"
                    },
                    "metadata": {}
                },
                {
                    "output_type": "display_data",
                    "data": {
                        "text/html": "(2 rows affected)"
                    },
                    "metadata": {}
                },
                {
                    "output_type": "display_data",
                    "data": {
                        "text/html": "(6 rows affected)"
                    },
                    "metadata": {}
                },
                {
                    "output_type": "display_data",
                    "data": {
                        "text/html": "(2 rows affected)"
                    },
                    "metadata": {}
                },
                {
                    "output_type": "display_data",
                    "data": {
                        "text/html": "(1 row affected)"
                    },
                    "metadata": {}
                },
                {
                    "output_type": "display_data",
                    "data": {
                        "text/html": "Total execution time: 00:00:00.034"
                    },
                    "metadata": {}
                },
                {
                    "output_type": "execute_result",
                    "metadata": {},
                    "execution_count": 20,
                    "data": {
                        "application/vnd.dataresource+json": {
                            "schema": {
                                "fields": [
                                    {
                                        "name": "id"
                                    },
                                    {
                                        "name": "name"
                                    },
                                    {
                                        "name": "description"
                                    },
                                    {
                                        "name": "distance_from_earth"
                                    },
                                    {
                                        "name": "gravity"
                                    },
                                    {
                                        "name": "atmosphere"
                                    },
                                    {
                                        "name": "temperature"
                                    },
                                    {
                                        "name": "surface_features"
                                    }
                                ]
                            },
                            "data": [
                                {
                                    "id": "2",
                                    "name": "Venus",
                                    "description": "Known for its thick, toxic atmosphere.",
                                    "distance_from_earth": "108,2",
                                    "gravity": "8,87",
                                    "atmosphere": "Thick carbon dioxide atmosphere.",
                                    "temperature": "467",
                                    "surface_features": "Volcanic plains and highlands."
                                },
                                {
                                    "id": "3",
                                    "name": "Earth",
                                    "description": "The only known planet to support life.",
                                    "distance_from_earth": "0",
                                    "gravity": "9,81",
                                    "atmosphere": "Nitrogen, oxygen, and trace gases.",
                                    "temperature": "14",
                                    "surface_features": "Diverse landscapes and oceans."
                                },
                                {
                                    "id": "5",
                                    "name": "Jupiter",
                                    "description": "The largest planet in our solar system.",
                                    "distance_from_earth": "778,3",
                                    "gravity": "24,79",
                                    "atmosphere": "Primarily hydrogen and helium.",
                                    "temperature": "-145",
                                    "surface_features": "Giant storms and a complex cloud structure."
                                },
                                {
                                    "id": "6",
                                    "name": "Saturn",
                                    "description": "Famous for its striking ring system.",
                                    "distance_from_earth": "1",
                                    "gravity": "10,44",
                                    "atmosphere": "Primarily hydrogen and helium.",
                                    "temperature": "-178",
                                    "surface_features": "Spectacular ring system and numerous moons."
                                },
                                {
                                    "id": "7",
                                    "name": "Uranus",
                                    "description": "A gas giant with a tilted rotation axis.",
                                    "distance_from_earth": "1",
                                    "gravity": "8,69",
                                    "atmosphere": "Hydrogen and helium with traces of methane.",
                                    "temperature": "-224",
                                    "surface_features": "Unique sideways rotation and a few dark rings."
                                },
                                {
                                    "id": "8",
                                    "name": "Neptune",
                                    "description": "A distant ice giant with a vivid blue color.",
                                    "distance_from_earth": "1",
                                    "gravity": "11,15",
                                    "atmosphere": "Hydrogen and helium with methane.",
                                    "temperature": "-214",
                                    "surface_features": "Stormy atmosphere and dark spot known as the Great Dark Spot."
                                }
                            ]
                        },
                        "text/html": [
                            "<table>",
                            "<tr><th>id</th><th>name</th><th>description</th><th>distance_from_earth</th><th>gravity</th><th>atmosphere</th><th>temperature</th><th>surface_features</th></tr>",
                            "<tr><td>2</td><td>Venus</td><td>Known for its thick, toxic atmosphere.</td><td>108,2</td><td>8,87</td><td>Thick carbon dioxide atmosphere.</td><td>467</td><td>Volcanic plains and highlands.</td></tr>",
                            "<tr><td>3</td><td>Earth</td><td>The only known planet to support life.</td><td>0</td><td>9,81</td><td>Nitrogen, oxygen, and trace gases.</td><td>14</td><td>Diverse landscapes and oceans.</td></tr>",
                            "<tr><td>5</td><td>Jupiter</td><td>The largest planet in our solar system.</td><td>778,3</td><td>24,79</td><td>Primarily hydrogen and helium.</td><td>-145</td><td>Giant storms and a complex cloud structure.</td></tr>",
                            "<tr><td>6</td><td>Saturn</td><td>Famous for its striking ring system.</td><td>1</td><td>10,44</td><td>Primarily hydrogen and helium.</td><td>-178</td><td>Spectacular ring system and numerous moons.</td></tr>",
                            "<tr><td>7</td><td>Uranus</td><td>A gas giant with a tilted rotation axis.</td><td>1</td><td>8,69</td><td>Hydrogen and helium with traces of methane.</td><td>-224</td><td>Unique sideways rotation and a few dark rings.</td></tr>",
                            "<tr><td>8</td><td>Neptune</td><td>A distant ice giant with a vivid blue color.</td><td>1</td><td>11,15</td><td>Hydrogen and helium with methane.</td><td>-214</td><td>Stormy atmosphere and dark spot known as the Great Dark Spot.</td></tr>",
                            "</table>"
                        ]
                    }
                },
                {
                    "output_type": "execute_result",
                    "metadata": {},
                    "execution_count": 20,
                    "data": {
                        "application/vnd.dataresource+json": {
                            "schema": {
                                "fields": [
                                    {
                                        "name": "id"
                                    },
                                    {
                                        "name": "name"
                                    },
                                    {
                                        "name": "description"
                                    },
                                    {
                                        "name": "distance_from_earth"
                                    },
                                    {
                                        "name": "gravity"
                                    },
                                    {
                                        "name": "atmosphere"
                                    },
                                    {
                                        "name": "temperature"
                                    },
                                    {
                                        "name": "surface_features"
                                    }
                                ]
                            },
                            "data": [
                                {
                                    "id": "1",
                                    "name": "Mercury",
                                    "description": "The closest planet to the Sun.",
                                    "distance_from_earth": "57,9",
                                    "gravity": "3,7",
                                    "atmosphere": "Thin atmosphere, mostly hydrogen and helium.",
                                    "temperature": "427",
                                    "surface_features": "Craters and barren surface."
                                },
                                {
                                    "id": "4",
                                    "name": "Mars",
                                    "description": "Often called the \"Red Planet.\"",
                                    "distance_from_earth": "225,9",
                                    "gravity": "3,71",
                                    "atmosphere": "Thin carbon dioxide atmosphere.",
                                    "temperature": "-63",
                                    "surface_features": "Valleys, canyons, and polar ice caps."
                                }
                            ]
                        },
                        "text/html": [
                            "<table>",
                            "<tr><th>id</th><th>name</th><th>description</th><th>distance_from_earth</th><th>gravity</th><th>atmosphere</th><th>temperature</th><th>surface_features</th></tr>",
                            "<tr><td>1</td><td>Mercury</td><td>The closest planet to the Sun.</td><td>57,9</td><td>3,7</td><td>Thin atmosphere, mostly hydrogen and helium.</td><td>427</td><td>Craters and barren surface.</td></tr>",
                            "<tr><td>4</td><td>Mars</td><td>Often called the &quot;Red Planet.&quot;</td><td>225,9</td><td>3,71</td><td>Thin carbon dioxide atmosphere.</td><td>-63</td><td>Valleys, canyons, and polar ice caps.</td></tr>",
                            "</table>"
                        ]
                    }
                },
                {
                    "output_type": "execute_result",
                    "metadata": {},
                    "execution_count": 20,
                    "data": {
                        "application/vnd.dataresource+json": {
                            "schema": {
                                "fields": [
                                    {
                                        "name": "id"
                                    },
                                    {
                                        "name": "name"
                                    },
                                    {
                                        "name": "description"
                                    },
                                    {
                                        "name": "distance_from_earth"
                                    },
                                    {
                                        "name": "gravity"
                                    },
                                    {
                                        "name": "atmosphere"
                                    },
                                    {
                                        "name": "temperature"
                                    },
                                    {
                                        "name": "surface_features"
                                    }
                                ]
                            },
                            "data": [
                                {
                                    "id": "2",
                                    "name": "Venus",
                                    "description": "Known for its thick, toxic atmosphere.",
                                    "distance_from_earth": "108,2",
                                    "gravity": "8,87",
                                    "atmosphere": "Thick carbon dioxide atmosphere.",
                                    "temperature": "467",
                                    "surface_features": "Volcanic plains and highlands."
                                },
                                {
                                    "id": "3",
                                    "name": "Earth",
                                    "description": "The only known planet to support life.",
                                    "distance_from_earth": "0",
                                    "gravity": "9,81",
                                    "atmosphere": "Nitrogen, oxygen, and trace gases.",
                                    "temperature": "14",
                                    "surface_features": "Diverse landscapes and oceans."
                                },
                                {
                                    "id": "5",
                                    "name": "Jupiter",
                                    "description": "The largest planet in our solar system.",
                                    "distance_from_earth": "778,3",
                                    "gravity": "24,79",
                                    "atmosphere": "Primarily hydrogen and helium.",
                                    "temperature": "-145",
                                    "surface_features": "Giant storms and a complex cloud structure."
                                },
                                {
                                    "id": "6",
                                    "name": "Saturn",
                                    "description": "Famous for its striking ring system.",
                                    "distance_from_earth": "1",
                                    "gravity": "10,44",
                                    "atmosphere": "Primarily hydrogen and helium.",
                                    "temperature": "-178",
                                    "surface_features": "Spectacular ring system and numerous moons."
                                },
                                {
                                    "id": "7",
                                    "name": "Uranus",
                                    "description": "A gas giant with a tilted rotation axis.",
                                    "distance_from_earth": "1",
                                    "gravity": "8,69",
                                    "atmosphere": "Hydrogen and helium with traces of methane.",
                                    "temperature": "-224",
                                    "surface_features": "Unique sideways rotation and a few dark rings."
                                },
                                {
                                    "id": "8",
                                    "name": "Neptune",
                                    "description": "A distant ice giant with a vivid blue color.",
                                    "distance_from_earth": "1",
                                    "gravity": "11,15",
                                    "atmosphere": "Hydrogen and helium with methane.",
                                    "temperature": "-214",
                                    "surface_features": "Stormy atmosphere and dark spot known as the Great Dark Spot."
                                }
                            ]
                        },
                        "text/html": [
                            "<table>",
                            "<tr><th>id</th><th>name</th><th>description</th><th>distance_from_earth</th><th>gravity</th><th>atmosphere</th><th>temperature</th><th>surface_features</th></tr>",
                            "<tr><td>2</td><td>Venus</td><td>Known for its thick, toxic atmosphere.</td><td>108,2</td><td>8,87</td><td>Thick carbon dioxide atmosphere.</td><td>467</td><td>Volcanic plains and highlands.</td></tr>",
                            "<tr><td>3</td><td>Earth</td><td>The only known planet to support life.</td><td>0</td><td>9,81</td><td>Nitrogen, oxygen, and trace gases.</td><td>14</td><td>Diverse landscapes and oceans.</td></tr>",
                            "<tr><td>5</td><td>Jupiter</td><td>The largest planet in our solar system.</td><td>778,3</td><td>24,79</td><td>Primarily hydrogen and helium.</td><td>-145</td><td>Giant storms and a complex cloud structure.</td></tr>",
                            "<tr><td>6</td><td>Saturn</td><td>Famous for its striking ring system.</td><td>1</td><td>10,44</td><td>Primarily hydrogen and helium.</td><td>-178</td><td>Spectacular ring system and numerous moons.</td></tr>",
                            "<tr><td>7</td><td>Uranus</td><td>A gas giant with a tilted rotation axis.</td><td>1</td><td>8,69</td><td>Hydrogen and helium with traces of methane.</td><td>-224</td><td>Unique sideways rotation and a few dark rings.</td></tr>",
                            "<tr><td>8</td><td>Neptune</td><td>A distant ice giant with a vivid blue color.</td><td>1</td><td>11,15</td><td>Hydrogen and helium with methane.</td><td>-214</td><td>Stormy atmosphere and dark spot known as the Great Dark Spot.</td></tr>",
                            "</table>"
                        ]
                    }
                },
                {
                    "output_type": "execute_result",
                    "metadata": {},
                    "execution_count": 20,
                    "data": {
                        "application/vnd.dataresource+json": {
                            "schema": {
                                "fields": [
                                    {
                                        "name": "id"
                                    },
                                    {
                                        "name": "name"
                                    },
                                    {
                                        "name": "description"
                                    },
                                    {
                                        "name": "distance_from_earth"
                                    },
                                    {
                                        "name": "gravity"
                                    },
                                    {
                                        "name": "atmosphere"
                                    },
                                    {
                                        "name": "temperature"
                                    },
                                    {
                                        "name": "surface_features"
                                    }
                                ]
                            },
                            "data": [
                                {
                                    "id": "1",
                                    "name": "Mercury",
                                    "description": "The closest planet to the Sun.",
                                    "distance_from_earth": "57,9",
                                    "gravity": "3,7",
                                    "atmosphere": "Thin atmosphere, mostly hydrogen and helium.",
                                    "temperature": "427",
                                    "surface_features": "Craters and barren surface."
                                },
                                {
                                    "id": "4",
                                    "name": "Mars",
                                    "description": "Often called the \"Red Planet.\"",
                                    "distance_from_earth": "225,9",
                                    "gravity": "3,71",
                                    "atmosphere": "Thin carbon dioxide atmosphere.",
                                    "temperature": "-63",
                                    "surface_features": "Valleys, canyons, and polar ice caps."
                                }
                            ]
                        },
                        "text/html": [
                            "<table>",
                            "<tr><th>id</th><th>name</th><th>description</th><th>distance_from_earth</th><th>gravity</th><th>atmosphere</th><th>temperature</th><th>surface_features</th></tr>",
                            "<tr><td>1</td><td>Mercury</td><td>The closest planet to the Sun.</td><td>57,9</td><td>3,7</td><td>Thin atmosphere, mostly hydrogen and helium.</td><td>427</td><td>Craters and barren surface.</td></tr>",
                            "<tr><td>4</td><td>Mars</td><td>Often called the &quot;Red Planet.&quot;</td><td>225,9</td><td>3,71</td><td>Thin carbon dioxide atmosphere.</td><td>-63</td><td>Valleys, canyons, and polar ice caps.</td></tr>",
                            "</table>"
                        ]
                    }
                },
                {
                    "output_type": "execute_result",
                    "metadata": {},
                    "execution_count": 20,
                    "data": {
                        "application/vnd.dataresource+json": {
                            "schema": {
                                "fields": [
                                    {
                                        "name": "id"
                                    },
                                    {
                                        "name": "name"
                                    },
                                    {
                                        "name": "description"
                                    },
                                    {
                                        "name": "distance_from_earth"
                                    },
                                    {
                                        "name": "gravity"
                                    },
                                    {
                                        "name": "atmosphere"
                                    },
                                    {
                                        "name": "temperature"
                                    },
                                    {
                                        "name": "surface_features"
                                    }
                                ]
                            },
                            "data": [
                                {
                                    "id": "2",
                                    "name": "Venus",
                                    "description": "Known for its thick, toxic atmosphere.",
                                    "distance_from_earth": "108,2",
                                    "gravity": "8,87",
                                    "atmosphere": "Thick carbon dioxide atmosphere.",
                                    "temperature": "467",
                                    "surface_features": "Volcanic plains and highlands."
                                },
                                {
                                    "id": "3",
                                    "name": "Earth",
                                    "description": "The only known planet to support life.",
                                    "distance_from_earth": "0",
                                    "gravity": "9,81",
                                    "atmosphere": "Nitrogen, oxygen, and trace gases.",
                                    "temperature": "14",
                                    "surface_features": "Diverse landscapes and oceans."
                                },
                                {
                                    "id": "5",
                                    "name": "Jupiter",
                                    "description": "The largest planet in our solar system.",
                                    "distance_from_earth": "778,3",
                                    "gravity": "24,79",
                                    "atmosphere": "Primarily hydrogen and helium.",
                                    "temperature": "-145",
                                    "surface_features": "Giant storms and a complex cloud structure."
                                },
                                {
                                    "id": "6",
                                    "name": "Saturn",
                                    "description": "Famous for its striking ring system.",
                                    "distance_from_earth": "1",
                                    "gravity": "10,44",
                                    "atmosphere": "Primarily hydrogen and helium.",
                                    "temperature": "-178",
                                    "surface_features": "Spectacular ring system and numerous moons."
                                },
                                {
                                    "id": "7",
                                    "name": "Uranus",
                                    "description": "A gas giant with a tilted rotation axis.",
                                    "distance_from_earth": "1",
                                    "gravity": "8,69",
                                    "atmosphere": "Hydrogen and helium with traces of methane.",
                                    "temperature": "-224",
                                    "surface_features": "Unique sideways rotation and a few dark rings."
                                },
                                {
                                    "id": "8",
                                    "name": "Neptune",
                                    "description": "A distant ice giant with a vivid blue color.",
                                    "distance_from_earth": "1",
                                    "gravity": "11,15",
                                    "atmosphere": "Hydrogen and helium with methane.",
                                    "temperature": "-214",
                                    "surface_features": "Stormy atmosphere and dark spot known as the Great Dark Spot."
                                }
                            ]
                        },
                        "text/html": [
                            "<table>",
                            "<tr><th>id</th><th>name</th><th>description</th><th>distance_from_earth</th><th>gravity</th><th>atmosphere</th><th>temperature</th><th>surface_features</th></tr>",
                            "<tr><td>2</td><td>Venus</td><td>Known for its thick, toxic atmosphere.</td><td>108,2</td><td>8,87</td><td>Thick carbon dioxide atmosphere.</td><td>467</td><td>Volcanic plains and highlands.</td></tr>",
                            "<tr><td>3</td><td>Earth</td><td>The only known planet to support life.</td><td>0</td><td>9,81</td><td>Nitrogen, oxygen, and trace gases.</td><td>14</td><td>Diverse landscapes and oceans.</td></tr>",
                            "<tr><td>5</td><td>Jupiter</td><td>The largest planet in our solar system.</td><td>778,3</td><td>24,79</td><td>Primarily hydrogen and helium.</td><td>-145</td><td>Giant storms and a complex cloud structure.</td></tr>",
                            "<tr><td>6</td><td>Saturn</td><td>Famous for its striking ring system.</td><td>1</td><td>10,44</td><td>Primarily hydrogen and helium.</td><td>-178</td><td>Spectacular ring system and numerous moons.</td></tr>",
                            "<tr><td>7</td><td>Uranus</td><td>A gas giant with a tilted rotation axis.</td><td>1</td><td>8,69</td><td>Hydrogen and helium with traces of methane.</td><td>-224</td><td>Unique sideways rotation and a few dark rings.</td></tr>",
                            "<tr><td>8</td><td>Neptune</td><td>A distant ice giant with a vivid blue color.</td><td>1</td><td>11,15</td><td>Hydrogen and helium with methane.</td><td>-214</td><td>Stormy atmosphere and dark spot known as the Great Dark Spot.</td></tr>",
                            "</table>"
                        ]
                    }
                },
                {
                    "output_type": "execute_result",
                    "metadata": {},
                    "execution_count": 20,
                    "data": {
                        "application/vnd.dataresource+json": {
                            "schema": {
                                "fields": [
                                    {
                                        "name": "id"
                                    },
                                    {
                                        "name": "name"
                                    },
                                    {
                                        "name": "description"
                                    },
                                    {
                                        "name": "distance_from_earth"
                                    },
                                    {
                                        "name": "gravity"
                                    },
                                    {
                                        "name": "atmosphere"
                                    },
                                    {
                                        "name": "temperature"
                                    },
                                    {
                                        "name": "surface_features"
                                    }
                                ]
                            },
                            "data": [
                                {
                                    "id": "1",
                                    "name": "Mercury",
                                    "description": "The closest planet to the Sun.",
                                    "distance_from_earth": "57,9",
                                    "gravity": "3,7",
                                    "atmosphere": "Thin atmosphere, mostly hydrogen and helium.",
                                    "temperature": "427",
                                    "surface_features": "Craters and barren surface."
                                },
                                {
                                    "id": "4",
                                    "name": "Mars",
                                    "description": "Often called the \"Red Planet.\"",
                                    "distance_from_earth": "225,9",
                                    "gravity": "3,71",
                                    "atmosphere": "Thin carbon dioxide atmosphere.",
                                    "temperature": "-63",
                                    "surface_features": "Valleys, canyons, and polar ice caps."
                                }
                            ]
                        },
                        "text/html": [
                            "<table>",
                            "<tr><th>id</th><th>name</th><th>description</th><th>distance_from_earth</th><th>gravity</th><th>atmosphere</th><th>temperature</th><th>surface_features</th></tr>",
                            "<tr><td>1</td><td>Mercury</td><td>The closest planet to the Sun.</td><td>57,9</td><td>3,7</td><td>Thin atmosphere, mostly hydrogen and helium.</td><td>427</td><td>Craters and barren surface.</td></tr>",
                            "<tr><td>4</td><td>Mars</td><td>Often called the &quot;Red Planet.&quot;</td><td>225,9</td><td>3,71</td><td>Thin carbon dioxide atmosphere.</td><td>-63</td><td>Valleys, canyons, and polar ice caps.</td></tr>",
                            "</table>"
                        ]
                    }
                },
                {
                    "output_type": "execute_result",
                    "metadata": {},
                    "execution_count": 20,
                    "data": {
                        "application/vnd.dataresource+json": {
                            "schema": {
                                "fields": [
                                    {
                                        "name": "id"
                                    },
                                    {
                                        "name": "name"
                                    },
                                    {
                                        "name": "description"
                                    },
                                    {
                                        "name": "distance_from_earth"
                                    },
                                    {
                                        "name": "gravity"
                                    },
                                    {
                                        "name": "atmosphere"
                                    },
                                    {
                                        "name": "temperature"
                                    },
                                    {
                                        "name": "surface_features"
                                    }
                                ]
                            },
                            "data": [
                                {
                                    "id": "2",
                                    "name": "Venus",
                                    "description": "Known for its thick, toxic atmosphere.",
                                    "distance_from_earth": "108,2",
                                    "gravity": "8,87",
                                    "atmosphere": "Thick carbon dioxide atmosphere.",
                                    "temperature": "467",
                                    "surface_features": "Volcanic plains and highlands."
                                },
                                {
                                    "id": "3",
                                    "name": "Earth",
                                    "description": "The only known planet to support life.",
                                    "distance_from_earth": "0",
                                    "gravity": "9,81",
                                    "atmosphere": "Nitrogen, oxygen, and trace gases.",
                                    "temperature": "14",
                                    "surface_features": "Diverse landscapes and oceans."
                                },
                                {
                                    "id": "5",
                                    "name": "Jupiter",
                                    "description": "The largest planet in our solar system.",
                                    "distance_from_earth": "778,3",
                                    "gravity": "24,79",
                                    "atmosphere": "Primarily hydrogen and helium.",
                                    "temperature": "-145",
                                    "surface_features": "Giant storms and a complex cloud structure."
                                },
                                {
                                    "id": "6",
                                    "name": "Saturn",
                                    "description": "Famous for its striking ring system.",
                                    "distance_from_earth": "1",
                                    "gravity": "10,44",
                                    "atmosphere": "Primarily hydrogen and helium.",
                                    "temperature": "-178",
                                    "surface_features": "Spectacular ring system and numerous moons."
                                },
                                {
                                    "id": "7",
                                    "name": "Uranus",
                                    "description": "A gas giant with a tilted rotation axis.",
                                    "distance_from_earth": "1",
                                    "gravity": "8,69",
                                    "atmosphere": "Hydrogen and helium with traces of methane.",
                                    "temperature": "-224",
                                    "surface_features": "Unique sideways rotation and a few dark rings."
                                },
                                {
                                    "id": "8",
                                    "name": "Neptune",
                                    "description": "A distant ice giant with a vivid blue color.",
                                    "distance_from_earth": "1",
                                    "gravity": "11,15",
                                    "atmosphere": "Hydrogen and helium with methane.",
                                    "temperature": "-214",
                                    "surface_features": "Stormy atmosphere and dark spot known as the Great Dark Spot."
                                }
                            ]
                        },
                        "text/html": [
                            "<table>",
                            "<tr><th>id</th><th>name</th><th>description</th><th>distance_from_earth</th><th>gravity</th><th>atmosphere</th><th>temperature</th><th>surface_features</th></tr>",
                            "<tr><td>2</td><td>Venus</td><td>Known for its thick, toxic atmosphere.</td><td>108,2</td><td>8,87</td><td>Thick carbon dioxide atmosphere.</td><td>467</td><td>Volcanic plains and highlands.</td></tr>",
                            "<tr><td>3</td><td>Earth</td><td>The only known planet to support life.</td><td>0</td><td>9,81</td><td>Nitrogen, oxygen, and trace gases.</td><td>14</td><td>Diverse landscapes and oceans.</td></tr>",
                            "<tr><td>5</td><td>Jupiter</td><td>The largest planet in our solar system.</td><td>778,3</td><td>24,79</td><td>Primarily hydrogen and helium.</td><td>-145</td><td>Giant storms and a complex cloud structure.</td></tr>",
                            "<tr><td>6</td><td>Saturn</td><td>Famous for its striking ring system.</td><td>1</td><td>10,44</td><td>Primarily hydrogen and helium.</td><td>-178</td><td>Spectacular ring system and numerous moons.</td></tr>",
                            "<tr><td>7</td><td>Uranus</td><td>A gas giant with a tilted rotation axis.</td><td>1</td><td>8,69</td><td>Hydrogen and helium with traces of methane.</td><td>-224</td><td>Unique sideways rotation and a few dark rings.</td></tr>",
                            "<tr><td>8</td><td>Neptune</td><td>A distant ice giant with a vivid blue color.</td><td>1</td><td>11,15</td><td>Hydrogen and helium with methane.</td><td>-214</td><td>Stormy atmosphere and dark spot known as the Great Dark Spot.</td></tr>",
                            "</table>"
                        ]
                    }
                },
                {
                    "output_type": "execute_result",
                    "metadata": {},
                    "execution_count": 20,
                    "data": {
                        "application/vnd.dataresource+json": {
                            "schema": {
                                "fields": [
                                    {
                                        "name": "id"
                                    },
                                    {
                                        "name": "name"
                                    },
                                    {
                                        "name": "description"
                                    },
                                    {
                                        "name": "distance_from_earth"
                                    },
                                    {
                                        "name": "gravity"
                                    },
                                    {
                                        "name": "atmosphere"
                                    },
                                    {
                                        "name": "temperature"
                                    },
                                    {
                                        "name": "surface_features"
                                    }
                                ]
                            },
                            "data": [
                                {
                                    "id": "1",
                                    "name": "Mercury",
                                    "description": "The closest planet to the Sun.",
                                    "distance_from_earth": "57,9",
                                    "gravity": "3,7",
                                    "atmosphere": "Thin atmosphere, mostly hydrogen and helium.",
                                    "temperature": "427",
                                    "surface_features": "Craters and barren surface."
                                },
                                {
                                    "id": "4",
                                    "name": "Mars",
                                    "description": "Often called the \"Red Planet.\"",
                                    "distance_from_earth": "225,9",
                                    "gravity": "3,71",
                                    "atmosphere": "Thin carbon dioxide atmosphere.",
                                    "temperature": "-63",
                                    "surface_features": "Valleys, canyons, and polar ice caps."
                                }
                            ]
                        },
                        "text/html": [
                            "<table>",
                            "<tr><th>id</th><th>name</th><th>description</th><th>distance_from_earth</th><th>gravity</th><th>atmosphere</th><th>temperature</th><th>surface_features</th></tr>",
                            "<tr><td>1</td><td>Mercury</td><td>The closest planet to the Sun.</td><td>57,9</td><td>3,7</td><td>Thin atmosphere, mostly hydrogen and helium.</td><td>427</td><td>Craters and barren surface.</td></tr>",
                            "<tr><td>4</td><td>Mars</td><td>Often called the &quot;Red Planet.&quot;</td><td>225,9</td><td>3,71</td><td>Thin carbon dioxide atmosphere.</td><td>-63</td><td>Valleys, canyons, and polar ice caps.</td></tr>",
                            "</table>"
                        ]
                    }
                },
                {
                    "output_type": "execute_result",
                    "metadata": {},
                    "execution_count": 20,
                    "data": {
                        "application/vnd.dataresource+json": {
                            "schema": {
                                "fields": [
                                    {
                                        "name": "id"
                                    },
                                    {
                                        "name": "name"
                                    },
                                    {
                                        "name": "description"
                                    },
                                    {
                                        "name": "distance_from_earth"
                                    },
                                    {
                                        "name": "gravity"
                                    },
                                    {
                                        "name": "atmosphere"
                                    },
                                    {
                                        "name": "temperature"
                                    },
                                    {
                                        "name": "surface_features"
                                    }
                                ]
                            },
                            "data": [
                                {
                                    "id": "2",
                                    "name": "Venus",
                                    "description": "Known for its thick, toxic atmosphere.",
                                    "distance_from_earth": "108,2",
                                    "gravity": "8,87",
                                    "atmosphere": "Thick carbon dioxide atmosphere.",
                                    "temperature": "467",
                                    "surface_features": "Volcanic plains and highlands."
                                },
                                {
                                    "id": "3",
                                    "name": "Earth",
                                    "description": "The only known planet to support life.",
                                    "distance_from_earth": "0",
                                    "gravity": "9,81",
                                    "atmosphere": "Nitrogen, oxygen, and trace gases.",
                                    "temperature": "14",
                                    "surface_features": "Diverse landscapes and oceans."
                                },
                                {
                                    "id": "5",
                                    "name": "Jupiter",
                                    "description": "The largest planet in our solar system.",
                                    "distance_from_earth": "778,3",
                                    "gravity": "24,79",
                                    "atmosphere": "Primarily hydrogen and helium.",
                                    "temperature": "-145",
                                    "surface_features": "Giant storms and a complex cloud structure."
                                },
                                {
                                    "id": "6",
                                    "name": "Saturn",
                                    "description": "Famous for its striking ring system.",
                                    "distance_from_earth": "1",
                                    "gravity": "10,44",
                                    "atmosphere": "Primarily hydrogen and helium.",
                                    "temperature": "-178",
                                    "surface_features": "Spectacular ring system and numerous moons."
                                },
                                {
                                    "id": "7",
                                    "name": "Uranus",
                                    "description": "A gas giant with a tilted rotation axis.",
                                    "distance_from_earth": "1",
                                    "gravity": "8,69",
                                    "atmosphere": "Hydrogen and helium with traces of methane.",
                                    "temperature": "-224",
                                    "surface_features": "Unique sideways rotation and a few dark rings."
                                },
                                {
                                    "id": "8",
                                    "name": "Neptune",
                                    "description": "A distant ice giant with a vivid blue color.",
                                    "distance_from_earth": "1",
                                    "gravity": "11,15",
                                    "atmosphere": "Hydrogen and helium with methane.",
                                    "temperature": "-214",
                                    "surface_features": "Stormy atmosphere and dark spot known as the Great Dark Spot."
                                }
                            ]
                        },
                        "text/html": [
                            "<table>",
                            "<tr><th>id</th><th>name</th><th>description</th><th>distance_from_earth</th><th>gravity</th><th>atmosphere</th><th>temperature</th><th>surface_features</th></tr>",
                            "<tr><td>2</td><td>Venus</td><td>Known for its thick, toxic atmosphere.</td><td>108,2</td><td>8,87</td><td>Thick carbon dioxide atmosphere.</td><td>467</td><td>Volcanic plains and highlands.</td></tr>",
                            "<tr><td>3</td><td>Earth</td><td>The only known planet to support life.</td><td>0</td><td>9,81</td><td>Nitrogen, oxygen, and trace gases.</td><td>14</td><td>Diverse landscapes and oceans.</td></tr>",
                            "<tr><td>5</td><td>Jupiter</td><td>The largest planet in our solar system.</td><td>778,3</td><td>24,79</td><td>Primarily hydrogen and helium.</td><td>-145</td><td>Giant storms and a complex cloud structure.</td></tr>",
                            "<tr><td>6</td><td>Saturn</td><td>Famous for its striking ring system.</td><td>1</td><td>10,44</td><td>Primarily hydrogen and helium.</td><td>-178</td><td>Spectacular ring system and numerous moons.</td></tr>",
                            "<tr><td>7</td><td>Uranus</td><td>A gas giant with a tilted rotation axis.</td><td>1</td><td>8,69</td><td>Hydrogen and helium with traces of methane.</td><td>-224</td><td>Unique sideways rotation and a few dark rings.</td></tr>",
                            "<tr><td>8</td><td>Neptune</td><td>A distant ice giant with a vivid blue color.</td><td>1</td><td>11,15</td><td>Hydrogen and helium with methane.</td><td>-214</td><td>Stormy atmosphere and dark spot known as the Great Dark Spot.</td></tr>",
                            "</table>"
                        ]
                    }
                },
                {
                    "output_type": "execute_result",
                    "metadata": {},
                    "execution_count": 20,
                    "data": {
                        "application/vnd.dataresource+json": {
                            "schema": {
                                "fields": [
                                    {
                                        "name": "id"
                                    },
                                    {
                                        "name": "name"
                                    },
                                    {
                                        "name": "description"
                                    },
                                    {
                                        "name": "distance_from_earth"
                                    },
                                    {
                                        "name": "gravity"
                                    },
                                    {
                                        "name": "atmosphere"
                                    },
                                    {
                                        "name": "temperature"
                                    },
                                    {
                                        "name": "surface_features"
                                    }
                                ]
                            },
                            "data": [
                                {
                                    "id": "1",
                                    "name": "Mercury",
                                    "description": "The closest planet to the Sun.",
                                    "distance_from_earth": "57,9",
                                    "gravity": "3,7",
                                    "atmosphere": "Thin atmosphere, mostly hydrogen and helium.",
                                    "temperature": "427",
                                    "surface_features": "Craters and barren surface."
                                },
                                {
                                    "id": "4",
                                    "name": "Mars",
                                    "description": "Often called the \"Red Planet.\"",
                                    "distance_from_earth": "225,9",
                                    "gravity": "3,71",
                                    "atmosphere": "Thin carbon dioxide atmosphere.",
                                    "temperature": "-63",
                                    "surface_features": "Valleys, canyons, and polar ice caps."
                                }
                            ]
                        },
                        "text/html": [
                            "<table>",
                            "<tr><th>id</th><th>name</th><th>description</th><th>distance_from_earth</th><th>gravity</th><th>atmosphere</th><th>temperature</th><th>surface_features</th></tr>",
                            "<tr><td>1</td><td>Mercury</td><td>The closest planet to the Sun.</td><td>57,9</td><td>3,7</td><td>Thin atmosphere, mostly hydrogen and helium.</td><td>427</td><td>Craters and barren surface.</td></tr>",
                            "<tr><td>4</td><td>Mars</td><td>Often called the &quot;Red Planet.&quot;</td><td>225,9</td><td>3,71</td><td>Thin carbon dioxide atmosphere.</td><td>-63</td><td>Valleys, canyons, and polar ice caps.</td></tr>",
                            "</table>"
                        ]
                    }
                },
                {
                    "output_type": "execute_result",
                    "metadata": {},
                    "execution_count": 20,
                    "data": {
                        "application/vnd.dataresource+json": {
                            "schema": {
                                "fields": [
                                    {
                                        "name": "Section"
                                    },
                                    {
                                        "name": "PlanetCount"
                                    },
                                    {
                                        "name": "AverageGravity"
                                    },
                                    {
                                        "name": "MaxTemperature"
                                    }
                                ]
                            },
                            "data": [
                                {
                                    "Section": "Summary",
                                    "PlanetCount": "8",
                                    "AverageGravity": "10,145000000000001",
                                    "MaxTemperature": "467"
                                }
                            ]
                        },
                        "text/html": [
                            "<table>",
                            "<tr><th>Section</th><th>PlanetCount</th><th>AverageGravity</th><th>MaxTemperature</th></tr>",
                            "<tr><td>Summary</td><td>8</td><td>10,145000000000001</td><td>467</td></tr>",
                            "</table>"
                        ]
                    }
                }
            ],
            "execution_count": 20
        }
    ]
}