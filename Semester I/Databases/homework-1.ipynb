{
    "metadata": {
        "kernelspec": {
            "name": "SQL",
            "display_name": "SQL",
            "language": "sql"
        },
        "language_info": {
            "name": "sql",
            "version": ""
        }
    },
    "nbformat_minor": 2,
    "nbformat": 4,
    "cells": [
        {
            "cell_type": "markdown",
            "source": [
                "## Create Table"
            ],
            "metadata": {
                "azdata_cell_guid": "11df1613-8c3f-47b9-bb20-6ef2568da4f1"
            },
            "attachments": {}
        },
        {
            "cell_type": "code",
            "source": [
                "SET ANSI_NULLS ON\n",
                "GO\n",
                "SET QUOTED_IDENTIFIER ON\n",
                "GO\n",
                "CREATE TABLE [dbo].[planets](\n",
                "\t[id] [int] IDENTITY(1,1) NOT NULL,\n",
                "\t[name] [nvarchar](50) NOT NULL,\n",
                "\t[description] [nvarchar](max) NOT NULL,\n",
                "\t[distance_from_earth] [float] NOT NULL,\n",
                "\t[gravity] [float] NOT NULL,\n",
                "\t[atmosphere] [nvarchar](max) NOT NULL,\n",
                "\t[temperature] [float] NOT NULL,\n",
                "\t[surface_features] [nvarchar](max) NOT NULL\n",
                ") ON [PRIMARY] TEXTIMAGE_ON [PRIMARY]\n",
                "GO\n",
                "ALTER TABLE [dbo].[planets] ADD  CONSTRAINT [PK_planets] PRIMARY KEY CLUSTERED \n",
                "(\n",
                "\t[id] ASC\n",
                ")WITH (PAD_INDEX = OFF, STATISTICS_NORECOMPUTE = OFF, SORT_IN_TEMPDB = OFF, IGNORE_DUP_KEY = OFF, ONLINE = OFF, ALLOW_ROW_LOCKS = ON, ALLOW_PAGE_LOCKS = ON) ON [PRIMARY]\n",
                "GO\n",
                ""
            ],
            "metadata": {
                "azdata_cell_guid": "495dd773-9b52-412d-b1d3-60316b5cd2df",
                "language": "sql"
            },
            "outputs": [],
            "execution_count": null
        },
        {
            "cell_type": "markdown",
            "source": [
                "## Drop Table"
            ],
            "metadata": {
                "azdata_cell_guid": "c7206685-9f8c-4d24-8caa-6adbb3be3330"
            },
            "attachments": {}
        },
        {
            "cell_type": "code",
            "source": [
                "DROP TABLE planets;"
            ],
            "metadata": {
                "language": "sql",
                "azdata_cell_guid": "f976bc0f-78e4-49e3-b85d-291a54ae1557"
            },
            "outputs": [],
            "execution_count": null
        },
        {
            "cell_type": "markdown",
            "source": [
                "## Alter Table"
            ],
            "metadata": {
                "azdata_cell_guid": "92a3abcd-48b6-4c80-a6bc-1d0a4a05537b"
            },
            "attachments": {}
        },
        {
            "cell_type": "code",
            "source": [
                "ALTER TABLE planets\n",
                "ALTER COLUMN temperature DECIMAL(10, 2);"
            ],
            "metadata": {
                "azdata_cell_guid": "ec9eceed-6d4b-475a-a37d-5fb8b7149574",
                "language": "sql"
            },
            "outputs": [],
            "execution_count": null
        },
        {
            "cell_type": "markdown",
            "source": [
                "## Insert Data Into Table"
            ],
            "metadata": {
                "azdata_cell_guid": "e9492226-1afa-4c43-96b9-a946ea519a60"
            },
            "attachments": {}
        },
        {
            "cell_type": "code",
            "source": [
                "INSERT INTO planets (name, description, distance_from_earth, gravity, atmosphere, temperature, surface_features)\n",
                "VALUES\n",
                "  ('Mercury', 'The closest planet to the Sun.', 57.9, 3.7, 'Thin atmosphere, mostly hydrogen and helium.', 427, 'Craters and barren surface.'),\n",
                "  ('Venus', 'Known for its thick, toxic atmosphere.', 108.2, 8.87, 'Thick carbon dioxide atmosphere.', 467, 'Volcanic plains and highlands.'),\n",
                "  ('Earth', 'The only known planet to support life.', 0, 9.81, 'Nitrogen, oxygen, and trace gases.', 14, 'Diverse landscapes and oceans.'),\n",
                "  ('Mars', 'Often called the \"Red Planet.\"', 225.9, 3.71, 'Thin carbon dioxide atmosphere.', -63, 'Valleys, canyons, and polar ice caps.'),\n",
                "  ('Jupiter', 'The largest planet in our solar system.', 778.3, 24.79, 'Primarily hydrogen and helium.', -145, 'Giant storms and a complex cloud structure.'),\n",
                "  ('Saturn', 'Famous for its striking ring system.', 1, 10.44, 'Primarily hydrogen and helium.', -178, 'Spectacular ring system and numerous moons.'),\n",
                "  ('Uranus', 'A gas giant with a tilted rotation axis.', 1, 8.69, 'Hydrogen and helium with traces of methane.', -224, 'Unique sideways rotation and a few dark rings.'),\n",
                "  ('Neptune', 'A distant ice giant with a vivid blue color.', 1, 11.15, 'Hydrogen and helium with methane.', -214, 'Stormy atmosphere and dark spot known as the Great Dark Spot.');\n",
                ""
            ],
            "metadata": {
                "azdata_cell_guid": "ee8a3537-c6e7-4fdb-9ef3-73c5b4c445b0",
                "language": "sql"
            },
            "outputs": [
                {
                    "output_type": "display_data",
                    "data": {
                        "text/html": "(8 rows affected)"
                    },
                    "metadata": {}
                },
                {
                    "output_type": "display_data",
                    "data": {
                        "text/html": "Total execution time: 00:00:00.026"
                    },
                    "metadata": {}
                }
            ],
            "execution_count": 2
        },
        {
            "cell_type": "markdown",
            "source": [
                "## Different Queries (FROM, WHERE, GROUP BY, HAVING, SELECT, ORDER BY, TOP)"
            ],
            "metadata": {
                "azdata_cell_guid": "64ff594d-03ac-477d-9aff-d59a060bc7d2"
            },
            "attachments": {}
        },
        {
            "cell_type": "code",
            "source": [
                "SELECT *\n",
                "FROM planets\n",
                "WHERE planets.description LIKE '%Red Planet%'\n",
                "OR planets.atmosphere LIKE 'Thick%'\n",
                "OR (\n",
                "    planets.gravity > 10 AND planets.name IN ('Neptune', 'Uranus', 'Jupiter', 'Earth')\n",
                ");"
            ],
            "metadata": {
                "azdata_cell_guid": "7586b6cc-cc30-408d-9263-ab42d9eae225",
                "language": "sql",
                "tags": []
            },
            "outputs": [
                {
                    "output_type": "display_data",
                    "data": {
                        "text/html": "(4 rows affected)"
                    },
                    "metadata": {}
                },
                {
                    "output_type": "display_data",
                    "data": {
                        "text/html": "Total execution time: 00:00:00.013"
                    },
                    "metadata": {}
                },
                {
                    "output_type": "execute_result",
                    "metadata": {},
                    "execution_count": 20,
                    "data": {
                        "application/vnd.dataresource+json": {
                            "schema": {
                                "fields": [
                                    {
                                        "name": "id"
                                    },
                                    {
                                        "name": "name"
                                    },
                                    {
                                        "name": "description"
                                    },
                                    {
                                        "name": "distance_from_earth"
                                    },
                                    {
                                        "name": "gravity"
                                    },
                                    {
                                        "name": "atmosphere"
                                    },
                                    {
                                        "name": "temperature"
                                    },
                                    {
                                        "name": "surface_features"
                                    }
                                ]
                            },
                            "data": [
                                {
                                    "id": "2",
                                    "name": "Venus",
                                    "description": "Known for its thick, toxic atmosphere.",
                                    "distance_from_earth": "108,2",
                                    "gravity": "8,87",
                                    "atmosphere": "Thick carbon dioxide atmosphere.",
                                    "temperature": "467",
                                    "surface_features": "Volcanic plains and highlands."
                                },
                                {
                                    "id": "4",
                                    "name": "Mars",
                                    "description": "Often called the \"Red Planet.\"",
                                    "distance_from_earth": "225,9",
                                    "gravity": "3,71",
                                    "atmosphere": "Thin carbon dioxide atmosphere.",
                                    "temperature": "-63",
                                    "surface_features": "Valleys, canyons, and polar ice caps."
                                },
                                {
                                    "id": "5",
                                    "name": "Jupiter",
                                    "description": "The largest planet in our solar system.",
                                    "distance_from_earth": "778,3",
                                    "gravity": "24,79",
                                    "atmosphere": "Primarily hydrogen and helium.",
                                    "temperature": "-145",
                                    "surface_features": "Giant storms and a complex cloud structure."
                                },
                                {
                                    "id": "8",
                                    "name": "Neptune",
                                    "description": "A distant ice giant with a vivid blue color.",
                                    "distance_from_earth": "1",
                                    "gravity": "11,15",
                                    "atmosphere": "Hydrogen and helium with methane.",
                                    "temperature": "-214",
                                    "surface_features": "Stormy atmosphere and dark spot known as the Great Dark Spot."
                                }
                            ]
                        },
                        "text/html": [
                            "<table>",
                            "<tr><th>id</th><th>name</th><th>description</th><th>distance_from_earth</th><th>gravity</th><th>atmosphere</th><th>temperature</th><th>surface_features</th></tr>",
                            "<tr><td>2</td><td>Venus</td><td>Known for its thick, toxic atmosphere.</td><td>108,2</td><td>8,87</td><td>Thick carbon dioxide atmosphere.</td><td>467</td><td>Volcanic plains and highlands.</td></tr>",
                            "<tr><td>4</td><td>Mars</td><td>Often called the &quot;Red Planet.&quot;</td><td>225,9</td><td>3,71</td><td>Thin carbon dioxide atmosphere.</td><td>-63</td><td>Valleys, canyons, and polar ice caps.</td></tr>",
                            "<tr><td>5</td><td>Jupiter</td><td>The largest planet in our solar system.</td><td>778,3</td><td>24,79</td><td>Primarily hydrogen and helium.</td><td>-145</td><td>Giant storms and a complex cloud structure.</td></tr>",
                            "<tr><td>8</td><td>Neptune</td><td>A distant ice giant with a vivid blue color.</td><td>1</td><td>11,15</td><td>Hydrogen and helium with methane.</td><td>-214</td><td>Stormy atmosphere and dark spot known as the Great Dark Spot.</td></tr>",
                            "</table>"
                        ]
                    }
                }
            ],
            "execution_count": 20
        },
        {
            "cell_type": "code",
            "source": [
                "SELECT TOP 2\n",
                "    CONCAT(planets.distance_from_earth, ' million km') AS \"Distance from Earth\",\n",
                "    CONCAT('+', AVG(planets.temperature), 'C') AS \"Avarage Temperature\"\n",
                "FROM planets\n",
                "GROUP BY planets.distance_from_earth\n",
                "HAVING AVG(planets.temperature) > 0\n",
                "ORDER BY AVG(planets.temperature) DESC"
            ],
            "metadata": {
                "azdata_cell_guid": "d2251638-c835-4fd5-ad35-cf6fefd78e57",
                "language": "sql",
                "tags": []
            },
            "outputs": [
                {
                    "output_type": "display_data",
                    "data": {
                        "text/html": "(2 rows affected)"
                    },
                    "metadata": {}
                },
                {
                    "output_type": "display_data",
                    "data": {
                        "text/html": "Total execution time: 00:00:00.008"
                    },
                    "metadata": {}
                },
                {
                    "output_type": "execute_result",
                    "metadata": {},
                    "execution_count": 21,
                    "data": {
                        "application/vnd.dataresource+json": {
                            "schema": {
                                "fields": [
                                    {
                                        "name": "Distance from Earth"
                                    },
                                    {
                                        "name": "Avarage Temperature"
                                    }
                                ]
                            },
                            "data": [
                                {
                                    "Distance from Earth": "108.2 million km",
                                    "Avarage Temperature": "+467C"
                                },
                                {
                                    "Distance from Earth": "57.9 million km",
                                    "Avarage Temperature": "+427C"
                                }
                            ]
                        },
                        "text/html": [
                            "<table>",
                            "<tr><th>Distance from Earth</th><th>Avarage Temperature</th></tr>",
                            "<tr><td>108.2 million km</td><td>+467C</td></tr>",
                            "<tr><td>57.9 million km</td><td>+427C</td></tr>",
                            "</table>"
                        ]
                    }
                }
            ],
            "execution_count": 21
        },
        {
            "cell_type": "markdown",
            "source": [
                "## Aggregative Functions"
            ],
            "metadata": {
                "azdata_cell_guid": "1ea0d854-9ea1-44db-b5d1-9464a57874ff"
            },
            "attachments": {}
        },
        {
            "cell_type": "code",
            "source": [
                "SELECT COUNT(*) AS \"Total Planets\"\n",
                "FROM planets;"
            ],
            "metadata": {
                "azdata_cell_guid": "009dc000-121a-4b3b-ac67-9dcb41ee1724",
                "language": "sql"
            },
            "outputs": [
                {
                    "output_type": "display_data",
                    "data": {
                        "text/html": "(1 row affected)"
                    },
                    "metadata": {}
                },
                {
                    "output_type": "display_data",
                    "data": {
                        "text/html": "Total execution time: 00:00:00.031"
                    },
                    "metadata": {}
                },
                {
                    "output_type": "execute_result",
                    "metadata": {},
                    "execution_count": 22,
                    "data": {
                        "application/vnd.dataresource+json": {
                            "schema": {
                                "fields": [
                                    {
                                        "name": "Total Planets"
                                    }
                                ]
                            },
                            "data": [
                                {
                                    "Total Planets": "8"
                                }
                            ]
                        },
                        "text/html": [
                            "<table>",
                            "<tr><th>Total Planets</th></tr>",
                            "<tr><td>8</td></tr>",
                            "</table>"
                        ]
                    }
                }
            ],
            "execution_count": 22
        },
        {
            "cell_type": "code",
            "source": [
                "SELECT AVG(planets.distance_from_earth) AS \"Avatage Distance From Earth\"\n",
                "FROM planets;"
            ],
            "metadata": {
                "language": "sql",
                "azdata_cell_guid": "44d3c05f-55ef-4009-b9d8-540ce12a132a",
                "tags": []
            },
            "outputs": [
                {
                    "output_type": "display_data",
                    "data": {
                        "text/html": "(1 row affected)"
                    },
                    "metadata": {}
                },
                {
                    "output_type": "display_data",
                    "data": {
                        "text/html": "Total execution time: 00:00:00.004"
                    },
                    "metadata": {}
                },
                {
                    "output_type": "execute_result",
                    "metadata": {},
                    "execution_count": 23,
                    "data": {
                        "application/vnd.dataresource+json": {
                            "schema": {
                                "fields": [
                                    {
                                        "name": "Avatage Distance From Earth"
                                    }
                                ]
                            },
                            "data": [
                                {
                                    "Avatage Distance From Earth": "146,6625"
                                }
                            ]
                        },
                        "text/html": [
                            "<table>",
                            "<tr><th>Avatage Distance From Earth</th></tr>",
                            "<tr><td>146,6625</td></tr>",
                            "</table>"
                        ]
                    }
                }
            ],
            "execution_count": 23
        },
        {
            "cell_type": "code",
            "source": [
                "SELECT MAX(planets.gravity) AS \"Max Gravity\"\n",
                "FROM planets"
            ],
            "metadata": {
                "language": "sql",
                "azdata_cell_guid": "2bbd6bba-d2c8-4b45-a534-b96c28e37c28"
            },
            "outputs": [
                {
                    "output_type": "display_data",
                    "data": {
                        "text/html": "(1 row affected)"
                    },
                    "metadata": {}
                },
                {
                    "output_type": "display_data",
                    "data": {
                        "text/html": "Total execution time: 00:00:00.005"
                    },
                    "metadata": {}
                },
                {
                    "output_type": "execute_result",
                    "metadata": {},
                    "execution_count": 24,
                    "data": {
                        "application/vnd.dataresource+json": {
                            "schema": {
                                "fields": [
                                    {
                                        "name": "Max Gravity"
                                    }
                                ]
                            },
                            "data": [
                                {
                                    "Max Gravity": "24,79"
                                }
                            ]
                        },
                        "text/html": [
                            "<table>",
                            "<tr><th>Max Gravity</th></tr>",
                            "<tr><td>24,79</td></tr>",
                            "</table>"
                        ]
                    }
                }
            ],
            "execution_count": 24
        },
        {
            "cell_type": "code",
            "source": [
                "SELECT MIN(planets.temperature) AS \"Minimal Temperature\"\n",
                "FROM planets"
            ],
            "metadata": {
                "language": "sql",
                "azdata_cell_guid": "db058c0a-190a-45dd-8dee-761ab4256ac9",
                "tags": []
            },
            "outputs": [
                {
                    "output_type": "display_data",
                    "data": {
                        "text/html": "(1 row affected)"
                    },
                    "metadata": {}
                },
                {
                    "output_type": "display_data",
                    "data": {
                        "text/html": "Total execution time: 00:00:00.006"
                    },
                    "metadata": {}
                },
                {
                    "output_type": "execute_result",
                    "metadata": {},
                    "execution_count": 29,
                    "data": {
                        "application/vnd.dataresource+json": {
                            "schema": {
                                "fields": [
                                    {
                                        "name": "Minimal Temperature"
                                    }
                                ]
                            },
                            "data": [
                                {
                                    "Minimal Temperature": "-224"
                                }
                            ]
                        },
                        "text/html": [
                            "<table>",
                            "<tr><th>Minimal Temperature</th></tr>",
                            "<tr><td>-224</td></tr>",
                            "</table>"
                        ]
                    }
                }
            ],
            "execution_count": 29
        },
        {
            "cell_type": "code",
            "source": [
                "SELECT SUM(planets.distance_from_earth) AS \"Total Distance From Earth\"\n",
                "FROM planets\n",
                ""
            ],
            "metadata": {
                "language": "sql",
                "azdata_cell_guid": "6defd259-845b-4294-959e-d467a61abac5"
            },
            "outputs": [
{
    "output_type": "display_data",
    "data": {
        "text/html": "(1 row affected)"
    },
    "metadata": {}
}, {
    "output_type": "display_data",
    "data": {
        "text/html": "Total execution time: 00:00:00.003"
    },
    "metadata": {}
}, {
    "output_type": "execute_result",
    "metadata": {},
    "execution_count": 32,
    "data": {
        "application/vnd.dataresource+json": {
            "schema": {
                "fields": [
                    {
                        "name": "Total Distance From Earth"
                    }
                ]
            },
            "data": [
                {
                    "Total Distance From Earth": "1173,3"
                }
            ]
        },
        "text/html": [
            "<table>",
            "<tr><th>Total Distance From Earth</th></tr>",
            "<tr><td>1173,3</td></tr>",
            "</table>"
        ]
    }
}
],
            "execution_count": 32
        }
    ]
}