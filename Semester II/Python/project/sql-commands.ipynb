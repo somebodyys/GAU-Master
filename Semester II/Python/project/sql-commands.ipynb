{
    "cells": [
        {
            "cell_type": "code",
            "execution_count": 1,
            "metadata": {
                "azdata_cell_guid": "b52a09c3-1e71-4738-a0ba-9dd31df42d09",
                "language": "sql",
                "tags": []
            },
            "outputs": [
                {
                    "data": {
                        "text/html": [
                            "Commands completed successfully."
                        ]
                    },
                    "metadata": {},
                    "output_type": "display_data"
                },
                {
                    "data": {
                        "text/html": [
                            "Total execution time: 00:00:00.008"
                        ]
                    },
                    "metadata": {},
                    "output_type": "display_data"
                }
            ],
            "source": [
                "USE library;\n",
                "\n",
                "CREATE TABLE Authors (\n",
                "    author_id INT PRIMARY KEY IDENTITY(1,1),\n",
                "    name NVARCHAR(100) NOT NULL,\n",
                "    nationality NVARCHAR(50)\n",
                ");"
            ]
        },
        {
            "cell_type": "code",
            "execution_count": null,
            "metadata": {
                "azdata_cell_guid": "a498adda-f64e-4a92-895b-ee07751b448e",
                "language": "sql"
            },
            "outputs": [
                {
                    "data": {
                        "text/html": [
                            "Commands completed successfully."
                        ]
                    },
                    "metadata": {},
                    "output_type": "display_data"
                },
                {
                    "data": {
                        "text/html": [
                            "Total execution time: 00:00:00.017"
                        ]
                    },
                    "metadata": {},
                    "output_type": "display_data"
                }
            ],
            "source": [
                "USE library;\n",
                "\n",
                "CREATE TABLE Books (\n",
                "    book_id INT PRIMARY KEY IDENTITY(1,1),\n",
                "    title NVARCHAR(150) NOT NULL,\n",
                "    author_id INT,\n",
                "    genre NVARCHAR(50),\n",
                "    publication_year INT,\n",
                "    FOREIGN KEY (author_id) REFERENCES Authors(author_id)\n",
                ");"
            ]
        },
        {
            "cell_type": "code",
            "execution_count": 3,
            "metadata": {
                "azdata_cell_guid": "4c9d6017-57da-4d62-83f6-c24a3010cc82",
                "language": "sql"
            },
            "outputs": [
                {
                    "data": {
                        "text/html": [
                            "Commands completed successfully."
                        ]
                    },
                    "metadata": {},
                    "output_type": "display_data"
                },
                {
                    "data": {
                        "text/html": [
                            "Total execution time: 00:00:00.011"
                        ]
                    },
                    "metadata": {},
                    "output_type": "display_data"
                }
            ],
            "source": [
                "USE library;\n",
                "\n",
                "CREATE TABLE Members (\n",
                "    member_id INT PRIMARY KEY IDENTITY(1,1),\n",
                "    first_name NVARCHAR(50) NOT NULL,\n",
                "    last_name NVARCHAR(50) NOT NULL,\n",
                "    email NVARCHAR(100),\n",
                "    phone NVARCHAR(15)\n",
                ");"
            ]
        },
        {
            "cell_type": "code",
            "execution_count": null,
            "metadata": {
                "azdata_cell_guid": "d049ff94-5801-4bee-969d-96c3724bf5d8",
                "language": "sql"
            },
            "outputs": [],
            "source": [
                "USE library;\n",
                "\n",
                "CREATE TABLE Loans (\n",
                "    loan_id INT PRIMARY KEY IDENTITY(1,1),\n",
                "    book_id INT,\n",
                "    member_id INT,\n",
                "    loan_date DATE,\n",
                "    return_date DATE,\n",
                "    FOREIGN KEY (book_id) REFERENCES Books(book_id),\n",
                "    FOREIGN KEY (member_id) REFERENCES Members(member_id)\n",
                ");"
            ]
        }
    ],
    "metadata": {
        "kernelspec": {
            "display_name": "SQL",
            "language": "sql",
            "name": "SQL"
        },
        "language_info": {
            "name": "sql",
            "version": ""
        }
    },
    "nbformat": 4,
    "nbformat_minor": 2
}
